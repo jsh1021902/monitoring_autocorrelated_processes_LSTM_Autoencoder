{
 "cells": [
  {
   "cell_type": "code",
   "execution_count": 1,
   "metadata": {},
   "outputs": [],
   "source": [
    "import numpy as np\n",
    "import torch\n",
    "from torch import nn\n",
    "import torch.optim as optim\n",
    "from torch.utils.data import TensorDataset\n",
    "from torch.utils.data import DataLoader\n",
    "import matplotlib.pyplot as plt\n",
    "from sklearn.metrics import mean_squared_error\n",
    "from pytorchtools import EarlyStopping\n",
    "import math\n",
    "from tqdm import tqdm"
   ]
  },
  {
   "cell_type": "markdown",
   "metadata": {},
   "source": [
    "#### Numpy & Python Version 확인"
   ]
  },
  {
   "cell_type": "code",
   "execution_count": 2,
   "metadata": {},
   "outputs": [
    {
     "name": "stdout",
     "output_type": "stream",
     "text": [
      "NumPy 버전: 1.26.4\n",
      "Python 버전: 3.11.9\n"
     ]
    }
   ],
   "source": [
    "import numpy as np\n",
    "import platform\n",
    "\n",
    "# NumPy 버전 확인\n",
    "numpy_version = np.__version__\n",
    "\n",
    "# Python 버전 확인\n",
    "python_version = platform.python_version()\n",
    "\n",
    "print(f\"NumPy 버전: {numpy_version}\")\n",
    "print(f\"Python 버전: {python_version}\")"
   ]
  },
  {
   "cell_type": "markdown",
   "metadata": {},
   "source": [
    "#### CUDA 사용 및 EarlyStopping 설정"
   ]
  },
  {
   "cell_type": "code",
   "execution_count": 3,
   "metadata": {},
   "outputs": [
    {
     "data": {
      "text/plain": [
       "False"
      ]
     },
     "execution_count": 3,
     "metadata": {},
     "output_type": "execute_result"
    }
   ],
   "source": [
    "torch.cuda.is_available()"
   ]
  },
  {
   "cell_type": "code",
   "execution_count": 4,
   "metadata": {},
   "outputs": [
    {
     "name": "stdout",
     "output_type": "stream",
     "text": [
      "cpu\n"
     ]
    }
   ],
   "source": [
    "device = torch.device('cuda:0') if torch.cuda.is_available() else torch.device('cpu')\n",
    "print(device)\n",
    "early_stopping = EarlyStopping(patience = 5, verbose = True)"
   ]
  },
  {
   "cell_type": "markdown",
   "metadata": {},
   "source": [
    "#### 모델 저장"
   ]
  },
  {
   "cell_type": "code",
   "execution_count": 5,
   "metadata": {},
   "outputs": [],
   "source": [
    "def saveModel():\n",
    "    torch.save(model.state_dict(), 'model_lstm_autoencoder_ARMA(1_1).pt') # 모델의 학습된 매개변수 파일에 저장"
   ]
  },
  {
   "cell_type": "markdown",
   "metadata": {},
   "source": [
    "#### 하이퍼 파라미터 설정"
   ]
  },
  {
   "cell_type": "code",
   "execution_count": 6,
   "metadata": {},
   "outputs": [],
   "source": [
    "# 하이퍼파라미터 설정\n",
    "length = 12            # 윈도우 사이즈 (생성할 시계열 데이터의 길이)\n",
    "trainrun = 200       # 생성할 학습 데이터 시퀀스의 수 \n",
    "validrun = 100         # 생성할 검증 데이터 시퀀스의 수 \n",
    "\n",
    "# 시계열 데이터 생성을 위한 매개변수\n",
    "# 자기상관계수 (phi, theta별로 생성)\n",
    "phi = np.array([0.2, 0.2, 0.4, 0.8, 0.8])\n",
    "theta = np.array([-0.2, -0.8, -0.4, -0.2, -0.8])\n",
    "\n",
    "# 변화율 크기\n",
    "psi1 = 0\n",
    "\n",
    "# 공정의 수준 변화율 (delta)\n",
    "de1 = 0\n",
    "\n",
    "# 공정의 분산 변화율 (gamma)\n",
    "ga = 1"
   ]
  },
  {
   "cell_type": "markdown",
   "metadata": {},
   "source": [
    "#### 시계열 데이터 생성"
   ]
  },
  {
   "cell_type": "code",
   "execution_count": 7,
   "metadata": {},
   "outputs": [],
   "source": [
    "np.random.seed(1)\n",
    "\n",
    "# ARMA(1,1) 시계열 데이터 생성 함수\n",
    "def arma1_1(phi, theta, delta, gamma, psi, length, run):\n",
    "    # 초기 설정\n",
    "    y = np.zeros(shape=(run, length))                                                        # 생성될 시계열 데이터를 저장할 빈 배열을 초기화. 배열의 크기는 (생성할 데이터 시퀀스의 수, 각 시퀀스의 길이) \n",
    "    sigma = math.sqrt((1 + 2 * phi * theta + theta**2)/ (1 - phi**2))     # ARMA(1,1)모델의 표준 편차\n",
    "    \n",
    "    # 데이터 시퀀스 생성\n",
    "    for j in range(0, run):                                     # 각 run 마다 랜덤 노이즈(e)를 정규분포에서 추출하여 시계열의 기본 노이즈 생성 (과적합 방지 차원)\n",
    "        e = np.random.normal(loc=0, scale=1, size=length)       \n",
    "        x = np.array(np.repeat(0, length), dtype=np.float64)\n",
    "        \n",
    "        x[0] = e[0]                                             # x 배열 초기화하고, 첫 번째 시점의 값은 첫 번째 노이즈 값으로 설정 (시계열의 시작점에서 발생할 수 있는 임의성 반영 및 자기상관 구조 구현)\n",
    "\n",
    "        # psi 시점 이전의 데이터 생성\n",
    "        for i in range(1, psi):                                 # psi 시점 이전까지는 관리상태 데이터\n",
    "            x[i] = phi * x[i - 1] - theta * e[i-1] + e[i]     # ARMA(1,1)모델의 관리상태\n",
    "            \n",
    "        # psi 시점 이후의 데이터 생성 및 변동성 적용\n",
    "        for i in range(psi,len(x)):                             # ARMA(1,1)모델의 이상상태\n",
    "            e[i] = gamma * e[i]\n",
    "            x[i] = phi * x[i - 1] - theta * e[i-1] + e[i] \n",
    "        \n",
    "        for i in range(psi,len(x)):                             # delta(변동성 크기 조절하는 매개변수)를 통한 추가 변동성 적용\n",
    "            x[i] = x[i] + delta*sigma\n",
    "        \n",
    "        # 최종 데이터 반환 (각 run에 대해 생성된 시계열 데이터를 저장)  \n",
    "        y[j] = x\n",
    "\n",
    "    return y\n",
    "\n",
    "\n",
    "# 다양한 매개변수 조합에 대한 시계열 데이터 세트 생성\n",
    "def totaldat(run,length):\n",
    "    # 빈 데이터 배열 초기화\n",
    "    y = np.empty(shape=(len(phi), run, length))\n",
    "    \n",
    "    # 매개변수 조합별 데이터 생성\n",
    "    for i, (phi_, theta_) in enumerate(zip(phi, theta)):\n",
    "        y[i]= arma1_1(phi_, theta_, de1, ga, psi1, length, run)\n",
    "\n",
    "    return y.reshape(run * len(phi), length)                 # 생성된 데이터를 적절한 형태로 재배열\n",
    "\n"
   ]
  },
  {
   "cell_type": "code",
   "execution_count": 8,
   "metadata": {},
   "outputs": [],
   "source": [
    "# 훈련용 시계열 데이터\n",
    "# 데이터 생성 및 변형\n",
    "train_x = totaldat(trainrun,length)                             # 훈련용 시계열 데이터 생성\n",
    "train_x = train_x.reshape(trainrun*len(phi),length)            \n",
    "\n",
    "# 검증용 시계열 데이터\n",
    "# 데이터 생성 및 변형\n",
    "valid_x = totaldat(run = validrun, length = length)\n",
    "valid_x = valid_x.reshape(validrun*len(phi),length)\n",
    "\n",
    "# PyTorch 텐서로 변환 및 장치 할당\n",
    "device = torch.device(\"cuda\" if torch.cuda.is_available() else \"cpu\")\n",
    "train_x = torch.FloatTensor(train_x).to(device)\n",
    "valid_x = torch.FloatTensor(valid_x).to(device)\n",
    "\n",
    "# DataLoader 설정\n",
    "trainloader = DataLoader(train_x, shuffle=True)                  # 데이터셋에서 미니배치 자동으로 생성 후 모델 학습 및 평가 시 배치 처리를 용이하게 함 (훈련에서는 데이터를 섞어 학습 과정에서의 일반화 능력 향상)\n",
    "validloader = DataLoader(valid_x, shuffle=False)    "
   ]
  },
  {
   "cell_type": "code",
   "execution_count": 9,
   "metadata": {},
   "outputs": [
    {
     "name": "stdout",
     "output_type": "stream",
     "text": [
      "torch.Size([1, 12])\n"
     ]
    }
   ],
   "source": [
    "for data in trainloader:\n",
    "    print(data.shape)\n",
    "    break"
   ]
  },
  {
   "cell_type": "code",
   "execution_count": 10,
   "metadata": {},
   "outputs": [
    {
     "data": {
      "text/plain": [
       "1000"
      ]
     },
     "execution_count": 10,
     "metadata": {},
     "output_type": "execute_result"
    }
   ],
   "source": [
    "len(trainloader)"
   ]
  },
  {
   "cell_type": "code",
   "execution_count": 11,
   "metadata": {},
   "outputs": [
    {
     "data": {
      "text/plain": [
       "500"
      ]
     },
     "execution_count": 11,
     "metadata": {},
     "output_type": "execute_result"
    }
   ],
   "source": [
    "len(validloader)"
   ]
  },
  {
   "cell_type": "code",
   "execution_count": 12,
   "metadata": {},
   "outputs": [
    {
     "data": {
      "text/plain": [
       "12"
      ]
     },
     "execution_count": 12,
     "metadata": {},
     "output_type": "execute_result"
    }
   ],
   "source": [
    "train_x.shape[1]"
   ]
  },
  {
   "cell_type": "markdown",
   "metadata": {},
   "source": [
    "#### LSTM Autoencoder 구조"
   ]
  },
  {
   "cell_type": "code",
   "execution_count": 13,
   "metadata": {},
   "outputs": [],
   "source": [
    "import torch\n",
    "import torch.nn as nn\n",
    "from torch.utils.data import DataLoader, TensorDataset\n",
    "\n",
    "# LSTM Encoder 클래스 정의\n",
    "class LSTMEncoder(nn.Module):\n",
    "    def __init__(self, input_dim, hidden_dim, latent_dim):\n",
    "        super(LSTMEncoder, self).__init__()\n",
    "        self.hidden_dim = hidden_dim\n",
    "        self.latent_dim = latent_dim\n",
    "        self.lstm = nn.LSTM(input_dim, hidden_dim, num_layers=2, batch_first=True)\n",
    "        self.hidden_to_latent = nn.Linear(hidden_dim, latent_dim)\n",
    "\n",
    "    def forward(self, x):\n",
    "        _, (hidden, _) = self.lstm(x)\n",
    "        return self.hidden_to_latent(hidden[-1])\n",
    "\n",
    "# LSTM Decoder 클래스 정의\n",
    "class LSTMDecoder(nn.Module):\n",
    "    def __init__(self, latent_dim, hidden_dim, output_dim, seq_length):\n",
    "        super(LSTMDecoder, self).__init__()\n",
    "        self.hidden_dim = hidden_dim\n",
    "        self.seq_length = seq_length\n",
    "        self.latent_to_hidden = nn.Linear(latent_dim, hidden_dim)\n",
    "        self.lstm = nn.LSTM(hidden_dim, hidden_dim, num_layers=2, batch_first=True)\n",
    "        self.outputs_to_data = nn.Linear(hidden_dim, output_dim)\n",
    "\n",
    "    def forward(self, z):\n",
    "        z = self.latent_to_hidden(z).unsqueeze(0)\n",
    "        repeated_z = z.repeat(self.seq_length, 1, 1).transpose(0, 1)\n",
    "        lstm_out, _ = self.lstm(repeated_z)\n",
    "        return self.outputs_to_data(lstm_out)\n",
    "\n",
    "# 전체 LSTM 오토인코더 모델\n",
    "class LSTMAutoencoder(nn.Module):\n",
    "    def __init__(self, input_dim, seq_length, hidden_dim=128, latent_dim=1):\n",
    "        super(LSTMAutoencoder, self).__init__()\n",
    "        self.encoder = LSTMEncoder(input_dim, hidden_dim, latent_dim)\n",
    "        self.decoder = LSTMDecoder(latent_dim, hidden_dim, input_dim, seq_length)\n",
    "\n",
    "    def forward(self, x):\n",
    "        z = self.encoder(x)\n",
    "        return self.decoder(z)\n",
    "\n",
    "# 모델 인스턴스 생성 및 설정\n",
    "model = LSTMAutoencoder(input_dim=length, seq_length=length, hidden_dim=128, latent_dim=1)\n",
    "model = model.to(device)"
   ]
  },
  {
   "cell_type": "code",
   "execution_count": 14,
   "metadata": {},
   "outputs": [],
   "source": [
    "import torch.optim as optim\n",
    "\n",
    "criterion = nn.MSELoss()\n",
    "optimizer = optim.Adam(model.parameters(), lr=1e-6)  # You can adjust the initial lr based on your model and training needs\n",
    "# scheduler = optim.lr_scheduler.ReduceLROnPlateau(optimizer, mode='min', factor=0.1, patience=10, verbose=True)"
   ]
  },
  {
   "cell_type": "code",
   "execution_count": 21,
   "metadata": {},
   "outputs": [
    {
     "name": "stderr",
     "output_type": "stream",
     "text": [
      "/opt/homebrew/Caskroom/miniforge/base/envs/python3119/lib/python3.11/site-packages/torch/nn/modules/loss.py:535: UserWarning: Using a target size (torch.Size([1, 12])) that is different to the input size (torch.Size([1, 12, 12])). This will likely lead to incorrect results due to broadcasting. Please ensure they have the same size.\n",
      "  return F.mse_loss(input, target, reduction=self.reduction)\n"
     ]
    },
    {
     "name": "stdout",
     "output_type": "stream",
     "text": [
      "Epoch 1, Train Loss: 2.8348, Validation Loss: 2.9523\n",
      "Validation loss decreased (inf --> 2.952266).  Saving model ...\n",
      "Epoch 2, Train Loss: 2.8341, Validation Loss: 2.9521\n",
      "Validation loss decreased (2.952266 --> 2.952068).  Saving model ...\n",
      "Epoch 3, Train Loss: 2.8335, Validation Loss: 2.9519\n",
      "Validation loss decreased (2.952068 --> 2.951875).  Saving model ...\n",
      "Epoch 4, Train Loss: 2.8328, Validation Loss: 2.9517\n",
      "Validation loss decreased (2.951875 --> 2.951714).  Saving model ...\n",
      "Epoch 5, Train Loss: 2.8323, Validation Loss: 2.9515\n",
      "Validation loss decreased (2.951714 --> 2.951545).  Saving model ...\n",
      "Epoch 6, Train Loss: 2.8316, Validation Loss: 2.9514\n",
      "Validation loss decreased (2.951545 --> 2.951364).  Saving model ...\n",
      "Epoch 7, Train Loss: 2.8311, Validation Loss: 2.9512\n",
      "Validation loss decreased (2.951364 --> 2.951166).  Saving model ...\n",
      "Epoch 8, Train Loss: 2.8305, Validation Loss: 2.9509\n",
      "Validation loss decreased (2.951166 --> 2.950941).  Saving model ...\n",
      "Epoch 9, Train Loss: 2.8298, Validation Loss: 2.9506\n",
      "Validation loss decreased (2.950941 --> 2.950649).  Saving model ...\n",
      "Epoch 10, Train Loss: 2.8291, Validation Loss: 2.9503\n",
      "Validation loss decreased (2.950649 --> 2.950309).  Saving model ...\n",
      "Epoch 11, Train Loss: 2.8283, Validation Loss: 2.9499\n",
      "Validation loss decreased (2.950309 --> 2.949858).  Saving model ...\n",
      "Epoch 12, Train Loss: 2.8275, Validation Loss: 2.9493\n",
      "Validation loss decreased (2.949858 --> 2.949320).  Saving model ...\n",
      "Epoch 13, Train Loss: 2.8265, Validation Loss: 2.9486\n",
      "Validation loss decreased (2.949320 --> 2.948622).  Saving model ...\n",
      "Epoch 14, Train Loss: 2.8253, Validation Loss: 2.9477\n",
      "Validation loss decreased (2.948622 --> 2.947726).  Saving model ...\n",
      "Epoch 15, Train Loss: 2.8239, Validation Loss: 2.9466\n",
      "Validation loss decreased (2.947726 --> 2.946633).  Saving model ...\n",
      "Epoch 16, Train Loss: 2.8223, Validation Loss: 2.9452\n",
      "Validation loss decreased (2.946633 --> 2.945234).  Saving model ...\n",
      "Epoch 17, Train Loss: 2.8204, Validation Loss: 2.9435\n",
      "Validation loss decreased (2.945234 --> 2.943451).  Saving model ...\n",
      "Epoch 18, Train Loss: 2.8179, Validation Loss: 2.9412\n",
      "Validation loss decreased (2.943451 --> 2.941161).  Saving model ...\n",
      "Epoch 19, Train Loss: 2.8149, Validation Loss: 2.9383\n",
      "Validation loss decreased (2.941161 --> 2.938283).  Saving model ...\n",
      "Epoch 20, Train Loss: 2.8112, Validation Loss: 2.9346\n",
      "Validation loss decreased (2.938283 --> 2.934575).  Saving model ...\n",
      "Epoch 21, Train Loss: 2.8066, Validation Loss: 2.9299\n",
      "Validation loss decreased (2.934575 --> 2.929908).  Saving model ...\n",
      "Epoch 22, Train Loss: 2.8008, Validation Loss: 2.9239\n",
      "Validation loss decreased (2.929908 --> 2.923917).  Saving model ...\n",
      "Epoch 23, Train Loss: 2.7935, Validation Loss: 2.9161\n",
      "Validation loss decreased (2.923917 --> 2.916119).  Saving model ...\n",
      "Epoch 24, Train Loss: 2.7842, Validation Loss: 2.9063\n",
      "Validation loss decreased (2.916119 --> 2.906345).  Saving model ...\n",
      "Epoch 25, Train Loss: 2.7724, Validation Loss: 2.8937\n",
      "Validation loss decreased (2.906345 --> 2.893726).  Saving model ...\n",
      "Epoch 26, Train Loss: 2.7576, Validation Loss: 2.8779\n",
      "Validation loss decreased (2.893726 --> 2.877933).  Saving model ...\n",
      "Epoch 27, Train Loss: 2.7390, Validation Loss: 2.8577\n",
      "Validation loss decreased (2.877933 --> 2.857701).  Saving model ...\n",
      "Epoch 28, Train Loss: 2.7158, Validation Loss: 2.8327\n",
      "Validation loss decreased (2.857701 --> 2.832735).  Saving model ...\n",
      "Epoch 29, Train Loss: 2.6876, Validation Loss: 2.8027\n",
      "Validation loss decreased (2.832735 --> 2.802739).  Saving model ...\n",
      "Epoch 30, Train Loss: 2.6550, Validation Loss: 2.7685\n",
      "Validation loss decreased (2.802739 --> 2.768544).  Saving model ...\n",
      "Epoch 31, Train Loss: 2.6176, Validation Loss: 2.7297\n",
      "Validation loss decreased (2.768544 --> 2.729673).  Saving model ...\n",
      "Epoch 32, Train Loss: 2.5766, Validation Loss: 2.6881\n",
      "Validation loss decreased (2.729673 --> 2.688096).  Saving model ...\n",
      "Epoch 33, Train Loss: 2.5337, Validation Loss: 2.6455\n",
      "Validation loss decreased (2.688096 --> 2.645450).  Saving model ...\n",
      "Epoch 34, Train Loss: 2.4912, Validation Loss: 2.6044\n",
      "Validation loss decreased (2.645450 --> 2.604372).  Saving model ...\n",
      "Epoch 35, Train Loss: 2.4506, Validation Loss: 2.5659\n",
      "Validation loss decreased (2.604372 --> 2.565887).  Saving model ...\n",
      "Epoch 36, Train Loss: 2.4133, Validation Loss: 2.5310\n",
      "Validation loss decreased (2.565887 --> 2.531023).  Saving model ...\n",
      "Epoch 37, Train Loss: 2.3798, Validation Loss: 2.4999\n",
      "Validation loss decreased (2.531023 --> 2.499943).  Saving model ...\n",
      "Epoch 38, Train Loss: 2.3504, Validation Loss: 2.4731\n",
      "Validation loss decreased (2.499943 --> 2.473114).  Saving model ...\n",
      "Epoch 39, Train Loss: 2.3246, Validation Loss: 2.4492\n",
      "Validation loss decreased (2.473114 --> 2.449193).  Saving model ...\n",
      "Epoch 40, Train Loss: 2.3018, Validation Loss: 2.4282\n",
      "Validation loss decreased (2.449193 --> 2.428224).  Saving model ...\n",
      "Epoch 41, Train Loss: 2.2815, Validation Loss: 2.4091\n",
      "Validation loss decreased (2.428224 --> 2.409101).  Saving model ...\n",
      "Epoch 42, Train Loss: 2.2630, Validation Loss: 2.3915\n",
      "Validation loss decreased (2.409101 --> 2.391548).  Saving model ...\n",
      "Epoch 43, Train Loss: 2.2458, Validation Loss: 2.3748\n",
      "Validation loss decreased (2.391548 --> 2.374795).  Saving model ...\n",
      "Epoch 44, Train Loss: 2.2295, Validation Loss: 2.3587\n",
      "Validation loss decreased (2.374795 --> 2.358685).  Saving model ...\n",
      "Epoch 45, Train Loss: 2.2135, Validation Loss: 2.3428\n",
      "Validation loss decreased (2.358685 --> 2.342750).  Saving model ...\n",
      "Epoch 46, Train Loss: 2.1980, Validation Loss: 2.3272\n",
      "Validation loss decreased (2.342750 --> 2.327191).  Saving model ...\n",
      "Epoch 47, Train Loss: 2.1827, Validation Loss: 2.3116\n",
      "Validation loss decreased (2.327191 --> 2.311629).  Saving model ...\n",
      "Epoch 48, Train Loss: 2.1676, Validation Loss: 2.2963\n",
      "Validation loss decreased (2.311629 --> 2.296259).  Saving model ...\n",
      "Epoch 49, Train Loss: 2.1525, Validation Loss: 2.2808\n",
      "Validation loss decreased (2.296259 --> 2.280841).  Saving model ...\n",
      "Epoch 50, Train Loss: 2.1375, Validation Loss: 2.2655\n",
      "Validation loss decreased (2.280841 --> 2.265484).  Saving model ...\n",
      "Epoch 51, Train Loss: 2.1226, Validation Loss: 2.2504\n",
      "Validation loss decreased (2.265484 --> 2.250427).  Saving model ...\n",
      "Epoch 52, Train Loss: 2.1080, Validation Loss: 2.2359\n",
      "Validation loss decreased (2.250427 --> 2.235913).  Saving model ...\n",
      "Epoch 53, Train Loss: 2.0936, Validation Loss: 2.2213\n",
      "Validation loss decreased (2.235913 --> 2.221314).  Saving model ...\n",
      "Epoch 54, Train Loss: 2.0795, Validation Loss: 2.2073\n",
      "Validation loss decreased (2.221314 --> 2.207320).  Saving model ...\n",
      "Epoch 55, Train Loss: 2.0658, Validation Loss: 2.1936\n",
      "Validation loss decreased (2.207320 --> 2.193619).  Saving model ...\n",
      "Epoch 56, Train Loss: 2.0525, Validation Loss: 2.1804\n",
      "Validation loss decreased (2.193619 --> 2.180435).  Saving model ...\n",
      "Epoch 57, Train Loss: 2.0397, Validation Loss: 2.1677\n",
      "Validation loss decreased (2.180435 --> 2.167668).  Saving model ...\n",
      "Epoch 58, Train Loss: 2.0272, Validation Loss: 2.1553\n",
      "Validation loss decreased (2.167668 --> 2.155294).  Saving model ...\n",
      "Epoch 59, Train Loss: 2.0152, Validation Loss: 2.1434\n",
      "Validation loss decreased (2.155294 --> 2.143386).  Saving model ...\n",
      "Epoch 60, Train Loss: 2.0038, Validation Loss: 2.1321\n",
      "Validation loss decreased (2.143386 --> 2.132085).  Saving model ...\n",
      "Epoch 61, Train Loss: 1.9927, Validation Loss: 2.1211\n",
      "Validation loss decreased (2.132085 --> 2.121124).  Saving model ...\n",
      "Epoch 62, Train Loss: 1.9820, Validation Loss: 2.1107\n",
      "Validation loss decreased (2.121124 --> 2.110669).  Saving model ...\n",
      "Epoch 63, Train Loss: 1.9717, Validation Loss: 2.1004\n",
      "Validation loss decreased (2.110669 --> 2.100376).  Saving model ...\n",
      "Epoch 64, Train Loss: 1.9619, Validation Loss: 2.0907\n",
      "Validation loss decreased (2.100376 --> 2.090653).  Saving model ...\n",
      "Epoch 65, Train Loss: 1.9525, Validation Loss: 2.0814\n",
      "Validation loss decreased (2.090653 --> 2.081364).  Saving model ...\n",
      "Epoch 66, Train Loss: 1.9434, Validation Loss: 2.0723\n",
      "Validation loss decreased (2.081364 --> 2.072259).  Saving model ...\n",
      "Epoch 67, Train Loss: 1.9346, Validation Loss: 2.0635\n",
      "Validation loss decreased (2.072259 --> 2.063463).  Saving model ...\n",
      "Epoch 68, Train Loss: 1.9261, Validation Loss: 2.0550\n",
      "Validation loss decreased (2.063463 --> 2.055030).  Saving model ...\n",
      "Epoch 69, Train Loss: 1.9179, Validation Loss: 2.0471\n",
      "Validation loss decreased (2.055030 --> 2.047058).  Saving model ...\n",
      "Epoch 70, Train Loss: 1.9101, Validation Loss: 2.0391\n",
      "Validation loss decreased (2.047058 --> 2.039122).  Saving model ...\n",
      "Epoch 71, Train Loss: 1.9024, Validation Loss: 2.0316\n",
      "Validation loss decreased (2.039122 --> 2.031621).  Saving model ...\n",
      "Epoch 72, Train Loss: 1.8950, Validation Loss: 2.0242\n",
      "Validation loss decreased (2.031621 --> 2.024184).  Saving model ...\n",
      "Epoch 73, Train Loss: 1.8880, Validation Loss: 2.0172\n",
      "Validation loss decreased (2.024184 --> 2.017201).  Saving model ...\n",
      "Epoch 74, Train Loss: 1.8812, Validation Loss: 2.0105\n",
      "Validation loss decreased (2.017201 --> 2.010505).  Saving model ...\n",
      "Epoch 75, Train Loss: 1.8746, Validation Loss: 2.0040\n",
      "Validation loss decreased (2.010505 --> 2.003973).  Saving model ...\n",
      "Epoch 76, Train Loss: 1.8683, Validation Loss: 1.9976\n",
      "Validation loss decreased (2.003973 --> 1.997557).  Saving model ...\n",
      "Epoch 77, Train Loss: 1.8620, Validation Loss: 1.9913\n",
      "Validation loss decreased (1.997557 --> 1.991333).  Saving model ...\n",
      "Epoch 78, Train Loss: 1.8561, Validation Loss: 1.9854\n",
      "Validation loss decreased (1.991333 --> 1.985446).  Saving model ...\n",
      "Epoch 79, Train Loss: 1.8503, Validation Loss: 1.9797\n",
      "Validation loss decreased (1.985446 --> 1.979705).  Saving model ...\n",
      "Epoch 80, Train Loss: 1.8448, Validation Loss: 1.9741\n",
      "Validation loss decreased (1.979705 --> 1.974138).  Saving model ...\n",
      "Epoch 81, Train Loss: 1.8394, Validation Loss: 1.9687\n",
      "Validation loss decreased (1.974138 --> 1.968700).  Saving model ...\n",
      "Epoch 82, Train Loss: 1.8342, Validation Loss: 1.9636\n",
      "Validation loss decreased (1.968700 --> 1.963594).  Saving model ...\n",
      "Epoch 83, Train Loss: 1.8291, Validation Loss: 1.9586\n",
      "Validation loss decreased (1.963594 --> 1.958566).  Saving model ...\n",
      "Epoch 84, Train Loss: 1.8242, Validation Loss: 1.9536\n",
      "Validation loss decreased (1.958566 --> 1.953583).  Saving model ...\n",
      "Epoch 85, Train Loss: 1.8195, Validation Loss: 1.9489\n",
      "Validation loss decreased (1.953583 --> 1.948888).  Saving model ...\n",
      "Epoch 86, Train Loss: 1.8149, Validation Loss: 1.9443\n",
      "Validation loss decreased (1.948888 --> 1.944338).  Saving model ...\n",
      "Epoch 87, Train Loss: 1.8105, Validation Loss: 1.9400\n",
      "Validation loss decreased (1.944338 --> 1.939967).  Saving model ...\n",
      "Epoch 88, Train Loss: 1.8062, Validation Loss: 1.9357\n",
      "Validation loss decreased (1.939967 --> 1.935668).  Saving model ...\n",
      "Epoch 89, Train Loss: 1.8020, Validation Loss: 1.9315\n",
      "Validation loss decreased (1.935668 --> 1.931532).  Saving model ...\n",
      "Epoch 90, Train Loss: 1.7979, Validation Loss: 1.9275\n",
      "Validation loss decreased (1.931532 --> 1.927496).  Saving model ...\n",
      "Epoch 91, Train Loss: 1.7939, Validation Loss: 1.9236\n",
      "Validation loss decreased (1.927496 --> 1.923556).  Saving model ...\n",
      "Epoch 92, Train Loss: 1.7901, Validation Loss: 1.9197\n",
      "Validation loss decreased (1.923556 --> 1.919673).  Saving model ...\n",
      "Epoch 93, Train Loss: 1.7863, Validation Loss: 1.9160\n",
      "Validation loss decreased (1.919673 --> 1.916002).  Saving model ...\n",
      "Epoch 94, Train Loss: 1.7826, Validation Loss: 1.9124\n",
      "Validation loss decreased (1.916002 --> 1.912381).  Saving model ...\n",
      "Epoch 95, Train Loss: 1.7791, Validation Loss: 1.9089\n",
      "Validation loss decreased (1.912381 --> 1.908862).  Saving model ...\n",
      "Epoch 96, Train Loss: 1.7757, Validation Loss: 1.9055\n",
      "Validation loss decreased (1.908862 --> 1.905467).  Saving model ...\n",
      "Epoch 97, Train Loss: 1.7723, Validation Loss: 1.9022\n",
      "Validation loss decreased (1.905467 --> 1.902160).  Saving model ...\n",
      "Epoch 98, Train Loss: 1.7690, Validation Loss: 1.8988\n",
      "Validation loss decreased (1.902160 --> 1.898814).  Saving model ...\n",
      "Epoch 99, Train Loss: 1.7658, Validation Loss: 1.8957\n",
      "Validation loss decreased (1.898814 --> 1.895682).  Saving model ...\n",
      "Epoch 100, Train Loss: 1.7628, Validation Loss: 1.8926\n",
      "Validation loss decreased (1.895682 --> 1.892647).  Saving model ...\n"
     ]
    },
    {
     "data": {
      "image/png": "[encoded data removed]",
      "text/plain": [
       "<Figure size 1000x500 with 1 Axes>"
      ]
     },
     "metadata": {},
     "output_type": "display_data"
    }
   ],
   "source": [
    "def training(epochs):\n",
    "    loss_ = []\n",
    "    valoss_ = []\n",
    "\n",
    "    for epoch in range(epochs):\n",
    "        running_train_loss = 0.0\n",
    "        running_vall_loss = 0.0\n",
    "\n",
    "        # Training process\n",
    "        for data in trainloader:\n",
    "            model.train()\n",
    "            inputs = data                                                           # Assuming data is the input tensor\n",
    "            inputs = inputs.to(device)\n",
    "            optimizer.zero_grad()\n",
    "            predicted_outputs = model(inputs)\n",
    "            train_loss = criterion(predicted_outputs, inputs)\n",
    "            train_loss.backward()\n",
    "            optimizer.step()\n",
    "            running_train_loss += train_loss.item()\n",
    "\n",
    "        # Calculate average training loss for the epoch\n",
    "        avg_train_loss = running_train_loss / len(trainloader)\n",
    "        loss_.append(avg_train_loss)\n",
    "        \n",
    "        # Validation process\n",
    "        with torch.no_grad():\n",
    "            model.eval()\n",
    "            for data in validloader:\n",
    "                inputs = data\n",
    "                inputs = inputs.to(device)\n",
    "                predicted_outputs = model(inputs)\n",
    "                val_loss = criterion(predicted_outputs, inputs)\n",
    "                running_vall_loss += val_loss.item()\n",
    "\n",
    "            avg_val_loss = running_vall_loss / len(validloader)\n",
    "            valoss_.append(avg_val_loss)\n",
    "\n",
    "        print(f'Epoch {epoch + 1}, Train Loss: {avg_train_loss:.4f}, Validation Loss: {avg_val_loss:.4f}')\n",
    "        \n",
    "        # Early Stopping\n",
    "        early_stopping(avg_val_loss, model)\n",
    "        if early_stopping.early_stop:\n",
    "            print(\"Early stopping\")\n",
    "            break\n",
    " \n",
    "    # Save model\n",
    "    saveModel()\n",
    "    return loss_, valoss_  # Return the collected loss values for training and validation\n",
    "\n",
    "# Now when you call training, it will return the lists to be unpacked.\n",
    "loss_, valoss_ = training(epochs=400)  # Set the appropriate number of epochs\n",
    "\n",
    "# Loss visualization\n",
    "plt.figure(figsize=(10, 5))\n",
    "plt.plot(loss_, label='Train Loss')\n",
    "plt.plot(valoss_, label='Validation Loss')\n",
    "plt.xlabel('Epochs')\n",
    "plt.ylabel('Loss')\n",
    "plt.legend()\n",
    "plt.show()"
   ]
  },
  {
   "cell_type": "markdown",
   "metadata": {},
   "source": [
    "#### 모델 불러오기"
   ]
  },
  {
   "cell_type": "code",
   "execution_count": 15,
   "metadata": {},
   "outputs": [
    {
     "data": {
      "text/plain": [
       "<All keys matched successfully>"
      ]
     },
     "execution_count": 15,
     "metadata": {},
     "output_type": "execute_result"
    }
   ],
   "source": [
    "model.load_state_dict(torch.load('model_lstm_autoencoder_ARMA(1_1).pt', map_location=torch.device('cpu')))"
   ]
  },
  {
   "cell_type": "markdown",
   "metadata": {},
   "source": [
    "#### ARL0 함수"
   ]
  },
  {
   "cell_type": "code",
   "execution_count": 16,
   "metadata": {},
   "outputs": [],
   "source": [
    "np.random.seed(1)\n",
    "\n",
    "l = 12 # 윈도우 사이즈\n",
    "\n",
    "# ARMA(1,1) 시계열 관리상태 데이터 생성 함수\n",
    "def arma1_1_gen(phi, theta, psi, delta, gamma, length) :\n",
    "\n",
    "    e = np.random.normal(loc=0, scale = 1,size = length)\n",
    "    sigma = math.sqrt((1 + 2 * phi * theta + theta**2)/ (1 - phi**2))\n",
    "    x = np.array(np.repeat(0, length), dtype= np.float64)\n",
    "    x[0] = e[0]\n",
    "    z = np.array(np.repeat(0, length), dtype=np.float64)\n",
    "\n",
    "    for i in range(1, psi):\n",
    "        x[i] = phi * x[i - 1] - theta * e[i-1] + e[i]\n",
    "        z[i] = x[i]\n",
    "        \n",
    "    for i in range(psi,len(x)):\n",
    "        x[i] = phi * x[i - 1] - theta * e[i-1] + gamma * e[i]\n",
    "        z[i] = x[i]\n",
    "        \n",
    "    for i in range(psi,len(z)):\n",
    "        z[i] = z[i] + delta * sigma\n",
    "\n",
    "    return z"
   ]
  },
  {
   "cell_type": "code",
   "execution_count": 17,
   "metadata": {},
   "outputs": [],
   "source": [
    "def arl(phi, theta, delta, gamma, run, length, cl) :\n",
    "    rl = np.array([], dtype=np.float64)\n",
    "\n",
    "    for i in tqdm(range(run)) :\n",
    "        y = arma1_1_gen(phi, theta, psi=l-1, delta=delta, gamma = gamma,length=length)\n",
    "        a = np.array([length-l])\n",
    "        x = np.zeros(shape=(length-l, l)) \n",
    "        for j in range(length-l):\n",
    "            x[j] = y[j: j + l]\n",
    "        x = torch.FloatTensor(x).to(device)\n",
    "\n",
    "        model.eval()\n",
    "        with torch.no_grad():\n",
    "            for j in range(0,len(x)):\n",
    "                input = x[[j]]\n",
    "\n",
    "                output = model(input)\n",
    "                \n",
    "                mse_loss = nn.MSELoss()\n",
    "                loss = mse_loss(output[0], input[0])\n",
    "\n",
    "                if loss > cl :\n",
    "                    a = np.array([j + 1])\n",
    "                    break\n",
    "                elif j == len(x):\n",
    "                    a = len(x)\n",
    "            rl = np.append(rl,a)\n",
    "\n",
    "    arl = np.mean(rl)\n",
    "    return arl\n"
   ]
  },
  {
   "cell_type": "markdown",
   "metadata": {},
   "source": [
    "#### ARL1 함수"
   ]
  },
  {
   "cell_type": "code",
   "execution_count": 18,
   "metadata": {},
   "outputs": [],
   "source": [
    "def arl1(phi, theta, run, length, cl):\n",
    "    a5 = arl(phi, theta, 0.5, 1, run, length, cl)\n",
    "    a1 = arl(phi, theta, 1, 1, run, length, cl)\n",
    "    a2 = arl(phi, theta, 2, 1, run, length, cl)\n",
    "    a3 = arl(phi, theta, 3, 1, run, length, cl)\n",
    "    b5 = arl(phi, theta, 0.5, 1.5,run, length, cl)\n",
    "    b1 = arl(phi, theta, 1, 1.5, run, length, cl)\n",
    "    b2 = arl(phi, theta, 2, 1.5, run, length, cl)\n",
    "    b3 = arl(phi, theta, 3, 1, run, length, cl)\n",
    "    c1 = arl(phi, theta, 0, 1.5, run, length, cl)\n",
    "    c2 = arl(phi, theta, 0, 2, run, length, cl)\n",
    "    c3 = arl(phi, theta, 0, 3, run, length, cl)\n",
    "    print(f'0.5: {a5}, 1:{a1},2:{a2},3:{a3}')\n",
    "    print(f'0.5:{b5},1:{b1},2:{b2},3:{b3}')\n",
    "    print(f'1.5:{c1},2:{c2},3:{c3}')"
   ]
  },
  {
   "cell_type": "markdown",
   "metadata": {},
   "source": [
    "#### phi = 0.2, theta = -0.2 일 때"
   ]
  },
  {
   "cell_type": "markdown",
   "metadata": {},
   "source": [
    "##### ARL0 (threshold 임의추정)"
   ]
  },
  {
   "cell_type": "code",
   "execution_count": 20,
   "metadata": {},
   "outputs": [
    {
     "name": "stderr",
     "output_type": "stream",
     "text": [
      "100%|██████████| 1000/1000 [02:41<00:00,  6.18it/s]\n"
     ]
    },
    {
     "data": {
      "text/plain": [
       "328.722"
      ]
     },
     "execution_count": 20,
     "metadata": {},
     "output_type": "execute_result"
    }
   ],
   "source": [
    "arl(phi=0.2, theta=-0.2, delta = 0, gamma = 1, run = 1000, length = 1000, cl = 2.428)"
   ]
  },
  {
   "cell_type": "code",
   "execution_count": 21,
   "metadata": {},
   "outputs": [
    {
     "name": "stderr",
     "output_type": "stream",
     "text": [
      "100%|██████████| 1000/1000 [02:46<00:00,  6.00it/s]\n"
     ]
    },
    {
     "data": {
      "text/plain": [
       "336.4"
      ]
     },
     "execution_count": 21,
     "metadata": {},
     "output_type": "execute_result"
    }
   ],
   "source": [
    "arl(phi=0.2, theta=-0.2, delta = 0, gamma = 1, run = 1000, length = 1000, cl = 2.45)"
   ]
  },
  {
   "cell_type": "code",
   "execution_count": 22,
   "metadata": {},
   "outputs": [
    {
     "name": "stderr",
     "output_type": "stream",
     "text": [
      "100%|██████████| 1000/1000 [03:09<00:00,  5.27it/s]\n"
     ]
    },
    {
     "data": {
      "text/plain": [
       "386.037"
      ]
     },
     "execution_count": 22,
     "metadata": {},
     "output_type": "execute_result"
    }
   ],
   "source": [
    "arl(phi=0.2, theta=-0.2, delta = 0, gamma = 1, run = 1000, length = 1000, cl = 2.5)"
   ]
  },
  {
   "cell_type": "code",
   "execution_count": 23,
   "metadata": {},
   "outputs": [
    {
     "name": "stderr",
     "output_type": "stream",
     "text": [
      "100%|██████████| 1000/1000 [02:53<00:00,  5.75it/s]\n"
     ]
    },
    {
     "data": {
      "text/plain": [
       "352.705"
      ]
     },
     "execution_count": 23,
     "metadata": {},
     "output_type": "execute_result"
    }
   ],
   "source": [
    "arl(phi=0.2, theta=-0.2, delta = 0, gamma = 1, run = 1000, length = 1000, cl = 2.48)"
   ]
  },
  {
   "cell_type": "code",
   "execution_count": 25,
   "metadata": {},
   "outputs": [
    {
     "name": "stderr",
     "output_type": "stream",
     "text": [
      "100%|██████████| 1000/1000 [03:04<00:00,  5.43it/s]\n"
     ]
    },
    {
     "data": {
      "text/plain": [
       "367.328"
      ]
     },
     "execution_count": 25,
     "metadata": {},
     "output_type": "execute_result"
    }
   ],
   "source": [
    "arl(phi=0.2, theta=-0.2, delta = 0, gamma = 1, run = 1000, length = 1000, cl = 2.485)"
   ]
  },
  {
   "cell_type": "code",
   "execution_count": 26,
   "metadata": {},
   "outputs": [
    {
     "name": "stderr",
     "output_type": "stream",
     "text": [
      "100%|██████████| 10000/10000 [30:46<00:00,  5.42it/s]\n"
     ]
    },
    {
     "data": {
      "text/plain": [
       "368.6991"
      ]
     },
     "execution_count": 26,
     "metadata": {},
     "output_type": "execute_result"
    }
   ],
   "source": [
    "arl(phi=0.2, theta=-0.2, delta = 0, gamma = 1, run = 10000, length = 1000, cl = 2.485)"
   ]
  },
  {
   "cell_type": "markdown",
   "metadata": {},
   "source": [
    "##### ARL1"
   ]
  },
  {
   "cell_type": "code",
   "execution_count": 29,
   "metadata": {},
   "outputs": [
    {
     "name": "stderr",
     "output_type": "stream",
     "text": [
      "100%|██████████| 10000/10000 [24:40<00:00,  6.75it/s]\n",
      "100%|██████████| 10000/10000 [13:58<00:00, 11.92it/s]\n",
      "100%|██████████| 10000/10000 [03:15<00:00, 51.13it/s]\n",
      "100%|██████████| 10000/10000 [00:42<00:00, 233.04it/s]\n",
      "100%|██████████| 10000/10000 [01:44<00:00, 96.06it/s]\n",
      "100%|██████████| 10000/10000 [01:28<00:00, 113.59it/s]\n",
      "100%|██████████| 10000/10000 [01:16<00:00, 131.12it/s]\n",
      "100%|██████████| 10000/10000 [00:43<00:00, 232.56it/s]\n",
      "100%|██████████| 10000/10000 [01:51<00:00, 89.79it/s]\n",
      "100%|██████████| 10000/10000 [00:50<00:00, 199.01it/s]\n",
      "100%|██████████| 10000/10000 [00:28<00:00, 355.25it/s]"
     ]
    },
    {
     "name": "stdout",
     "output_type": "stream",
     "text": [
      "0.5: 300.9085, 1:169.0882,2:38.278,3:7.188\n",
      "0.5:19.6525,1:16.3231,2:9.1638,3:7.1979\n",
      "1.5:20.9646,2:8.6231,3:4.1799\n"
     ]
    },
    {
     "name": "stderr",
     "output_type": "stream",
     "text": [
      "\n"
     ]
    }
   ],
   "source": [
    "arl1(phi=0.2, theta=-0.2, run=10000, length=1000, cl=2.485)"
   ]
  },
  {
   "cell_type": "markdown",
   "metadata": {},
   "source": [
    "#### phi = 0.2, theta = -0.8 일 때"
   ]
  },
  {
   "cell_type": "markdown",
   "metadata": {},
   "source": [
    "##### ARL0 (threshold 임의추정)"
   ]
  },
  {
   "cell_type": "code",
   "execution_count": 30,
   "metadata": {},
   "outputs": [
    {
     "name": "stderr",
     "output_type": "stream",
     "text": [
      "100%|██████████| 1000/1000 [02:39<00:00,  6.27it/s]\n"
     ]
    },
    {
     "data": {
      "text/plain": [
       "323.378"
      ]
     },
     "execution_count": 30,
     "metadata": {},
     "output_type": "execute_result"
    }
   ],
   "source": [
    "arl(phi=0.2, theta=-0.8, delta = 0, gamma = 1, run = 1000, length = 1000, cl = 4.54)"
   ]
  },
  {
   "cell_type": "code",
   "execution_count": 31,
   "metadata": {},
   "outputs": [
    {
     "name": "stderr",
     "output_type": "stream",
     "text": [
      "100%|██████████| 1000/1000 [02:49<00:00,  5.90it/s]\n"
     ]
    },
    {
     "data": {
      "text/plain": [
       "344.852"
      ]
     },
     "execution_count": 31,
     "metadata": {},
     "output_type": "execute_result"
    }
   ],
   "source": [
    "arl(phi=0.2, theta=-0.8, delta = 0, gamma = 1, run = 1000, length = 1000, cl = 4.56)"
   ]
  },
  {
   "cell_type": "code",
   "execution_count": 32,
   "metadata": {},
   "outputs": [
    {
     "name": "stderr",
     "output_type": "stream",
     "text": [
      "100%|██████████| 1000/1000 [02:50<00:00,  5.87it/s]\n"
     ]
    },
    {
     "data": {
      "text/plain": [
       "345.213"
      ]
     },
     "execution_count": 32,
     "metadata": {},
     "output_type": "execute_result"
    }
   ],
   "source": [
    "arl(phi=0.2, theta=-0.8, delta = 0, gamma = 1, run = 1000, length = 1000, cl = 4.59)"
   ]
  },
  {
   "cell_type": "code",
   "execution_count": 34,
   "metadata": {},
   "outputs": [
    {
     "name": "stderr",
     "output_type": "stream",
     "text": [
      "100%|██████████| 1000/1000 [03:04<00:00,  5.43it/s]\n"
     ]
    },
    {
     "data": {
      "text/plain": [
       "374.457"
      ]
     },
     "execution_count": 34,
     "metadata": {},
     "output_type": "execute_result"
    }
   ],
   "source": [
    "arl(phi=0.2, theta=-0.8, delta = 0, gamma = 1, run = 1000, length = 1000, cl = 4.63)"
   ]
  },
  {
   "cell_type": "code",
   "execution_count": 35,
   "metadata": {},
   "outputs": [
    {
     "name": "stderr",
     "output_type": "stream",
     "text": [
      "100%|██████████| 10000/10000 [30:03<00:00,  5.54it/s]\n"
     ]
    },
    {
     "data": {
      "text/plain": [
       "365.4233"
      ]
     },
     "execution_count": 35,
     "metadata": {},
     "output_type": "execute_result"
    }
   ],
   "source": [
    "arl(phi=0.2, theta=-0.8, delta = 0, gamma = 1, run = 10000, length = 1000, cl = 4.63)"
   ]
  },
  {
   "cell_type": "code",
   "execution_count": 37,
   "metadata": {},
   "outputs": [
    {
     "name": "stderr",
     "output_type": "stream",
     "text": [
      "100%|██████████| 10000/10000 [30:35<00:00,  5.45it/s]\n"
     ]
    },
    {
     "data": {
      "text/plain": [
       "371.8598"
      ]
     },
     "execution_count": 37,
     "metadata": {},
     "output_type": "execute_result"
    }
   ],
   "source": [
    "arl(phi=0.2, theta=-0.8, delta = 0, gamma = 1, run = 10000, length = 1000, cl = 4.65)"
   ]
  },
  {
   "cell_type": "markdown",
   "metadata": {},
   "source": [
    "##### ARL1"
   ]
  },
  {
   "cell_type": "code",
   "execution_count": 38,
   "metadata": {},
   "outputs": [
    {
     "name": "stderr",
     "output_type": "stream",
     "text": [
      "100%|██████████| 10000/10000 [57:43<00:00,  2.89it/s]    \n",
      "100%|██████████| 10000/10000 [18:42<00:00,  8.91it/s] \n",
      "100%|██████████| 10000/10000 [05:33<00:00, 29.98it/s]\n",
      "100%|██████████| 10000/10000 [01:30<00:00, 109.93it/s]\n",
      "100%|██████████| 10000/10000 [03:46<00:00, 44.12it/s]\n",
      "100%|██████████| 10000/10000 [03:09<00:00, 52.65it/s]\n",
      "100%|██████████| 10000/10000 [01:46<00:00, 94.01it/s]\n",
      "100%|██████████| 10000/10000 [01:34<00:00, 106.37it/s]\n",
      "100%|██████████| 10000/10000 [04:08<00:00, 40.25it/s]\n",
      "100%|██████████| 10000/10000 [01:34<00:00, 105.30it/s]\n",
      "100%|██████████| 10000/10000 [00:42<00:00, 236.46it/s]"
     ]
    },
    {
     "name": "stdout",
     "output_type": "stream",
     "text": [
      "0.5: 319.7576, 1:221.434,2:66.135,3:16.4081\n",
      "0.5:42.9628,1:35.6739,2:19.6347,3:17.0093\n",
      "1.5:46.8985,2:17.0793,3:6.872\n"
     ]
    },
    {
     "name": "stderr",
     "output_type": "stream",
     "text": [
      "\n"
     ]
    }
   ],
   "source": [
    "arl1(phi=0.2, theta=-0.8, run=10000, length=1000, cl=4.65)"
   ]
  },
  {
   "cell_type": "markdown",
   "metadata": {},
   "source": [
    "#### phi = 0.4, theta = -0.4 일 때"
   ]
  },
  {
   "cell_type": "markdown",
   "metadata": {},
   "source": [
    "##### ARL0 (threshold 임의추정)"
   ]
  },
  {
   "cell_type": "code",
   "execution_count": 39,
   "metadata": {},
   "outputs": [
    {
     "name": "stderr",
     "output_type": "stream",
     "text": [
      "100%|██████████| 1000/1000 [02:57<00:00,  5.65it/s]\n"
     ]
    },
    {
     "data": {
      "text/plain": [
       "340.317"
      ]
     },
     "execution_count": 39,
     "metadata": {},
     "output_type": "execute_result"
    }
   ],
   "source": [
    "arl(phi=0.4, theta=-0.4, delta = 0, gamma = 1, run = 1000, length = 1000, cl = 3.9)"
   ]
  },
  {
   "cell_type": "code",
   "execution_count": 41,
   "metadata": {},
   "outputs": [
    {
     "name": "stderr",
     "output_type": "stream",
     "text": [
      "100%|██████████| 1000/1000 [03:27<00:00,  4.83it/s]\n"
     ]
    },
    {
     "data": {
      "text/plain": [
       "419.884"
      ]
     },
     "execution_count": 41,
     "metadata": {},
     "output_type": "execute_result"
    }
   ],
   "source": [
    "arl(phi=0.4, theta=-0.4, delta = 0, gamma = 1, run = 1000, length = 1000, cl = 4.1)"
   ]
  },
  {
   "cell_type": "code",
   "execution_count": 42,
   "metadata": {},
   "outputs": [
    {
     "name": "stderr",
     "output_type": "stream",
     "text": [
      "100%|██████████| 1000/1000 [03:12<00:00,  5.20it/s]\n"
     ]
    },
    {
     "data": {
      "text/plain": [
       "389.046"
      ]
     },
     "execution_count": 42,
     "metadata": {},
     "output_type": "execute_result"
    }
   ],
   "source": [
    "arl(phi=0.4, theta=-0.4, delta = 0, gamma = 1, run = 1000, length = 1000, cl = 4)"
   ]
  },
  {
   "cell_type": "code",
   "execution_count": 44,
   "metadata": {},
   "outputs": [
    {
     "name": "stderr",
     "output_type": "stream",
     "text": [
      "100%|██████████| 1000/1000 [02:58<00:00,  5.60it/s]\n"
     ]
    },
    {
     "data": {
      "text/plain": [
       "360.696"
      ]
     },
     "execution_count": 44,
     "metadata": {},
     "output_type": "execute_result"
    }
   ],
   "source": [
    "arl(phi=0.4, theta=-0.4, delta = 0, gamma = 1, run = 1000, length = 1000, cl = 3.95)"
   ]
  },
  {
   "cell_type": "code",
   "execution_count": 50,
   "metadata": {},
   "outputs": [
    {
     "name": "stderr",
     "output_type": "stream",
     "text": [
      "100%|██████████| 1000/1000 [03:03<00:00,  5.45it/s]\n"
     ]
    },
    {
     "data": {
      "text/plain": [
       "370.689"
      ]
     },
     "execution_count": 50,
     "metadata": {},
     "output_type": "execute_result"
    }
   ],
   "source": [
    "arl(phi=0.4, theta=-0.4, delta = 0, gamma = 1, run = 1000, length = 1000, cl = 3.98)"
   ]
  },
  {
   "cell_type": "code",
   "execution_count": 49,
   "metadata": {},
   "outputs": [
    {
     "name": "stderr",
     "output_type": "stream",
     "text": [
      "100%|██████████| 1000/1000 [03:10<00:00,  5.25it/s]\n"
     ]
    },
    {
     "data": {
      "text/plain": [
       "386.194"
      ]
     },
     "execution_count": 49,
     "metadata": {},
     "output_type": "execute_result"
    }
   ],
   "source": [
    "arl(phi=0.4, theta=-0.4, delta = 0, gamma = 1, run = 1000, length = 1000, cl = 3.99)"
   ]
  },
  {
   "cell_type": "code",
   "execution_count": 51,
   "metadata": {},
   "outputs": [
    {
     "name": "stderr",
     "output_type": "stream",
     "text": [
      "100%|██████████| 10000/10000 [2:06:27<00:00,  1.32it/s]   \n"
     ]
    },
    {
     "data": {
      "text/plain": [
       "363.1583"
      ]
     },
     "execution_count": 51,
     "metadata": {},
     "output_type": "execute_result"
    }
   ],
   "source": [
    "arl(phi=0.4, theta=-0.4, delta = 0, gamma = 1, run = 10000, length = 1000, cl = 3.98)"
   ]
  },
  {
   "cell_type": "code",
   "execution_count": 53,
   "metadata": {},
   "outputs": [
    {
     "name": "stderr",
     "output_type": "stream",
     "text": [
      "100%|██████████| 10000/10000 [30:06<00:00,  5.54it/s]\n"
     ]
    },
    {
     "data": {
      "text/plain": [
       "366.5101"
      ]
     },
     "execution_count": 53,
     "metadata": {},
     "output_type": "execute_result"
    }
   ],
   "source": [
    "arl(phi=0.4, theta=-0.4, delta = 0, gamma = 1, run = 10000, length = 1000, cl = 3.985)"
   ]
  },
  {
   "cell_type": "code",
   "execution_count": 54,
   "metadata": {},
   "outputs": [
    {
     "name": "stderr",
     "output_type": "stream",
     "text": [
      "100%|██████████| 10000/10000 [30:01<00:00,  5.55it/s]\n"
     ]
    },
    {
     "data": {
      "text/plain": [
       "368.2293"
      ]
     },
     "execution_count": 54,
     "metadata": {},
     "output_type": "execute_result"
    }
   ],
   "source": [
    "arl(phi=0.4, theta=-0.4, delta = 0, gamma = 1, run = 10000, length = 1000, cl = 3.988)"
   ]
  },
  {
   "cell_type": "markdown",
   "metadata": {},
   "source": [
    "##### ARL1"
   ]
  },
  {
   "cell_type": "code",
   "execution_count": 55,
   "metadata": {},
   "outputs": [
    {
     "name": "stderr",
     "output_type": "stream",
     "text": [
      "100%|██████████| 10000/10000 [36:48<00:00,  4.53it/s]   \n",
      "100%|██████████| 10000/10000 [19:48<00:00,  8.41it/s]\n",
      "100%|██████████| 10000/10000 [08:11<00:00, 20.33it/s]\n",
      "100%|██████████| 10000/10000 [02:14<00:00, 74.57it/s]\n",
      "100%|██████████| 10000/10000 [02:54<00:00, 57.18it/s]\n",
      "100%|██████████| 10000/10000 [02:32<00:00, 65.42it/s]\n",
      "100%|██████████| 10000/10000 [01:41<00:00, 98.79it/s]\n",
      "100%|██████████| 10000/10000 [05:04<00:00, 32.84it/s]  \n",
      "100%|██████████| 10000/10000 [03:07<00:00, 53.33it/s]\n",
      "100%|██████████| 10000/10000 [01:16<00:00, 130.02it/s]\n",
      "100%|██████████| 10000/10000 [00:37<00:00, 266.03it/s]"
     ]
    },
    {
     "name": "stdout",
     "output_type": "stream",
     "text": [
      "0.5: 334.5116, 1:241.2498,2:87.2137,3:25.7061\n",
      "0.5:33.7882,1:29.4253,2:19.102,3:25.8751\n",
      "1.5:36.1992,2:13.8843,3:5.9537\n"
     ]
    },
    {
     "name": "stderr",
     "output_type": "stream",
     "text": [
      "\n"
     ]
    }
   ],
   "source": [
    "arl1(phi=0.4, theta=-0.4, run=10000, length=1000, cl=3.988)"
   ]
  },
  {
   "cell_type": "markdown",
   "metadata": {},
   "source": [
    "#### Case 4) phi = 0.8, theta = -0.2 일 때"
   ]
  },
  {
   "cell_type": "markdown",
   "metadata": {},
   "source": [
    "##### ARL0 (threshold 임의추정)"
   ]
  },
  {
   "cell_type": "code",
   "execution_count": null,
   "metadata": {},
   "outputs": [
    {
     "name": "stderr",
     "output_type": "stream",
     "text": [
      "100%|██████████| 10000/10000 [01:33<00:00, 106.85it/s]\n"
     ]
    },
    {
     "data": {
      "text/plain": [
       "16.1635"
      ]
     },
     "metadata": {},
     "output_type": "display_data"
    }
   ],
   "source": [
    "# threshold 7.3\n",
    "arl(phi=0.8, theta=-0.2, delta = 0, gamma = 1, run = 10000, length = 1000, cl = 7.3)"
   ]
  },
  {
   "cell_type": "markdown",
   "metadata": {},
   "source": [
    "##### ARL1"
   ]
  },
  {
   "cell_type": "code",
   "execution_count": null,
   "metadata": {},
   "outputs": [],
   "source": [
    "arl1(phi=0.8, theta=-0.2, run=1000, length=1000, cl=7.3)"
   ]
  },
  {
   "cell_type": "markdown",
   "metadata": {},
   "source": [
    "#### Case 5) phi = 0.8, theta = -0.8 일 때"
   ]
  },
  {
   "cell_type": "markdown",
   "metadata": {},
   "source": [
    "##### ARL0 (threshold 임의추정)"
   ]
  },
  {
   "cell_type": "code",
   "execution_count": null,
   "metadata": {},
   "outputs": [
    {
     "name": "stderr",
     "output_type": "stream",
     "text": [
      "  0%|          | 0/10000 [00:00<?, ?it/s]/opt/homebrew/Caskroom/miniforge/base/envs/python3119/lib/python3.11/site-packages/torch/nn/modules/loss.py:535: UserWarning: Using a target size (torch.Size([12])) that is different to the input size (torch.Size([12, 12])). This will likely lead to incorrect results due to broadcasting. Please ensure they have the same size.\n",
      "  return F.mse_loss(input, target, reduction=self.reduction)\n",
      " 11%|█         | 1112/10000 [03:01<24:07,  6.14it/s]\n"
     ]
    }
   ],
   "source": [
    "# threshold 15.13\n",
    "arl(phi=0.8, theta=-0.8, delta = 0, gamma = 1, run = 1000, length = 1000, cl = 15.13)"
   ]
  },
  {
   "cell_type": "markdown",
   "metadata": {},
   "source": [
    "##### ARL1"
   ]
  },
  {
   "cell_type": "code",
   "execution_count": null,
   "metadata": {},
   "outputs": [],
   "source": [
    "arl1(phi=0.8, theta=-0.8, run=1000, length=1000, cl=15.13)"
   ]
  }
 ],
 "metadata": {
  "kernelspec": {
   "display_name": "python3119",
   "language": "python",
   "name": "python3"
  },
  "language_info": {
   "codemirror_mode": {
    "name": "ipython",
    "version": 3
   },
   "file_extension": ".py",
   "mimetype": "text/x-python",
   "name": "python",
   "nbconvert_exporter": "python",
   "pygments_lexer": "ipython3",
   "version": "3.11.9"
  }
 },
 "nbformat": 4,
 "nbformat_minor": 2
}
