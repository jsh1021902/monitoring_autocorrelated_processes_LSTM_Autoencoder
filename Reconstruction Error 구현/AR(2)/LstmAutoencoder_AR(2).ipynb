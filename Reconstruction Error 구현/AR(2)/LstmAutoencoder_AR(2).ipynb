{
 "cells": [
  {
   "cell_type": "code",
   "execution_count": 3,
   "metadata": {},
   "outputs": [],
   "source": [
    "import numpy as np\n",
    "import torch\n",
    "from torch import nn\n",
    "import torch.optim as optim\n",
    "from torch.utils.data import TensorDataset\n",
    "from torch.utils.data import DataLoader\n",
    "import matplotlib.pyplot as plt\n",
    "from sklearn.metrics import mean_squared_error\n",
    "from pytorchtools import EarlyStopping\n",
    "import math\n",
    "from tqdm import tqdm"
   ]
  },
  {
   "cell_type": "markdown",
   "metadata": {},
   "source": [
    "#### Numpy & Python Version 확인"
   ]
  },
  {
   "cell_type": "code",
   "execution_count": 4,
   "metadata": {},
   "outputs": [
    {
     "name": "stdout",
     "output_type": "stream",
     "text": [
      "NumPy 버전: 1.26.4\n",
      "Python 버전: 3.11.9\n"
     ]
    }
   ],
   "source": [
    "import numpy as np\n",
    "import platform\n",
    "\n",
    "# NumPy 버전 확인\n",
    "numpy_version = np.__version__\n",
    "\n",
    "# Python 버전 확인\n",
    "python_version = platform.python_version()\n",
    "\n",
    "print(f\"NumPy 버전: {numpy_version}\")\n",
    "print(f\"Python 버전: {python_version}\")"
   ]
  },
  {
   "cell_type": "markdown",
   "metadata": {},
   "source": [
    "#### CUDA 사용 및 EarlyStopping 설정"
   ]
  },
  {
   "cell_type": "code",
   "execution_count": 5,
   "metadata": {},
   "outputs": [
    {
     "data": {
      "text/plain": [
       "False"
      ]
     },
     "execution_count": 5,
     "metadata": {},
     "output_type": "execute_result"
    }
   ],
   "source": [
    "torch.cuda.is_available()"
   ]
  },
  {
   "cell_type": "code",
   "execution_count": 6,
   "metadata": {},
   "outputs": [
    {
     "name": "stdout",
     "output_type": "stream",
     "text": [
      "cpu\n"
     ]
    }
   ],
   "source": [
    "device = torch.device('cuda:0') if torch.cuda.is_available() else torch.device('cpu')\n",
    "print(device)\n",
    "early_stopping = EarlyStopping(patience = 5, verbose = True)"
   ]
  },
  {
   "cell_type": "markdown",
   "metadata": {},
   "source": [
    "#### 모델 저장"
   ]
  },
  {
   "cell_type": "code",
   "execution_count": 6,
   "metadata": {},
   "outputs": [],
   "source": [
    "# def saveModel():\n",
    "#     torch.save(model.state_dict(), 'model_lstm_autoencoder_AR(2).pt') # 모델의 학습된 매개변수 파일에 저장"
   ]
  },
  {
   "cell_type": "markdown",
   "metadata": {},
   "source": [
    "#### 하이퍼 파라미터 설정"
   ]
  },
  {
   "cell_type": "code",
   "execution_count": 7,
   "metadata": {},
   "outputs": [],
   "source": [
    "# 하이퍼파라미터 설정\n",
    "length = 12            # 윈도우 사이즈 (생성할 시계열 데이터의 길이)\n",
    "trainrun = 200       # 생성할 학습 데이터 시퀀스의 수 \n",
    "validrun = 100         # 생성할 검증 데이터 시퀀스의 수 \n",
    "\n",
    "# 시계열 데이터 생성을 위한 매개변수\n",
    "# 자기상관계수 (phi1, phi2별로 생성)\n",
    "phi1 = np.array([0, 0.25, 0.4, 0.6, 0.8])\n",
    "phi2 = np.array([0.1, 0.2, 0.3, 0.2, 0.1])\n",
    "\n",
    "# 변화율 크기\n",
    "psi1 = 0\n",
    "\n",
    "# 공정의 수준 변화율 (delta)\n",
    "de1 = 0\n",
    "\n",
    "# 공정의 분산 변화율 (gamma)\n",
    "ga = 1"
   ]
  },
  {
   "cell_type": "markdown",
   "metadata": {},
   "source": [
    "#### 시계열 데이터 생성"
   ]
  },
  {
   "cell_type": "code",
   "execution_count": 8,
   "metadata": {},
   "outputs": [],
   "source": [
    "np.random.seed(1)\n",
    "\n",
    "# AR(2) 시계열 데이터 생성 함수\n",
    "def ar2(phi1, phi2, delta, gamma, psi, length, run):\n",
    "    # 초기 설정\n",
    "    y = np.zeros(shape=(run, length))                                                         # 생성될 시계열 데이터를 저장할 빈 배열을 초기화. 배열의 크기는 (생성할 데이터 시퀀스의 수, 각 시퀀스의 길이) \n",
    "    sigma = math.sqrt((1 - phi2) / ((1 + phi2) * (1 - phi2 - phi1) * (1 - phi2 + phi1)))     # AR(2)모델의 표준 편차\n",
    "    \n",
    "    # 데이터 시퀀스 생성\n",
    "    for j in range(0, run):                                     # 각 run 마다 랜덤 노이즈(e)를 정규분포에서 추출하여 시계열의 기본 노이즈 생성 (과적합 방지 차원)\n",
    "        e = np.random.normal(loc=0, scale=1, size=length)       \n",
    "        x = np.zeros(length)\n",
    "        \n",
    "        x[0] = e[0]                                             # x 배열 초기화하고, 첫 번째 시점의 값은 첫 번째 노이즈 값으로 설정 (시계열의 시작점에서 발생할 수 있는 임의성 반영 및 자기상관 구조 구현)\n",
    "\n",
    "        # psi 시점 이전의 데이터 생성\n",
    "        for i in range(2, psi):                                 # psi 시점 이전까지는 관리상태 데이터\n",
    "            x[i] = phi1 * x[i - 1] + phi2 * x[i - 2] + e[i]     # AR(2)모델의 관리상태\n",
    "            \n",
    "        # psi 시점 이후의 데이터 생성 및 변동성 적용\n",
    "        for i in range(psi,len(x)):                             # AR(2)모델의 이상상태\n",
    "            e[i] = gamma * e[i]\n",
    "            x[i] = phi1 * x[i - 1] + phi2 * x[i - 2] + e[i] \n",
    "        for i in range(psi,len(x)):                             # delta(변동성 크기 조절하는 매개변수)를 통한 추가 변동성 적용\n",
    "            x[i] = x[i] + delta*sigma\n",
    "        \n",
    "        # 최종 데이터 반환 (각 run에 대해 생성된 시계열 데이터를 저장)  \n",
    "        y[j] = x\n",
    "\n",
    "    return y\n",
    "\n",
    "\n",
    "\n",
    "# 다양한 매개변수 조합에 대한 시계열 데이터 세트 생성\n",
    "def totaldat(run,length):\n",
    "    # 빈 데이터 배열 초기화\n",
    "    y = np.zeros(shape=(len(phi1), run, length))\n",
    "    # 매개변수 조합별 데이터 생성\n",
    "    for i, (phi_1, phi_2) in enumerate(zip(phi1, phi2)):\n",
    "        y[i]= ar2(phi_1, phi_2, de1, ga, psi1, length, run)\n",
    "\n",
    "    return y.reshape(run * len(phi1), length)                 # 생성된 데이터를 적절한 형태로 재배열\n"
   ]
  },
  {
   "cell_type": "code",
   "execution_count": 9,
   "metadata": {},
   "outputs": [],
   "source": [
    "# 훈련용 시계열 데이터\n",
    "# 데이터 생성 및 변형\n",
    "train_x = totaldat(trainrun,length)                             # 훈련용 시계열 데이터 생성\n",
    "train_x = train_x.reshape(trainrun*len(phi1),length)            \n",
    "\n",
    "# 검증용 시계열 데이터\n",
    "# 데이터 생성 및 변형\n",
    "valid_x = totaldat(run = validrun, length = length)\n",
    "valid_x = valid_x.reshape(validrun*len(phi1),length)\n",
    "\n",
    "# PyTorch 텐서로 변환 및 장치 할당\n",
    "device = torch.device(\"cuda\" if torch.cuda.is_available() else \"cpu\")\n",
    "train_x = torch.FloatTensor(train_x).to(device)\n",
    "valid_x = torch.FloatTensor(valid_x).to(device)\n",
    "\n",
    "# DataLoader 설정\n",
    "trainloader = DataLoader(train_x, shuffle=True)                  # 데이터셋에서 미니배치 자동으로 생성 후 모델 학습 및 평가 시 배치 처리를 용이하게 함 (훈련에서는 데이터를 섞어 학습 과정에서의 일반화 능력 향상)\n",
    "validloader = DataLoader(valid_x, shuffle=False)                # 학습 및 검증에서는 데이터 순서 유지"
   ]
  },
  {
   "cell_type": "code",
   "execution_count": 10,
   "metadata": {},
   "outputs": [
    {
     "name": "stdout",
     "output_type": "stream",
     "text": [
      "torch.Size([1, 12])\n"
     ]
    }
   ],
   "source": [
    "for data in trainloader:\n",
    "    print(data.shape)\n",
    "    break"
   ]
  },
  {
   "cell_type": "code",
   "execution_count": 11,
   "metadata": {},
   "outputs": [
    {
     "data": {
      "text/plain": [
       "1000"
      ]
     },
     "execution_count": 11,
     "metadata": {},
     "output_type": "execute_result"
    }
   ],
   "source": [
    "len(trainloader)"
   ]
  },
  {
   "cell_type": "code",
   "execution_count": 13,
   "metadata": {},
   "outputs": [
    {
     "data": {
      "text/plain": [
       "500"
      ]
     },
     "execution_count": 13,
     "metadata": {},
     "output_type": "execute_result"
    }
   ],
   "source": [
    "len(validloader)"
   ]
  },
  {
   "cell_type": "code",
   "execution_count": 14,
   "metadata": {},
   "outputs": [
    {
     "data": {
      "text/plain": [
       "12"
      ]
     },
     "execution_count": 14,
     "metadata": {},
     "output_type": "execute_result"
    }
   ],
   "source": [
    "train_x.shape[1]"
   ]
  },
  {
   "cell_type": "markdown",
   "metadata": {},
   "source": [
    "#### LSTM Autoencoder 구조"
   ]
  },
  {
   "cell_type": "code",
   "execution_count": 15,
   "metadata": {},
   "outputs": [],
   "source": [
    "import torch\n",
    "import torch.nn as nn\n",
    "from torch.utils.data import DataLoader, TensorDataset\n",
    "\n",
    "# LSTM Encoder 클래스 정의\n",
    "class LSTMEncoder(nn.Module):\n",
    "    def __init__(self, input_dim, hidden_dim, latent_dim):\n",
    "        super(LSTMEncoder, self).__init__()\n",
    "        self.hidden_dim = hidden_dim\n",
    "        self.latent_dim = latent_dim\n",
    "        self.lstm = nn.LSTM(input_dim, hidden_dim, num_layers=2, batch_first=True)\n",
    "        self.hidden_to_latent = nn.Linear(hidden_dim, latent_dim)\n",
    "\n",
    "    def forward(self, x):\n",
    "        _, (hidden, _) = self.lstm(x)\n",
    "        return self.hidden_to_latent(hidden[-1])\n",
    "\n",
    "# LSTM Decoder 클래스 정의\n",
    "class LSTMDecoder(nn.Module):\n",
    "    def __init__(self, latent_dim, hidden_dim, output_dim, seq_length):\n",
    "        super(LSTMDecoder, self).__init__()\n",
    "        self.hidden_dim = hidden_dim\n",
    "        self.seq_length = seq_length\n",
    "        self.latent_to_hidden = nn.Linear(latent_dim, hidden_dim)\n",
    "        self.lstm = nn.LSTM(hidden_dim, hidden_dim, num_layers=2, batch_first=True)\n",
    "        self.outputs_to_data = nn.Linear(hidden_dim, output_dim)\n",
    "\n",
    "    def forward(self, z):\n",
    "        z = self.latent_to_hidden(z).unsqueeze(0)\n",
    "        repeated_z = z.repeat(self.seq_length, 1, 1).transpose(0, 1)\n",
    "        lstm_out, _ = self.lstm(repeated_z)\n",
    "        return self.outputs_to_data(lstm_out)\n",
    "\n",
    "# 전체 LSTM 오토인코더 모델\n",
    "class LSTMAutoencoder(nn.Module):\n",
    "    def __init__(self, input_dim, seq_length, hidden_dim=128, latent_dim=1):\n",
    "        super(LSTMAutoencoder, self).__init__()\n",
    "        self.encoder = LSTMEncoder(input_dim, hidden_dim, latent_dim)\n",
    "        self.decoder = LSTMDecoder(latent_dim, hidden_dim, input_dim, seq_length)\n",
    "\n",
    "    def forward(self, x):\n",
    "        z = self.encoder(x)\n",
    "        return self.decoder(z)\n",
    "\n",
    "# 모델 인스턴스 생성 및 설정\n",
    "model = LSTMAutoencoder(input_dim=length, seq_length=length, hidden_dim=128, latent_dim=1)\n",
    "model = model.to(device)"
   ]
  },
  {
   "cell_type": "code",
   "execution_count": 16,
   "metadata": {},
   "outputs": [],
   "source": [
    "import torch.optim as optim\n",
    "\n",
    "criterion = nn.MSELoss()\n",
    "optimizer = optim.Adam(model.parameters(), lr=1e-6)  # You can adjust the initial lr based on your model and training needs\n",
    "# scheduler = optim.lr_scheduler.ReduceLROnPlateau(optimizer, mode='min', factor=0.1, patience=10, verbose=True)"
   ]
  },
  {
   "cell_type": "code",
   "execution_count": 25,
   "metadata": {},
   "outputs": [
    {
     "name": "stderr",
     "output_type": "stream",
     "text": [
      "/opt/homebrew/Caskroom/miniforge/base/envs/python3119/lib/python3.11/site-packages/torch/nn/modules/loss.py:535: UserWarning: Using a target size (torch.Size([1, 12])) that is different to the input size (torch.Size([1, 12, 12])). This will likely lead to incorrect results due to broadcasting. Please ensure they have the same size.\n",
      "  return F.mse_loss(input, target, reduction=self.reduction)\n"
     ]
    },
    {
     "name": "stdout",
     "output_type": "stream",
     "text": [
      "Epoch 1, Train Loss: 1.7020, Validation Loss: 1.7525\n",
      "Validation loss decreased (1.752902 --> 1.752523).  Saving model ...\n",
      "Epoch 2, Train Loss: 1.7014, Validation Loss: 1.7521\n",
      "Validation loss decreased (1.752523 --> 1.752084).  Saving model ...\n",
      "Epoch 3, Train Loss: 1.7008, Validation Loss: 1.7516\n",
      "Validation loss decreased (1.752084 --> 1.751563).  Saving model ...\n",
      "Epoch 4, Train Loss: 1.7001, Validation Loss: 1.7509\n",
      "Validation loss decreased (1.751563 --> 1.750931).  Saving model ...\n",
      "Epoch 5, Train Loss: 1.6993, Validation Loss: 1.7502\n",
      "Validation loss decreased (1.750931 --> 1.750169).  Saving model ...\n",
      "Epoch 6, Train Loss: 1.6983, Validation Loss: 1.7492\n",
      "Validation loss decreased (1.750169 --> 1.749212).  Saving model ...\n",
      "Epoch 7, Train Loss: 1.6971, Validation Loss: 1.7480\n",
      "Validation loss decreased (1.749212 --> 1.748024).  Saving model ...\n",
      "Epoch 8, Train Loss: 1.6956, Validation Loss: 1.7465\n",
      "Validation loss decreased (1.748024 --> 1.746507).  Saving model ...\n",
      "Epoch 9, Train Loss: 1.6939, Validation Loss: 1.7446\n",
      "Validation loss decreased (1.746507 --> 1.744617).  Saving model ...\n",
      "Epoch 10, Train Loss: 1.6916, Validation Loss: 1.7422\n",
      "Validation loss decreased (1.744617 --> 1.742198).  Saving model ...\n",
      "Epoch 11, Train Loss: 1.6888, Validation Loss: 1.7392\n",
      "Validation loss decreased (1.742198 --> 1.739176).  Saving model ...\n",
      "Epoch 12, Train Loss: 1.6853, Validation Loss: 1.7353\n",
      "Validation loss decreased (1.739176 --> 1.735269).  Saving model ...\n",
      "Epoch 13, Train Loss: 1.6808, Validation Loss: 1.7302\n",
      "Validation loss decreased (1.735269 --> 1.730245).  Saving model ...\n",
      "Epoch 14, Train Loss: 1.6750, Validation Loss: 1.7237\n",
      "Validation loss decreased (1.730245 --> 1.723702).  Saving model ...\n",
      "Epoch 15, Train Loss: 1.6675, Validation Loss: 1.7152\n",
      "Validation loss decreased (1.723702 --> 1.715222).  Saving model ...\n",
      "Epoch 16, Train Loss: 1.6579, Validation Loss: 1.7044\n",
      "Validation loss decreased (1.715222 --> 1.704410).  Saving model ...\n",
      "Epoch 17, Train Loss: 1.6454, Validation Loss: 1.6902\n",
      "Validation loss decreased (1.704410 --> 1.690192).  Saving model ...\n",
      "Epoch 18, Train Loss: 1.6295, Validation Loss: 1.6724\n",
      "Validation loss decreased (1.690192 --> 1.672375).  Saving model ...\n",
      "Epoch 19, Train Loss: 1.6094, Validation Loss: 1.6497\n",
      "Validation loss decreased (1.672375 --> 1.649717).  Saving model ...\n",
      "Epoch 20, Train Loss: 1.5842, Validation Loss: 1.6216\n",
      "Validation loss decreased (1.649717 --> 1.621621).  Saving model ...\n",
      "Epoch 21, Train Loss: 1.5538, Validation Loss: 1.5886\n",
      "Validation loss decreased (1.621621 --> 1.588551).  Saving model ...\n",
      "Epoch 22, Train Loss: 1.5185, Validation Loss: 1.5508\n",
      "Validation loss decreased (1.588551 --> 1.550843).  Saving model ...\n",
      "Epoch 23, Train Loss: 1.4800, Validation Loss: 1.5113\n",
      "Validation loss decreased (1.550843 --> 1.511346).  Saving model ...\n",
      "Epoch 24, Train Loss: 1.4407, Validation Loss: 1.4721\n",
      "Validation loss decreased (1.511346 --> 1.472142).  Saving model ...\n",
      "Epoch 25, Train Loss: 1.4035, Validation Loss: 1.4362\n",
      "Validation loss decreased (1.472142 --> 1.436232).  Saving model ...\n",
      "Epoch 26, Train Loss: 1.3706, Validation Loss: 1.4057\n",
      "Validation loss decreased (1.436232 --> 1.405686).  Saving model ...\n",
      "Epoch 27, Train Loss: 1.3433, Validation Loss: 1.3810\n",
      "Validation loss decreased (1.405686 --> 1.380974).  Saving model ...\n",
      "Epoch 28, Train Loss: 1.3215, Validation Loss: 1.3614\n",
      "Validation loss decreased (1.380974 --> 1.361359).  Saving model ...\n",
      "Epoch 29, Train Loss: 1.3047, Validation Loss: 1.3461\n",
      "Validation loss decreased (1.361359 --> 1.346140).  Saving model ...\n",
      "Epoch 30, Train Loss: 1.2912, Validation Loss: 1.3335\n",
      "Validation loss decreased (1.346140 --> 1.333492).  Saving model ...\n",
      "Epoch 31, Train Loss: 1.2796, Validation Loss: 1.3221\n",
      "Validation loss decreased (1.333492 --> 1.322111).  Saving model ...\n",
      "Epoch 32, Train Loss: 1.2692, Validation Loss: 1.3117\n",
      "Validation loss decreased (1.322111 --> 1.311718).  Saving model ...\n",
      "Epoch 33, Train Loss: 1.2593, Validation Loss: 1.3013\n",
      "Validation loss decreased (1.311718 --> 1.301347).  Saving model ...\n",
      "Epoch 34, Train Loss: 1.2496, Validation Loss: 1.2910\n",
      "Validation loss decreased (1.301347 --> 1.290992).  Saving model ...\n",
      "Epoch 35, Train Loss: 1.2400, Validation Loss: 1.2810\n",
      "Validation loss decreased (1.290992 --> 1.281045).  Saving model ...\n",
      "Epoch 36, Train Loss: 1.2306, Validation Loss: 1.2712\n",
      "Validation loss decreased (1.281045 --> 1.271155).  Saving model ...\n",
      "Epoch 37, Train Loss: 1.2213, Validation Loss: 1.2614\n",
      "Validation loss decreased (1.271155 --> 1.261419).  Saving model ...\n",
      "Epoch 38, Train Loss: 1.2120, Validation Loss: 1.2519\n",
      "Validation loss decreased (1.261419 --> 1.251894).  Saving model ...\n",
      "Epoch 39, Train Loss: 1.2029, Validation Loss: 1.2425\n",
      "Validation loss decreased (1.251894 --> 1.242521).  Saving model ...\n",
      "Epoch 40, Train Loss: 1.1940, Validation Loss: 1.2334\n",
      "Validation loss decreased (1.242521 --> 1.233364).  Saving model ...\n",
      "Epoch 41, Train Loss: 1.1853, Validation Loss: 1.2243\n",
      "Validation loss decreased (1.233364 --> 1.224271).  Saving model ...\n",
      "Epoch 42, Train Loss: 1.1768, Validation Loss: 1.2157\n",
      "Validation loss decreased (1.224271 --> 1.215720).  Saving model ...\n",
      "Epoch 43, Train Loss: 1.1686, Validation Loss: 1.2073\n",
      "Validation loss decreased (1.215720 --> 1.207257).  Saving model ...\n",
      "Epoch 44, Train Loss: 1.1606, Validation Loss: 1.1993\n",
      "Validation loss decreased (1.207257 --> 1.199313).  Saving model ...\n",
      "Epoch 45, Train Loss: 1.1530, Validation Loss: 1.1915\n",
      "Validation loss decreased (1.199313 --> 1.191524).  Saving model ...\n",
      "Epoch 46, Train Loss: 1.1458, Validation Loss: 1.1841\n",
      "Validation loss decreased (1.191524 --> 1.184146).  Saving model ...\n",
      "Epoch 47, Train Loss: 1.1389, Validation Loss: 1.1772\n",
      "Validation loss decreased (1.184146 --> 1.177172).  Saving model ...\n",
      "Epoch 48, Train Loss: 1.1323, Validation Loss: 1.1706\n",
      "Validation loss decreased (1.177172 --> 1.170579).  Saving model ...\n",
      "Epoch 49, Train Loss: 1.1261, Validation Loss: 1.1643\n",
      "Validation loss decreased (1.170579 --> 1.164254).  Saving model ...\n",
      "Epoch 50, Train Loss: 1.1203, Validation Loss: 1.1584\n",
      "Validation loss decreased (1.164254 --> 1.158399).  Saving model ...\n",
      "Epoch 51, Train Loss: 1.1148, Validation Loss: 1.1528\n",
      "Validation loss decreased (1.158399 --> 1.152799).  Saving model ...\n",
      "Epoch 52, Train Loss: 1.1096, Validation Loss: 1.1474\n",
      "Validation loss decreased (1.152799 --> 1.147448).  Saving model ...\n",
      "Epoch 53, Train Loss: 1.1047, Validation Loss: 1.1424\n",
      "Validation loss decreased (1.147448 --> 1.142424).  Saving model ...\n",
      "Epoch 54, Train Loss: 1.1000, Validation Loss: 1.1376\n",
      "Validation loss decreased (1.142424 --> 1.137643).  Saving model ...\n",
      "Epoch 55, Train Loss: 1.0956, Validation Loss: 1.1331\n",
      "Validation loss decreased (1.137643 --> 1.133081).  Saving model ...\n",
      "Epoch 56, Train Loss: 1.0914, Validation Loss: 1.1288\n",
      "Validation loss decreased (1.133081 --> 1.128808).  Saving model ...\n",
      "Epoch 57, Train Loss: 1.0875, Validation Loss: 1.1247\n",
      "Validation loss decreased (1.128808 --> 1.124722).  Saving model ...\n",
      "Epoch 58, Train Loss: 1.0837, Validation Loss: 1.1208\n",
      "Validation loss decreased (1.124722 --> 1.120845).  Saving model ...\n",
      "Epoch 59, Train Loss: 1.0801, Validation Loss: 1.1171\n",
      "Validation loss decreased (1.120845 --> 1.117091).  Saving model ...\n",
      "Epoch 60, Train Loss: 1.0767, Validation Loss: 1.1136\n",
      "Validation loss decreased (1.117091 --> 1.113564).  Saving model ...\n",
      "Epoch 61, Train Loss: 1.0734, Validation Loss: 1.1101\n",
      "Validation loss decreased (1.113564 --> 1.110141).  Saving model ...\n",
      "Epoch 62, Train Loss: 1.0702, Validation Loss: 1.1069\n",
      "Validation loss decreased (1.110141 --> 1.106909).  Saving model ...\n",
      "Epoch 63, Train Loss: 1.0672, Validation Loss: 1.1038\n",
      "Validation loss decreased (1.106909 --> 1.103820).  Saving model ...\n",
      "Epoch 64, Train Loss: 1.0644, Validation Loss: 1.1008\n",
      "Validation loss decreased (1.103820 --> 1.100808).  Saving model ...\n",
      "Epoch 65, Train Loss: 1.0616, Validation Loss: 1.0979\n",
      "Validation loss decreased (1.100808 --> 1.097896).  Saving model ...\n",
      "Epoch 66, Train Loss: 1.0590, Validation Loss: 1.0951\n",
      "Validation loss decreased (1.097896 --> 1.095137).  Saving model ...\n",
      "Epoch 67, Train Loss: 1.0564, Validation Loss: 1.0925\n",
      "Validation loss decreased (1.095137 --> 1.092517).  Saving model ...\n",
      "Epoch 68, Train Loss: 1.0540, Validation Loss: 1.0900\n",
      "Validation loss decreased (1.092517 --> 1.089959).  Saving model ...\n",
      "Epoch 69, Train Loss: 1.0516, Validation Loss: 1.0875\n",
      "Validation loss decreased (1.089959 --> 1.087455).  Saving model ...\n",
      "Epoch 70, Train Loss: 1.0493, Validation Loss: 1.0851\n",
      "Validation loss decreased (1.087455 --> 1.085062).  Saving model ...\n",
      "Epoch 71, Train Loss: 1.0471, Validation Loss: 1.0828\n",
      "Validation loss decreased (1.085062 --> 1.082801).  Saving model ...\n",
      "Epoch 72, Train Loss: 1.0450, Validation Loss: 1.0806\n",
      "Validation loss decreased (1.082801 --> 1.080572).  Saving model ...\n",
      "Epoch 73, Train Loss: 1.0430, Validation Loss: 1.0785\n",
      "Validation loss decreased (1.080572 --> 1.078471).  Saving model ...\n",
      "Epoch 74, Train Loss: 1.0410, Validation Loss: 1.0764\n",
      "Validation loss decreased (1.078471 --> 1.076397).  Saving model ...\n",
      "Epoch 75, Train Loss: 1.0391, Validation Loss: 1.0745\n",
      "Validation loss decreased (1.076397 --> 1.074464).  Saving model ...\n",
      "Epoch 76, Train Loss: 1.0373, Validation Loss: 1.0725\n",
      "Validation loss decreased (1.074464 --> 1.072497).  Saving model ...\n",
      "Epoch 77, Train Loss: 1.0355, Validation Loss: 1.0706\n",
      "Validation loss decreased (1.072497 --> 1.070618).  Saving model ...\n",
      "Epoch 78, Train Loss: 1.0338, Validation Loss: 1.0688\n",
      "Validation loss decreased (1.070618 --> 1.068826).  Saving model ...\n",
      "Epoch 79, Train Loss: 1.0321, Validation Loss: 1.0671\n",
      "Validation loss decreased (1.068826 --> 1.067087).  Saving model ...\n",
      "Epoch 80, Train Loss: 1.0305, Validation Loss: 1.0654\n",
      "Validation loss decreased (1.067087 --> 1.065365).  Saving model ...\n",
      "Epoch 81, Train Loss: 1.0289, Validation Loss: 1.0637\n",
      "Validation loss decreased (1.065365 --> 1.063746).  Saving model ...\n",
      "Epoch 82, Train Loss: 1.0274, Validation Loss: 1.0622\n",
      "Validation loss decreased (1.063746 --> 1.062165).  Saving model ...\n",
      "Epoch 83, Train Loss: 1.0259, Validation Loss: 1.0606\n",
      "Validation loss decreased (1.062165 --> 1.060574).  Saving model ...\n",
      "Epoch 84, Train Loss: 1.0245, Validation Loss: 1.0591\n",
      "Validation loss decreased (1.060574 --> 1.059127).  Saving model ...\n",
      "Epoch 85, Train Loss: 1.0231, Validation Loss: 1.0577\n",
      "Validation loss decreased (1.059127 --> 1.057662).  Saving model ...\n",
      "Epoch 86, Train Loss: 1.0218, Validation Loss: 1.0563\n",
      "Validation loss decreased (1.057662 --> 1.056250).  Saving model ...\n",
      "Epoch 87, Train Loss: 1.0205, Validation Loss: 1.0549\n",
      "Validation loss decreased (1.056250 --> 1.054888).  Saving model ...\n",
      "Epoch 88, Train Loss: 1.0192, Validation Loss: 1.0536\n",
      "Validation loss decreased (1.054888 --> 1.053579).  Saving model ...\n",
      "Epoch 89, Train Loss: 1.0179, Validation Loss: 1.0523\n",
      "Validation loss decreased (1.053579 --> 1.052252).  Saving model ...\n",
      "Epoch 90, Train Loss: 1.0168, Validation Loss: 1.0510\n",
      "Validation loss decreased (1.052252 --> 1.051003).  Saving model ...\n",
      "Epoch 91, Train Loss: 1.0156, Validation Loss: 1.0498\n",
      "Validation loss decreased (1.051003 --> 1.049793).  Saving model ...\n",
      "Epoch 92, Train Loss: 1.0144, Validation Loss: 1.0486\n",
      "Validation loss decreased (1.049793 --> 1.048585).  Saving model ...\n",
      "Epoch 93, Train Loss: 1.0133, Validation Loss: 1.0475\n",
      "Validation loss decreased (1.048585 --> 1.047486).  Saving model ...\n",
      "Epoch 94, Train Loss: 1.0122, Validation Loss: 1.0463\n",
      "Validation loss decreased (1.047486 --> 1.046301).  Saving model ...\n",
      "Epoch 95, Train Loss: 1.0112, Validation Loss: 1.0452\n",
      "Validation loss decreased (1.046301 --> 1.045179).  Saving model ...\n",
      "Epoch 96, Train Loss: 1.0101, Validation Loss: 1.0441\n",
      "Validation loss decreased (1.045179 --> 1.044133).  Saving model ...\n",
      "Epoch 97, Train Loss: 1.0091, Validation Loss: 1.0431\n",
      "Validation loss decreased (1.044133 --> 1.043086).  Saving model ...\n",
      "Epoch 98, Train Loss: 1.0081, Validation Loss: 1.0421\n",
      "Validation loss decreased (1.043086 --> 1.042079).  Saving model ...\n",
      "Epoch 99, Train Loss: 1.0072, Validation Loss: 1.0411\n",
      "Validation loss decreased (1.042079 --> 1.041061).  Saving model ...\n",
      "Epoch 100, Train Loss: 1.0063, Validation Loss: 1.0401\n",
      "Validation loss decreased (1.041061 --> 1.040106).  Saving model ...\n"
     ]
    },
    {
     "data": {
      "image/png": "[encoded data removed]",
      "text/plain": [
       "<Figure size 1000x500 with 1 Axes>"
      ]
     },
     "metadata": {},
     "output_type": "display_data"
    }
   ],
   "source": [
    "# def training(epochs):\n",
    "#     loss_ = []\n",
    "#     valoss_ = []\n",
    "\n",
    "#     for epoch in range(epochs):\n",
    "#         running_train_loss = 0.0\n",
    "#         running_vall_loss = 0.0\n",
    "\n",
    "#         # Training process\n",
    "#         for data in trainloader:\n",
    "#             model.train()\n",
    "#             inputs = data                                                           # Assuming data is the input tensor\n",
    "#             inputs = inputs.to(device)\n",
    "#             optimizer.zero_grad()\n",
    "#             predicted_outputs = model(inputs)\n",
    "#             train_loss = criterion(predicted_outputs, inputs)\n",
    "#             train_loss.backward()\n",
    "#             optimizer.step()\n",
    "#             running_train_loss += train_loss.item()\n",
    "\n",
    "#         # Calculate average training loss for the epoch\n",
    "#         avg_train_loss = running_train_loss / len(trainloader)\n",
    "#         loss_.append(avg_train_loss)\n",
    "        \n",
    "#         # Validation process\n",
    "#         with torch.no_grad():\n",
    "#             model.eval()\n",
    "#             for data in validloader:\n",
    "#                 inputs = data\n",
    "#                 inputs = inputs.to(device)\n",
    "#                 predicted_outputs = model(inputs)\n",
    "#                 val_loss = criterion(predicted_outputs, inputs)\n",
    "#                 running_vall_loss += val_loss.item()\n",
    "\n",
    "#             avg_val_loss = running_vall_loss / len(validloader)\n",
    "#             valoss_.append(avg_val_loss)\n",
    "\n",
    "#         print(f'Epoch {epoch + 1}, Train Loss: {avg_train_loss:.4f}, Validation Loss: {avg_val_loss:.4f}')\n",
    "        \n",
    "#         # Early Stopping\n",
    "#         early_stopping(avg_val_loss, model)\n",
    "#         if early_stopping.early_stop:\n",
    "#             print(\"Early stopping\")\n",
    "#             break\n",
    " \n",
    "#     # Save model\n",
    "#     saveModel()\n",
    "#     return loss_, valoss_  # Return the collected loss values for training and validation\n",
    "\n",
    "# # Now when you call training, it will return the lists to be unpacked.\n",
    "# loss_, valoss_ = training(epochs=100)  # Set the appropriate number of epochs\n",
    "\n",
    "# # Loss visualization\n",
    "# plt.figure(figsize=(10, 5))\n",
    "# plt.plot(loss_, label='Train Loss')\n",
    "# plt.plot(valoss_, label='Validation Loss')\n",
    "# plt.xlabel('Epochs')\n",
    "# plt.ylabel('Loss')\n",
    "# plt.legend()\n",
    "# plt.show()"
   ]
  },
  {
   "cell_type": "markdown",
   "metadata": {},
   "source": [
    "#### 모델 불러오기"
   ]
  },
  {
   "cell_type": "code",
   "execution_count": 17,
   "metadata": {},
   "outputs": [
    {
     "data": {
      "text/plain": [
       "<All keys matched successfully>"
      ]
     },
     "execution_count": 17,
     "metadata": {},
     "output_type": "execute_result"
    }
   ],
   "source": [
    "model.load_state_dict(torch.load('model_lstm_autoencoder_AR(2).pt', map_location=torch.device('cpu')))"
   ]
  },
  {
   "cell_type": "markdown",
   "metadata": {},
   "source": [
    "#### ARL0 함수"
   ]
  },
  {
   "cell_type": "code",
   "execution_count": 18,
   "metadata": {},
   "outputs": [],
   "source": [
    "np.random.seed(1)\n",
    "\n",
    "l = 12 # 윈도우 사이즈\n",
    "\n",
    "def ar2gen(phi1, phi2, psi, delta,gamma, length) :\n",
    "\n",
    "    e = np.random.normal(loc=0, scale = 1,size = length)\n",
    "    sigma = math.sqrt((1 - phi2) / ((1 + phi2) * (1 - phi2 - phi1) * (1 - phi2 + phi1)))\n",
    "    x = np.array(np.repeat(0, length), dtype= np.float64)\n",
    "    x[0] = e[0]\n",
    "    z = np.array(np.repeat(0, length), dtype=np.float64)\n",
    "\n",
    "    for i in range(2, psi):\n",
    "        x[i] = phi1 * x[i - 1] + phi2 * x[i - 2] + e[i]\n",
    "        z[i] = x[i]\n",
    "    for i in range(psi,len(x)):\n",
    "        x[i] = phi1 * x[i - 1] + phi2 * x[i - 2] + gamma*e[i]\n",
    "        z[i] = x[i]\n",
    "    for i in range(psi,len(z)):\n",
    "        z[i] = z[i] + delta * sigma\n",
    "\n",
    "    return z"
   ]
  },
  {
   "cell_type": "code",
   "execution_count": 19,
   "metadata": {},
   "outputs": [],
   "source": [
    "def arl(phi1, phi2, delta, gamma, run, length, cl) :\n",
    "    rl = np.array([], dtype=np.float64)\n",
    "    \n",
    "    for i in tqdm(range(run)) :\n",
    "        y = ar2gen(phi1, phi2, psi=l-1, delta=delta, gamma = gamma,length=length)\n",
    "        a = np.array([length-l])\n",
    "        x = np.zeros(shape=(length-l, l))\n",
    "        for j in range(length-l):\n",
    "            x[j] = y[j: j + l]\n",
    "        x = torch.FloatTensor(x).to(device)\n",
    "\n",
    "        model.eval()\n",
    "        with torch.no_grad():\n",
    "            for j in range(0,len(x)):\n",
    "                input = x[[j]]\n",
    "\n",
    "                output = model(input)\n",
    "                \n",
    "                mse_loss = nn.MSELoss()\n",
    "                loss = mse_loss(output[0], input[0])\n",
    "\n",
    "                if loss > cl :\n",
    "\n",
    "                    a = np.array([j + 1])\n",
    "                    break\n",
    "                elif j == len(x):\n",
    "                    a = len(x)\n",
    "\n",
    "            rl = np.append(rl,a)\n",
    "\n",
    "    arl = np.mean(rl)\n",
    "    return arl\n"
   ]
  },
  {
   "cell_type": "code",
   "execution_count": 29,
   "metadata": {},
   "outputs": [],
   "source": [
    "### MSE\n",
    "\n",
    "import numpy as np\n",
    "import torch\n",
    "import torch.nn as nn\n",
    "from tqdm import tqdm\n",
    "import matplotlib.pyplot as plt\n",
    "\n",
    "def arl(phi1, phi2, delta, gamma, run, length, cl, l):\n",
    "    rl = np.array([], dtype=np.float64)\n",
    "    mse_losses = []  # 손실 값을 저장할 리스트\n",
    "\n",
    "    for i in tqdm(range(run)):\n",
    "        y = ar2gen(phi1, phi2, psi=l-1, delta=delta, gamma=gamma, length=length)\n",
    "        a = np.array([length-l])\n",
    "        x = np.zeros(shape=(length-l, l))\n",
    "        for j in range(length-l):\n",
    "            x[j] = y[j: j + l]\n",
    "        x = torch.FloatTensor(x).to(device)\n",
    "\n",
    "        model.eval()\n",
    "        with torch.no_grad():\n",
    "            for j in range(len(x)):\n",
    "                input = x[[j]]\n",
    "\n",
    "                output = model(input)\n",
    "                print(\"Output shape:\", output.shape)  # output의 shape 출력\n",
    "\n",
    "                mse_loss = nn.MSELoss()\n",
    "                loss = mse_loss(output[0], input[0])\n",
    "                mse_losses.append(loss.item())  # 손실 값을 저장\n",
    "\n",
    "                if loss > cl:\n",
    "                    a = np.array([j + 1])\n",
    "                    break\n",
    "                elif j == len(x) -  1:\n",
    "                    a = len(x)\n",
    "\n",
    "        rl = np.append(rl, a)\n",
    "\n",
    "    arl = np.mean(rl)\n",
    "\n",
    "    # 그래프 그리기\n",
    "    plt.figure(figsize=(10, 5))\n",
    "    plt.plot(mse_losses, label='MSE Loss')\n",
    "    plt.axhline(y=cl, color='r', linestyle='--', label='Control Limit (cl)')\n",
    "    plt.xlabel('Iteration')\n",
    "    plt.ylabel('MSE Loss')\n",
    "    plt.title('MSE Loss over Iterations')\n",
    "    plt.legend()\n",
    "    plt.show()\n",
    "\n",
    "    return arl\n"
   ]
  },
  {
   "cell_type": "code",
   "execution_count": null,
   "metadata": {},
   "outputs": [],
   "source": [
    "def arl(phi1, phi2, delta, gamma, run, length, cl) :\n",
    "    rl = np.array([], dtype=np.float64)\n",
    "    \n",
    "    for i in tqdm(range(run)) :\n",
    "        y = ar2gen(phi1, phi2, psi=l-1, delta=delta, gamma = gamma,length=length)\n",
    "        a = np.array([length-l])\n",
    "        x = np.zeros(shape=(length-l, l))\n",
    "        for j in range(length-l):\n",
    "            x[j] = y[j: j + l]\n",
    "        x = torch.FloatTensor(x).to(device)\n",
    "\n",
    "        model.eval()\n",
    "        with torch.no_grad():\n",
    "            for j in range(0,len(x)):\n",
    "                input = x[[j]]\n",
    "\n",
    "                output = model(input)\n",
    "                print(\"Output shape:\", output.shape)  # output의 shape 출력\n",
    "                mse_loss = nn.MSELoss()\n",
    "                loss = mse_loss(output[0], input[0])\n",
    "\n",
    "                if loss > cl :\n",
    "\n",
    "                    a = np.array([j + 1])\n",
    "                    break\n",
    "                elif j == len(x):\n",
    "                    a = len(x)\n",
    "\n",
    "            rl = np.append(rl,a)\n",
    "\n",
    "    arl = np.mean(rl)\n",
    "    return arl, output.shape\n"
   ]
  },
  {
   "cell_type": "markdown",
   "metadata": {},
   "source": [
    "#### ARL1 함수"
   ]
  },
  {
   "cell_type": "code",
   "execution_count": 22,
   "metadata": {},
   "outputs": [],
   "source": [
    "def arl1(phi1, phi2, run, length, cl):\n",
    "    a5 = arl(phi1, phi2, 0.5, 1, run, length, cl)\n",
    "    a1 = arl(phi1, phi2, 1, 1, run, length, cl)\n",
    "    a2 = arl(phi1, phi2, 2, 1, run, length, cl)\n",
    "    a3 = arl(phi1, phi2, 3, 1, run, length, cl)\n",
    "    b5 = arl(phi1, phi2, 0.5, 1.5,run, length, cl)\n",
    "    b1 = arl(phi1, phi2, 1, 1.5, run, length, cl)\n",
    "    b2 = arl(phi1, phi2, 2, 1.5, run, length, cl)\n",
    "    b3 = arl(phi1, phi2, 3, 1.5, run, length, cl)\n",
    "    c1 = arl(phi1, phi2, 0, 1.5, run, length, cl)\n",
    "    c2 = arl(phi1, phi2, 0, 2, run, length, cl)\n",
    "    c3 = arl(phi1, phi2, 0, 3, run, length, cl)\n",
    "    print(f'0.5: {a5}, 1:{a1},2:{a2},3:{a3}')\n",
    "    print(f'0.5:{b5},1:{b1},2:{b2},3:{b3}')\n",
    "    print(f'1.5:{c1},2:{c2},3:{c3}')"
   ]
  },
  {
   "cell_type": "markdown",
   "metadata": {},
   "source": [
    "#### Case 1) phi1 = 0, phi2 = 0.1 일 때"
   ]
  },
  {
   "cell_type": "markdown",
   "metadata": {},
   "source": [
    "##### ARL0 (threshold 임의추정)"
   ]
  },
  {
   "cell_type": "code",
   "execution_count": 27,
   "metadata": {},
   "outputs": [
    {
     "name": "stderr",
     "output_type": "stream",
     "text": [
      "100%|██████████| 1000/1000 [04:06<00:00,  4.06it/s]\n"
     ]
    },
    {
     "data": {
      "image/png": "[encoded data removed]",
      "text/plain": [
       "<Figure size 1000x500 with 1 Axes>"
      ]
     },
     "metadata": {},
     "output_type": "display_data"
    },
    {
     "data": {
      "text/plain": [
       "421.631"
      ]
     },
     "execution_count": 27,
     "metadata": {},
     "output_type": "execute_result"
    }
   ],
   "source": [
    "# MSE 그래프 수정\n",
    "arl(phi1=0, phi2=0.1, delta = 0, gamma = 1, run = 1000, length = 1000, cl = 2.13, l=12)"
   ]
  },
  {
   "cell_type": "code",
   "execution_count": 28,
   "metadata": {},
   "outputs": [
    {
     "name": "stderr",
     "output_type": "stream",
     "text": [
      "100%|██████████| 1000/1000 [03:54<00:00,  4.26it/s]\n"
     ]
    },
    {
     "data": {
      "image/png": "[encoded data removed]",
      "text/plain": [
       "<Figure size 1000x500 with 1 Axes>"
      ]
     },
     "metadata": {},
     "output_type": "display_data"
    },
    {
     "data": {
      "text/plain": [
       "414.387"
      ]
     },
     "execution_count": 28,
     "metadata": {},
     "output_type": "execute_result"
    }
   ],
   "source": [
    "# output shape 확인용\n",
    "arl(phi1=0, phi2=0.1, delta = 0, gamma = 1, run = 1000, length = 1000, cl = 2.13, l=12)"
   ]
  },
  {
   "cell_type": "code",
   "execution_count": 19,
   "metadata": {},
   "outputs": [
    {
     "name": "stderr",
     "output_type": "stream",
     "text": [
      "  0%|          | 0/1000 [00:00<?, ?it/s]"
     ]
    },
    {
     "name": "stderr",
     "output_type": "stream",
     "text": [
      "/opt/homebrew/Caskroom/miniforge/base/envs/python3119/lib/python3.11/site-packages/torch/nn/modules/loss.py:535: UserWarning: Using a target size (torch.Size([12])) that is different to the input size (torch.Size([12, 12])). This will likely lead to incorrect results due to broadcasting. Please ensure they have the same size.\n",
      "  return F.mse_loss(input, target, reduction=self.reduction)\n",
      "100%|██████████| 1000/1000 [03:28<00:00,  4.80it/s]\n"
     ]
    },
    {
     "data": {
      "text/plain": [
       "417.906"
      ]
     },
     "execution_count": 19,
     "metadata": {},
     "output_type": "execute_result"
    }
   ],
   "source": [
    "# run=1000 & threshold 2.13\n",
    "arl(phi1=0, phi2=0.1, delta = 0, gamma = 1, run = 1000, length = 1000, cl = 2.13)"
   ]
  },
  {
   "cell_type": "code",
   "execution_count": 20,
   "metadata": {},
   "outputs": [
    {
     "name": "stderr",
     "output_type": "stream",
     "text": [
      "100%|██████████| 1000/1000 [02:24<00:00,  6.94it/s]\n"
     ]
    },
    {
     "data": {
      "text/plain": [
       "284.674"
      ]
     },
     "execution_count": 20,
     "metadata": {},
     "output_type": "execute_result"
    }
   ],
   "source": [
    "# run=1000 & threshold 2\n",
    "arl(phi1=0, phi2=0.1, delta = 0, gamma = 1, run = 1000, length = 1000, cl = 2)"
   ]
  },
  {
   "cell_type": "code",
   "execution_count": 21,
   "metadata": {},
   "outputs": [
    {
     "name": "stderr",
     "output_type": "stream",
     "text": [
      "  0%|          | 0/1000 [00:00<?, ?it/s]/opt/homebrew/Caskroom/miniforge/base/envs/python3119/lib/python3.11/site-packages/torch/nn/modules/loss.py:535: UserWarning: Using a target size (torch.Size([12])) that is different to the input size (torch.Size([12, 12])). This will likely lead to incorrect results due to broadcasting. Please ensure they have the same size.\n",
      "  return F.mse_loss(input, target, reduction=self.reduction)\n",
      "100%|██████████| 1000/1000 [03:11<00:00,  5.23it/s]\n"
     ]
    },
    {
     "data": {
      "text/plain": [
       "380.65"
      ]
     },
     "execution_count": 21,
     "metadata": {},
     "output_type": "execute_result"
    }
   ],
   "source": [
    "# run=1000 & threshold 2.09\n",
    "arl(phi1=0, phi2=0.1, delta = 0, gamma = 1, run = 1000, length = 1000, cl = 2.09)"
   ]
  },
  {
   "cell_type": "code",
   "execution_count": 22,
   "metadata": {},
   "outputs": [
    {
     "name": "stderr",
     "output_type": "stream",
     "text": [
      "100%|██████████| 1000/1000 [02:57<00:00,  5.63it/s]\n"
     ]
    },
    {
     "data": {
      "text/plain": [
       "350.995"
      ]
     },
     "execution_count": 22,
     "metadata": {},
     "output_type": "execute_result"
    }
   ],
   "source": [
    "# run=1000 & threshold 2.08\n",
    "arl(phi1=0, phi2=0.1, delta = 0, gamma = 1, run = 1000, length = 1000, cl = 2.08)"
   ]
  },
  {
   "cell_type": "code",
   "execution_count": 24,
   "metadata": {},
   "outputs": [
    {
     "name": "stderr",
     "output_type": "stream",
     "text": [
      "100%|██████████| 10000/10000 [30:55<00:00,  5.39it/s]\n"
     ]
    },
    {
     "data": {
      "text/plain": [
       "363.9208"
      ]
     },
     "execution_count": 24,
     "metadata": {},
     "output_type": "execute_result"
    }
   ],
   "source": [
    "# run=10000 & threshold 2.09\n",
    "arl(phi1=0, phi2=0.1, delta = 0, gamma = 1, run = 10000, length = 1000, cl = 2.09)"
   ]
  },
  {
   "cell_type": "code",
   "execution_count": 25,
   "metadata": {},
   "outputs": [
    {
     "name": "stderr",
     "output_type": "stream",
     "text": [
      "100%|██████████| 10000/10000 [32:35<00:00,  5.11it/s]\n"
     ]
    },
    {
     "data": {
      "text/plain": [
       "382.2158"
      ]
     },
     "execution_count": 25,
     "metadata": {},
     "output_type": "execute_result"
    }
   ],
   "source": [
    "# run=10000 & threshold 2.1\n",
    "arl(phi1=0, phi2=0.1, delta = 0, gamma = 1, run = 10000, length = 1000, cl = 2.1)"
   ]
  },
  {
   "cell_type": "markdown",
   "metadata": {},
   "source": [
    "##### ARL1"
   ]
  },
  {
   "cell_type": "code",
   "execution_count": 26,
   "metadata": {},
   "outputs": [
    {
     "name": "stderr",
     "output_type": "stream",
     "text": [
      "100%|██████████| 10000/10000 [26:19<00:00,  6.33it/s]\n",
      "100%|██████████| 10000/10000 [15:17<00:00, 10.90it/s]\n",
      "100%|██████████| 10000/10000 [02:24<00:00, 69.39it/s]\n",
      "100%|██████████| 10000/10000 [00:33<00:00, 298.45it/s]\n",
      "100%|██████████| 10000/10000 [01:25<00:00, 116.34it/s]\n",
      "100%|██████████| 10000/10000 [01:15<00:00, 132.02it/s]\n",
      "100%|██████████| 10000/10000 [00:45<00:00, 217.57it/s]\n",
      "100%|██████████| 10000/10000 [00:26<00:00, 381.55it/s]\n",
      "100%|██████████| 10000/10000 [01:31<00:00, 109.40it/s]\n",
      "100%|██████████| 10000/10000 [00:44<00:00, 222.64it/s]\n",
      "100%|██████████| 10000/10000 [00:26<00:00, 377.50it/s]"
     ]
    },
    {
     "name": "stdout",
     "output_type": "stream",
     "text": [
      "0.5: 307.8224, 1:177.2448,2:26.2195,3:5.0679\n",
      "0.5:15.3895,1:13.2605,2:7.4241,3:3.5897\n",
      "1.5:16.2938,2:7.2583,3:3.696\n"
     ]
    },
    {
     "name": "stderr",
     "output_type": "stream",
     "text": [
      "\n"
     ]
    }
   ],
   "source": [
    "arl1(phi1=0, phi2=0.1, run=10000, length=1000, cl= 2.09)"
   ]
  },
  {
   "cell_type": "markdown",
   "metadata": {},
   "source": [
    "#### Case 2) phi1 = 0.25, phi2 = 0.2 일 때"
   ]
  },
  {
   "cell_type": "markdown",
   "metadata": {},
   "source": [
    "##### ARL0 (threshold 임의추정)"
   ]
  },
  {
   "cell_type": "code",
   "execution_count": 27,
   "metadata": {},
   "outputs": [
    {
     "name": "stderr",
     "output_type": "stream",
     "text": [
      "100%|██████████| 1000/1000 [02:47<00:00,  5.96it/s]\n"
     ]
    },
    {
     "data": {
      "text/plain": [
       "327.657"
      ]
     },
     "execution_count": 27,
     "metadata": {},
     "output_type": "execute_result"
    }
   ],
   "source": [
    "# threshold 2.277\n",
    "arl(phi1=0.25, phi2=0.2, delta = 0, gamma = 1, run = 1000, length = 1000, cl = 2.277)"
   ]
  },
  {
   "cell_type": "code",
   "execution_count": 28,
   "metadata": {},
   "outputs": [
    {
     "name": "stderr",
     "output_type": "stream",
     "text": [
      "100%|██████████| 1000/1000 [02:53<00:00,  5.78it/s]\n"
     ]
    },
    {
     "data": {
      "text/plain": [
       "333.634"
      ]
     },
     "execution_count": 28,
     "metadata": {},
     "output_type": "execute_result"
    }
   ],
   "source": [
    "# threshold 2.3\n",
    "arl(phi1=0.25, phi2=0.2, delta = 0, gamma = 1, run = 1000, length = 1000, cl = 2.3)"
   ]
  },
  {
   "cell_type": "code",
   "execution_count": 29,
   "metadata": {},
   "outputs": [
    {
     "name": "stderr",
     "output_type": "stream",
     "text": [
      "100%|██████████| 1000/1000 [04:25<00:00,  3.77it/s]\n"
     ]
    },
    {
     "data": {
      "text/plain": [
       "501.61"
      ]
     },
     "execution_count": 29,
     "metadata": {},
     "output_type": "execute_result"
    }
   ],
   "source": [
    "# threshold 2.5\n",
    "arl(phi1=0.25, phi2=0.2, delta = 0, gamma = 1, run = 1000, length = 1000, cl = 2.5)"
   ]
  },
  {
   "cell_type": "code",
   "execution_count": 30,
   "metadata": {},
   "outputs": [
    {
     "name": "stderr",
     "output_type": "stream",
     "text": [
      "100%|██████████| 1000/1000 [02:54<00:00,  5.72it/s]\n"
     ]
    },
    {
     "data": {
      "text/plain": [
       "336.963"
      ]
     },
     "execution_count": 30,
     "metadata": {},
     "output_type": "execute_result"
    }
   ],
   "source": [
    "# threshold 2.32\n",
    "arl(phi1=0.25, phi2=0.2, delta = 0, gamma = 1, run = 1000, length = 1000, cl = 2.32)"
   ]
  },
  {
   "cell_type": "code",
   "execution_count": 31,
   "metadata": {},
   "outputs": [
    {
     "name": "stderr",
     "output_type": "stream",
     "text": [
      "100%|██████████| 1000/1000 [03:22<00:00,  4.94it/s]\n"
     ]
    },
    {
     "data": {
      "text/plain": [
       "394.555"
      ]
     },
     "execution_count": 31,
     "metadata": {},
     "output_type": "execute_result"
    }
   ],
   "source": [
    "# threshold 2.38\n",
    "arl(phi1=0.25, phi2=0.2, delta = 0, gamma = 1, run = 1000, length = 1000, cl = 2.38)"
   ]
  },
  {
   "cell_type": "code",
   "execution_count": 32,
   "metadata": {},
   "outputs": [
    {
     "name": "stderr",
     "output_type": "stream",
     "text": [
      "100%|██████████| 1000/1000 [03:14<00:00,  5.15it/s]\n"
     ]
    },
    {
     "data": {
      "text/plain": [
       "376.266"
      ]
     },
     "execution_count": 32,
     "metadata": {},
     "output_type": "execute_result"
    }
   ],
   "source": [
    "# threshold 2.36\n",
    "arl(phi1=0.25, phi2=0.2, delta = 0, gamma = 1, run = 1000, length = 1000, cl = 2.36)"
   ]
  },
  {
   "cell_type": "code",
   "execution_count": 33,
   "metadata": {},
   "outputs": [
    {
     "name": "stderr",
     "output_type": "stream",
     "text": [
      "100%|██████████| 1000/1000 [03:15<00:00,  5.12it/s]\n"
     ]
    },
    {
     "data": {
      "text/plain": [
       "376.053"
      ]
     },
     "execution_count": 33,
     "metadata": {},
     "output_type": "execute_result"
    }
   ],
   "source": [
    "# threshold 2.35\n",
    "arl(phi1=0.25, phi2=0.2, delta = 0, gamma = 1, run = 1000, length = 1000, cl = 2.35)"
   ]
  },
  {
   "cell_type": "code",
   "execution_count": 35,
   "metadata": {},
   "outputs": [
    {
     "name": "stderr",
     "output_type": "stream",
     "text": [
      "100%|██████████| 1000/1000 [03:13<00:00,  5.18it/s]\n"
     ]
    },
    {
     "data": {
      "text/plain": [
       "362.641"
      ]
     },
     "execution_count": 35,
     "metadata": {},
     "output_type": "execute_result"
    }
   ],
   "source": [
    "# threshold 2.33\n",
    "arl(phi1=0.25, phi2=0.2, delta = 0, gamma = 1, run = 1000, length = 1000, cl = 2.33)"
   ]
  },
  {
   "cell_type": "code",
   "execution_count": 36,
   "metadata": {},
   "outputs": [
    {
     "name": "stderr",
     "output_type": "stream",
     "text": [
      "100%|██████████| 10000/10000 [33:03<00:00,  5.04it/s]\n"
     ]
    },
    {
     "data": {
      "text/plain": [
       "372.5007"
      ]
     },
     "execution_count": 36,
     "metadata": {},
     "output_type": "execute_result"
    }
   ],
   "source": [
    "# threshold 2.35\n",
    "arl(phi1=0.25, phi2=0.2, delta = 0, gamma = 1, run = 10000, length = 1000, cl = 2.35)"
   ]
  },
  {
   "cell_type": "markdown",
   "metadata": {},
   "source": [
    "##### ARL1"
   ]
  },
  {
   "cell_type": "code",
   "execution_count": 37,
   "metadata": {},
   "outputs": [
    {
     "name": "stderr",
     "output_type": "stream",
     "text": [
      "100%|██████████| 10000/10000 [27:39<00:00,  6.03it/s]\n",
      "100%|██████████| 10000/10000 [14:52<00:00, 11.21it/s]\n",
      "100%|██████████| 10000/10000 [02:30<00:00, 66.66it/s]\n",
      "100%|██████████| 10000/10000 [00:40<00:00, 244.20it/s]\n",
      "100%|██████████| 10000/10000 [01:46<00:00, 93.49it/s]\n",
      "100%|██████████| 10000/10000 [01:33<00:00, 106.92it/s]\n",
      "100%|██████████| 10000/10000 [00:57<00:00, 173.66it/s]\n",
      "100%|██████████| 10000/10000 [00:32<00:00, 310.23it/s]\n",
      "100%|██████████| 10000/10000 [01:57<00:00, 85.27it/s]\n",
      "100%|██████████| 10000/10000 [00:54<00:00, 183.68it/s]\n",
      "100%|██████████| 10000/10000 [00:31<00:00, 318.00it/s]"
     ]
    },
    {
     "name": "stdout",
     "output_type": "stream",
     "text": [
      "0.5: 319.4976, 1:167.7939,2:27.4864,3:6.5025\n",
      "0.5:18.8316,1:16.2495,2:9.5338,3:4.5995\n",
      "1.5:20.0136,2:8.5488,3:4.1666\n"
     ]
    },
    {
     "name": "stderr",
     "output_type": "stream",
     "text": [
      "\n"
     ]
    }
   ],
   "source": [
    "arl1(phi1=0.25, phi2=0.2, run=10000, length=1000, cl= 2.35)"
   ]
  },
  {
   "cell_type": "markdown",
   "metadata": {},
   "source": [
    "#### Case 3) phi1 = 0.4, phi2 = 0.3 일 때"
   ]
  },
  {
   "cell_type": "markdown",
   "metadata": {},
   "source": [
    "##### ARL0 (threshold 임의추정)"
   ]
  },
  {
   "cell_type": "code",
   "execution_count": 38,
   "metadata": {},
   "outputs": [
    {
     "name": "stderr",
     "output_type": "stream",
     "text": [
      "100%|██████████| 1000/1000 [02:34<00:00,  6.46it/s]\n"
     ]
    },
    {
     "data": {
      "text/plain": [
       "291.482"
      ]
     },
     "execution_count": 38,
     "metadata": {},
     "output_type": "execute_result"
    }
   ],
   "source": [
    "# threshold 2.94\n",
    "arl(phi1=0.4, phi2=0.3, delta = 0, gamma = 1, run = 1000, length = 1000, cl = 2.94)"
   ]
  },
  {
   "cell_type": "code",
   "execution_count": 39,
   "metadata": {},
   "outputs": [
    {
     "name": "stderr",
     "output_type": "stream",
     "text": [
      "  0%|          | 0/1000 [00:00<?, ?it/s]/opt/homebrew/Caskroom/miniforge/base/envs/python3119/lib/python3.11/site-packages/torch/nn/modules/loss.py:535: UserWarning: Using a target size (torch.Size([12])) that is different to the input size (torch.Size([12, 12])). This will likely lead to incorrect results due to broadcasting. Please ensure they have the same size.\n",
      "  return F.mse_loss(input, target, reduction=self.reduction)\n",
      "100%|██████████| 1000/1000 [03:31<00:00,  4.74it/s]\n"
     ]
    },
    {
     "data": {
      "text/plain": [
       "403.027"
      ]
     },
     "execution_count": 39,
     "metadata": {},
     "output_type": "execute_result"
    }
   ],
   "source": [
    "# threshold 3.2\n",
    "arl(phi1=0.4, phi2=0.3, delta = 0, gamma = 1, run = 1000, length = 1000, cl = 3.2)"
   ]
  },
  {
   "cell_type": "code",
   "execution_count": 40,
   "metadata": {},
   "outputs": [
    {
     "name": "stderr",
     "output_type": "stream",
     "text": [
      "100%|██████████| 1000/1000 [03:04<00:00,  5.43it/s]\n"
     ]
    },
    {
     "data": {
      "text/plain": [
       "356.761"
      ]
     },
     "execution_count": 40,
     "metadata": {},
     "output_type": "execute_result"
    }
   ],
   "source": [
    "# threshold 3.1\n",
    "arl(phi1=0.4, phi2=0.3, delta = 0, gamma = 1, run = 1000, length = 1000, cl = 3.1)"
   ]
  },
  {
   "cell_type": "code",
   "execution_count": 42,
   "metadata": {},
   "outputs": [
    {
     "name": "stderr",
     "output_type": "stream",
     "text": [
      "100%|██████████| 1000/1000 [03:13<00:00,  5.18it/s]\n"
     ]
    },
    {
     "data": {
      "text/plain": [
       "363.392"
      ]
     },
     "execution_count": 42,
     "metadata": {},
     "output_type": "execute_result"
    }
   ],
   "source": [
    "# threshold 3.13\n",
    "arl(phi1=0.4, phi2=0.3, delta = 0, gamma = 1, run = 1000, length = 1000, cl = 3.13)"
   ]
  },
  {
   "cell_type": "code",
   "execution_count": 43,
   "metadata": {},
   "outputs": [
    {
     "name": "stderr",
     "output_type": "stream",
     "text": [
      "100%|██████████| 1000/1000 [03:26<00:00,  4.84it/s]\n"
     ]
    },
    {
     "data": {
      "text/plain": [
       "378.399"
      ]
     },
     "execution_count": 43,
     "metadata": {},
     "output_type": "execute_result"
    }
   ],
   "source": [
    "# threshold 3.16\n",
    "arl(phi1=0.4, phi2=0.3, delta = 0, gamma = 1, run = 1000, length = 1000, cl = 3.16)"
   ]
  },
  {
   "cell_type": "code",
   "execution_count": 44,
   "metadata": {},
   "outputs": [
    {
     "name": "stderr",
     "output_type": "stream",
     "text": [
      "100%|██████████| 1000/1000 [03:11<00:00,  5.21it/s]\n"
     ]
    },
    {
     "data": {
      "text/plain": [
       "372.07"
      ]
     },
     "execution_count": 44,
     "metadata": {},
     "output_type": "execute_result"
    }
   ],
   "source": [
    "# threshold 3.14\n",
    "arl(phi1=0.4, phi2=0.3, delta = 0, gamma = 1, run = 1000, length = 1000, cl = 3.14)"
   ]
  },
  {
   "cell_type": "code",
   "execution_count": 45,
   "metadata": {},
   "outputs": [
    {
     "name": "stderr",
     "output_type": "stream",
     "text": [
      "100%|██████████| 10000/10000 [32:01<00:00,  5.21it/s] \n"
     ]
    },
    {
     "data": {
      "text/plain": [
       "365.1518"
      ]
     },
     "execution_count": 45,
     "metadata": {},
     "output_type": "execute_result"
    }
   ],
   "source": [
    "# threshold 3.14\n",
    "arl(phi1=0.4, phi2=0.3, delta = 0, gamma = 1, run = 10000, length = 1000, cl = 3.14)"
   ]
  },
  {
   "cell_type": "code",
   "execution_count": 46,
   "metadata": {},
   "outputs": [
    {
     "name": "stderr",
     "output_type": "stream",
     "text": [
      "100%|██████████| 10000/10000 [32:40<00:00,  5.10it/s] \n"
     ]
    },
    {
     "data": {
      "text/plain": [
       "370.3189"
      ]
     },
     "execution_count": 46,
     "metadata": {},
     "output_type": "execute_result"
    }
   ],
   "source": [
    "# threshold 3.15\n",
    "arl(phi1=0.4, phi2=0.3, delta = 0, gamma = 1, run = 10000, length = 1000, cl = 3.15)"
   ]
  },
  {
   "cell_type": "markdown",
   "metadata": {},
   "source": [
    "##### ARL1"
   ]
  },
  {
   "cell_type": "code",
   "execution_count": 47,
   "metadata": {},
   "outputs": [
    {
     "name": "stderr",
     "output_type": "stream",
     "text": [
      "  0%|          | 0/10000 [00:00<?, ?it/s]/opt/homebrew/Caskroom/miniforge/base/envs/python3119/lib/python3.11/site-packages/torch/nn/modules/loss.py:535: UserWarning: Using a target size (torch.Size([12])) that is different to the input size (torch.Size([12, 12])). This will likely lead to incorrect results due to broadcasting. Please ensure they have the same size.\n",
      "  return F.mse_loss(input, target, reduction=self.reduction)\n",
      "100%|██████████| 10000/10000 [27:02<00:00,  6.16it/s]\n",
      "100%|██████████| 10000/10000 [14:07<00:00, 11.79it/s]\n",
      "100%|██████████| 10000/10000 [02:47<00:00, 59.69it/s]\n",
      "100%|██████████| 10000/10000 [00:48<00:00, 206.90it/s]\n",
      "100%|██████████| 10000/10000 [02:37<00:00, 63.57it/s]\n",
      "100%|██████████| 10000/10000 [02:15<00:00, 73.64it/s]\n",
      "100%|██████████| 10000/10000 [01:18<00:00, 128.16it/s]\n",
      "100%|██████████| 10000/10000 [00:38<00:00, 257.03it/s]\n",
      "100%|██████████| 10000/10000 [02:41<00:00, 61.94it/s]\n",
      "100%|██████████| 10000/10000 [01:08<00:00, 146.46it/s]\n",
      "100%|██████████| 10000/10000 [00:35<00:00, 280.06it/s]"
     ]
    },
    {
     "name": "stdout",
     "output_type": "stream",
     "text": [
      "0.5: 306.3382, 1:157.9416,2:31.2511,3:7.3768\n",
      "0.5:27.4645,1:23.4224,2:12.9014,3:5.8543\n",
      "1.5:29.5474,2:11.7555,3:5.4295\n"
     ]
    },
    {
     "name": "stderr",
     "output_type": "stream",
     "text": [
      "\n"
     ]
    }
   ],
   "source": [
    "arl1(phi1=0.4, phi2=0.3, run=10000, length=1000, cl= 3.15)"
   ]
  },
  {
   "cell_type": "markdown",
   "metadata": {},
   "source": [
    "#### Case 4) phi1 = 0.6, phi2 = 0.2 일 때"
   ]
  },
  {
   "cell_type": "markdown",
   "metadata": {},
   "source": [
    "##### ARL0 (threshold 임의추정)"
   ]
  },
  {
   "cell_type": "code",
   "execution_count": 48,
   "metadata": {},
   "outputs": [
    {
     "name": "stderr",
     "output_type": "stream",
     "text": [
      "100%|██████████| 1000/1000 [02:25<00:00,  6.86it/s]\n"
     ]
    },
    {
     "data": {
      "text/plain": [
       "277.46"
      ]
     },
     "execution_count": 48,
     "metadata": {},
     "output_type": "execute_result"
    }
   ],
   "source": [
    "# threshold 3.98\n",
    "arl(phi1=0.6, phi2=0.2, delta = 0, gamma = 1, run = 1000, length = 1000, cl = 3.98)"
   ]
  },
  {
   "cell_type": "code",
   "execution_count": 49,
   "metadata": {},
   "outputs": [
    {
     "name": "stderr",
     "output_type": "stream",
     "text": [
      "  0%|          | 0/1000 [00:00<?, ?it/s]/opt/homebrew/Caskroom/miniforge/base/envs/python3119/lib/python3.11/site-packages/torch/nn/modules/loss.py:535: UserWarning: Using a target size (torch.Size([12])) that is different to the input size (torch.Size([12, 12])). This will likely lead to incorrect results due to broadcasting. Please ensure they have the same size.\n",
      "  return F.mse_loss(input, target, reduction=self.reduction)\n",
      "100%|██████████| 1000/1000 [02:53<00:00,  5.76it/s]\n"
     ]
    },
    {
     "data": {
      "text/plain": [
       "337.374"
      ]
     },
     "execution_count": 49,
     "metadata": {},
     "output_type": "execute_result"
    }
   ],
   "source": [
    "# threshold 4.3\n",
    "arl(phi1=0.6, phi2=0.2, delta = 0, gamma = 1, run = 1000, length = 1000, cl = 4.3)"
   ]
  },
  {
   "cell_type": "code",
   "execution_count": 50,
   "metadata": {},
   "outputs": [
    {
     "name": "stderr",
     "output_type": "stream",
     "text": [
      "100%|██████████| 1000/1000 [03:34<00:00,  4.66it/s]\n"
     ]
    },
    {
     "data": {
      "text/plain": [
       "400.035"
      ]
     },
     "execution_count": 50,
     "metadata": {},
     "output_type": "execute_result"
    }
   ],
   "source": [
    "# threshold 4.5\n",
    "arl(phi1=0.6, phi2=0.2, delta = 0, gamma = 1, run = 1000, length = 1000, cl = 4.5)"
   ]
  },
  {
   "cell_type": "code",
   "execution_count": 51,
   "metadata": {},
   "outputs": [
    {
     "name": "stderr",
     "output_type": "stream",
     "text": [
      "100%|██████████| 1000/1000 [03:46<00:00,  4.41it/s]\n"
     ]
    },
    {
     "data": {
      "text/plain": [
       "399.006"
      ]
     },
     "execution_count": 51,
     "metadata": {},
     "output_type": "execute_result"
    }
   ],
   "source": [
    "# threshold 4.43\n",
    "arl(phi1=0.6, phi2=0.2, delta = 0, gamma = 1, run = 1000, length = 1000, cl = 4.43)"
   ]
  },
  {
   "cell_type": "code",
   "execution_count": 52,
   "metadata": {},
   "outputs": [
    {
     "name": "stderr",
     "output_type": "stream",
     "text": [
      "100%|██████████| 1000/1000 [02:54<00:00,  5.74it/s]\n"
     ]
    },
    {
     "data": {
      "text/plain": [
       "338.274"
      ]
     },
     "execution_count": 52,
     "metadata": {},
     "output_type": "execute_result"
    }
   ],
   "source": [
    "# threshold 4.24\n",
    "arl(phi1=0.6, phi2=0.2, delta = 0, gamma = 1, run = 1000, length = 1000, cl = 4.24)"
   ]
  },
  {
   "cell_type": "code",
   "execution_count": 53,
   "metadata": {},
   "outputs": [
    {
     "name": "stderr",
     "output_type": "stream",
     "text": [
      "100%|██████████| 1000/1000 [03:14<00:00,  5.14it/s]\n"
     ]
    },
    {
     "data": {
      "text/plain": [
       "354.621"
      ]
     },
     "execution_count": 53,
     "metadata": {},
     "output_type": "execute_result"
    }
   ],
   "source": [
    "# threshold 4.3\n",
    "arl(phi1=0.6, phi2=0.2, delta = 0, gamma = 1, run = 1000, length = 1000, cl = 4.3)"
   ]
  },
  {
   "cell_type": "code",
   "execution_count": 55,
   "metadata": {},
   "outputs": [
    {
     "name": "stderr",
     "output_type": "stream",
     "text": [
      "100%|██████████| 1000/1000 [03:22<00:00,  4.94it/s]\n"
     ]
    },
    {
     "data": {
      "text/plain": [
       "370.072"
      ]
     },
     "execution_count": 55,
     "metadata": {},
     "output_type": "execute_result"
    }
   ],
   "source": [
    "# threshold 4.37\n",
    "arl(phi1=0.6, phi2=0.2, delta = 0, gamma = 1, run = 1000, length = 1000, cl = 4.37)"
   ]
  },
  {
   "cell_type": "code",
   "execution_count": 56,
   "metadata": {},
   "outputs": [
    {
     "name": "stderr",
     "output_type": "stream",
     "text": [
      "100%|██████████| 10000/10000 [32:16<00:00,  5.16it/s] \n"
     ]
    },
    {
     "data": {
      "text/plain": [
       "374.7038"
      ]
     },
     "execution_count": 56,
     "metadata": {},
     "output_type": "execute_result"
    }
   ],
   "source": [
    "# threshold 4.37\n",
    "arl(phi1=0.6, phi2=0.2, delta = 0, gamma = 1, run = 10000, length = 1000, cl = 4.37)"
   ]
  },
  {
   "cell_type": "code",
   "execution_count": null,
   "metadata": {},
   "outputs": [],
   "source": [
    "# threshold 4.37\n",
    "arl(phi1=0.6, phi2=0.2, delta = 0, gamma = 1, run = 10000, length = 1000, cl = 4.37)"
   ]
  },
  {
   "cell_type": "markdown",
   "metadata": {},
   "source": [
    "##### ARL1"
   ]
  },
  {
   "cell_type": "code",
   "execution_count": 57,
   "metadata": {},
   "outputs": [
    {
     "name": "stderr",
     "output_type": "stream",
     "text": [
      "  0%|          | 0/10000 [00:00<?, ?it/s]/opt/homebrew/Caskroom/miniforge/base/envs/python3119/lib/python3.11/site-packages/torch/nn/modules/loss.py:535: UserWarning: Using a target size (torch.Size([12])) that is different to the input size (torch.Size([12, 12])). This will likely lead to incorrect results due to broadcasting. Please ensure they have the same size.\n",
      "  return F.mse_loss(input, target, reduction=self.reduction)\n",
      "100%|██████████| 10000/10000 [26:33<00:00,  6.28it/s]\n",
      "100%|██████████| 10000/10000 [12:57<00:00, 12.86it/s]\n",
      "100%|██████████| 10000/10000 [02:42<00:00, 61.71it/s]\n",
      "100%|██████████| 10000/10000 [00:45<00:00, 220.77it/s]\n",
      "100%|██████████| 10000/10000 [03:15<00:00, 51.24it/s]\n",
      "100%|██████████| 10000/10000 [02:37<00:00, 63.44it/s]\n",
      "100%|██████████| 10000/10000 [01:25<00:00, 117.58it/s]\n",
      "100%|██████████| 10000/10000 [00:41<00:00, 243.49it/s]\n",
      "100%|██████████| 10000/10000 [03:15<00:00, 51.08it/s]\n",
      "100%|██████████| 10000/10000 [01:26<00:00, 115.01it/s]\n",
      "100%|██████████| 10000/10000 [00:43<00:00, 232.51it/s]"
     ]
    },
    {
     "name": "stdout",
     "output_type": "stream",
     "text": [
      "0.5: 281.7393, 1:146.2362,2:30.0024,3:7.2223\n",
      "0.5:35.2859,1:28.7356,2:14.9904,3:6.56\n",
      "1.5:36.6503,2:15.4315,3:6.8686\n"
     ]
    },
    {
     "name": "stderr",
     "output_type": "stream",
     "text": [
      "\n"
     ]
    }
   ],
   "source": [
    "arl1(phi1=0.6, phi2=0.2, run=10000, length=1000, cl= 4.37)"
   ]
  },
  {
   "cell_type": "markdown",
   "metadata": {},
   "source": [
    "#### Case 5) phi1 = 0.8, phi2 = 0.1 일 때"
   ]
  },
  {
   "cell_type": "markdown",
   "metadata": {},
   "source": [
    "##### ARL0 (threshold 임의추정)"
   ]
  },
  {
   "cell_type": "code",
   "execution_count": 58,
   "metadata": {},
   "outputs": [
    {
     "name": "stderr",
     "output_type": "stream",
     "text": [
      "100%|██████████| 1000/1000 [01:33<00:00, 10.67it/s]\n"
     ]
    },
    {
     "data": {
      "text/plain": [
       "184.785"
      ]
     },
     "execution_count": 58,
     "metadata": {},
     "output_type": "execute_result"
    }
   ],
   "source": [
    "# threshold 5.9\n",
    "arl(phi1=0.8, phi2=0.1, delta = 0, gamma = 1, run = 1000, length = 1000, cl = 5.9)"
   ]
  },
  {
   "cell_type": "code",
   "execution_count": 59,
   "metadata": {},
   "outputs": [
    {
     "name": "stderr",
     "output_type": "stream",
     "text": [
      "100%|██████████| 1000/1000 [03:43<00:00,  4.48it/s]\n"
     ]
    },
    {
     "data": {
      "text/plain": [
       "440.316"
      ]
     },
     "execution_count": 59,
     "metadata": {},
     "output_type": "execute_result"
    }
   ],
   "source": [
    "# threshold 8\n",
    "arl(phi1=0.8, phi2=0.1, delta = 0, gamma = 1, run = 1000, length = 1000, cl = 8)"
   ]
  },
  {
   "cell_type": "code",
   "execution_count": 60,
   "metadata": {},
   "outputs": [
    {
     "name": "stderr",
     "output_type": "stream",
     "text": [
      "100%|██████████| 1000/1000 [02:29<00:00,  6.69it/s]\n"
     ]
    },
    {
     "data": {
      "text/plain": [
       "291.612"
      ]
     },
     "execution_count": 60,
     "metadata": {},
     "output_type": "execute_result"
    }
   ],
   "source": [
    "# threshold 7\n",
    "arl(phi1=0.8, phi2=0.1, delta = 0, gamma = 1, run = 1000, length = 1000, cl = 7)"
   ]
  },
  {
   "cell_type": "code",
   "execution_count": 61,
   "metadata": {},
   "outputs": [
    {
     "name": "stderr",
     "output_type": "stream",
     "text": [
      "  0%|          | 0/1000 [00:00<?, ?it/s]/opt/homebrew/Caskroom/miniforge/base/envs/python3119/lib/python3.11/site-packages/torch/nn/modules/loss.py:535: UserWarning: Using a target size (torch.Size([12])) that is different to the input size (torch.Size([12, 12])). This will likely lead to incorrect results due to broadcasting. Please ensure they have the same size.\n",
      "  return F.mse_loss(input, target, reduction=self.reduction)\n",
      "100%|██████████| 1000/1000 [03:10<00:00,  5.24it/s]\n"
     ]
    },
    {
     "data": {
      "text/plain": [
       "375.274"
      ]
     },
     "execution_count": 61,
     "metadata": {},
     "output_type": "execute_result"
    }
   ],
   "source": [
    "# threshold 7.5\n",
    "arl(phi1=0.8, phi2=0.1, delta = 0, gamma = 1, run = 1000, length = 1000, cl = 7.5)"
   ]
  },
  {
   "cell_type": "code",
   "execution_count": 62,
   "metadata": {},
   "outputs": [
    {
     "name": "stderr",
     "output_type": "stream",
     "text": [
      "100%|██████████| 1000/1000 [03:01<00:00,  5.52it/s]\n"
     ]
    },
    {
     "data": {
      "text/plain": [
       "356.055"
      ]
     },
     "execution_count": 62,
     "metadata": {},
     "output_type": "execute_result"
    }
   ],
   "source": [
    "# threshold 7.49\n",
    "arl(phi1=0.8, phi2=0.1, delta = 0, gamma = 1, run = 1000, length = 1000, cl = 7.49)"
   ]
  },
  {
   "cell_type": "code",
   "execution_count": 63,
   "metadata": {},
   "outputs": [
    {
     "name": "stderr",
     "output_type": "stream",
     "text": [
      "100%|██████████| 10000/10000 [36:46<00:00,  4.53it/s] \n"
     ]
    },
    {
     "data": {
      "text/plain": [
       "364.0695"
      ]
     },
     "execution_count": 63,
     "metadata": {},
     "output_type": "execute_result"
    }
   ],
   "source": [
    "# threshold 7.5\n",
    "arl(phi1=0.8, phi2=0.1, delta = 0, gamma = 1, run = 10000, length = 1000, cl = 7.5)"
   ]
  },
  {
   "cell_type": "code",
   "execution_count": 64,
   "metadata": {},
   "outputs": [
    {
     "name": "stderr",
     "output_type": "stream",
     "text": [
      "  0%|          | 0/10000 [00:00<?, ?it/s]/opt/homebrew/Caskroom/miniforge/base/envs/python3119/lib/python3.11/site-packages/torch/nn/modules/loss.py:535: UserWarning: Using a target size (torch.Size([12])) that is different to the input size (torch.Size([12, 12])). This will likely lead to incorrect results due to broadcasting. Please ensure they have the same size.\n",
      "  return F.mse_loss(input, target, reduction=self.reduction)\n",
      "100%|██████████| 10000/10000 [37:06<00:00,  4.49it/s] \n"
     ]
    },
    {
     "data": {
      "text/plain": [
       "360.4295"
      ]
     },
     "execution_count": 64,
     "metadata": {},
     "output_type": "execute_result"
    }
   ],
   "source": [
    "# threshold 7.51\n",
    "arl(phi1=0.8, phi2=0.1, delta = 0, gamma = 1, run = 10000, length = 1000, cl = 7.51)"
   ]
  },
  {
   "cell_type": "code",
   "execution_count": 67,
   "metadata": {},
   "outputs": [
    {
     "name": "stderr",
     "output_type": "stream",
     "text": [
      "100%|██████████| 1000/1000 [03:33<00:00,  4.68it/s]\n"
     ]
    },
    {
     "data": {
      "text/plain": [
       "365.099"
      ]
     },
     "execution_count": 67,
     "metadata": {},
     "output_type": "execute_result"
    }
   ],
   "source": [
    "# threshold 7.54\n",
    "arl(phi1=0.8, phi2=0.1, delta = 0, gamma = 1, run = 1000, length = 1000, cl = 7.54)"
   ]
  },
  {
   "cell_type": "code",
   "execution_count": 68,
   "metadata": {},
   "outputs": [
    {
     "name": "stderr",
     "output_type": "stream",
     "text": [
      "100%|██████████| 1000/1000 [03:38<00:00,  4.58it/s]\n"
     ]
    },
    {
     "data": {
      "text/plain": [
       "364.112"
      ]
     },
     "execution_count": 68,
     "metadata": {},
     "output_type": "execute_result"
    }
   ],
   "source": [
    "# threshold 7.6\n",
    "arl(phi1=0.8, phi2=0.1, delta = 0, gamma = 1, run = 1000, length = 1000, cl = 7.6)"
   ]
  },
  {
   "cell_type": "code",
   "execution_count": 69,
   "metadata": {},
   "outputs": [
    {
     "name": "stderr",
     "output_type": "stream",
     "text": [
      "100%|██████████| 1000/1000 [03:17<00:00,  5.07it/s]\n"
     ]
    },
    {
     "data": {
      "text/plain": [
       "387.188"
      ]
     },
     "execution_count": 69,
     "metadata": {},
     "output_type": "execute_result"
    }
   ],
   "source": [
    "# threshold 7.7\n",
    "arl(phi1=0.8, phi2=0.1, delta = 0, gamma = 1, run = 1000, length = 1000, cl = 7.7)"
   ]
  },
  {
   "cell_type": "code",
   "execution_count": 70,
   "metadata": {},
   "outputs": [
    {
     "name": "stderr",
     "output_type": "stream",
     "text": [
      "100%|██████████| 1000/1000 [03:47<00:00,  4.40it/s]\n"
     ]
    },
    {
     "data": {
      "text/plain": [
       "371.243"
      ]
     },
     "execution_count": 70,
     "metadata": {},
     "output_type": "execute_result"
    }
   ],
   "source": [
    "# threshold 7.63\n",
    "arl(phi1=0.8, phi2=0.1, delta = 0, gamma = 1, run = 1000, length = 1000, cl = 7.63)"
   ]
  },
  {
   "cell_type": "code",
   "execution_count": 71,
   "metadata": {},
   "outputs": [
    {
     "name": "stderr",
     "output_type": "stream",
     "text": [
      "100%|██████████| 10000/10000 [37:44<00:00,  4.42it/s] \n"
     ]
    },
    {
     "data": {
      "text/plain": [
       "372.7518"
      ]
     },
     "execution_count": 71,
     "metadata": {},
     "output_type": "execute_result"
    }
   ],
   "source": [
    "# threshold 7.63\n",
    "arl(phi1=0.8, phi2=0.1, delta = 0, gamma = 1, run = 10000, length = 1000, cl = 7.63)"
   ]
  },
  {
   "cell_type": "markdown",
   "metadata": {},
   "source": [
    "##### ARL1"
   ]
  },
  {
   "cell_type": "code",
   "execution_count": 72,
   "metadata": {},
   "outputs": [
    {
     "name": "stderr",
     "output_type": "stream",
     "text": [
      "100%|██████████| 10000/10000 [24:31<00:00,  6.80it/s]\n",
      "100%|██████████| 10000/10000 [09:44<00:00, 17.10it/s]\n",
      "100%|██████████| 10000/10000 [02:06<00:00, 79.27it/s]\n",
      "100%|██████████| 10000/10000 [00:34<00:00, 286.36it/s]\n",
      "100%|██████████| 10000/10000 [03:54<00:00, 42.69it/s]\n",
      "100%|██████████| 10000/10000 [03:10<00:00, 52.45it/s]\n",
      "100%|██████████| 10000/10000 [01:31<00:00, 109.12it/s]\n",
      "100%|██████████| 10000/10000 [00:38<00:00, 261.47it/s]\n",
      "100%|██████████| 10000/10000 [04:17<00:00, 38.90it/s]\n",
      "100%|██████████| 10000/10000 [01:56<00:00, 85.99it/s]\n",
      "100%|██████████| 10000/10000 [00:56<00:00, 178.11it/s]"
     ]
    },
    {
     "name": "stdout",
     "output_type": "stream",
     "text": [
      "0.5: 251.0741, 1:114.5545,2:23.5539,3:5.4019\n",
      "0.5:44.716,1:36.1151,2:16.5653,3:6.0176\n",
      "1.5:49.0768,2:21.3912,3:9.5242\n"
     ]
    },
    {
     "name": "stderr",
     "output_type": "stream",
     "text": [
      "\n"
     ]
    }
   ],
   "source": [
    "arl1(phi1=0.8, phi2=0.1, run=10000, length=1000, cl= 7.63)"
   ]
  },
  {
   "cell_type": "code",
   "execution_count": null,
   "metadata": {},
   "outputs": [],
   "source": []
  }
 ],
 "metadata": {
  "kernelspec": {
   "display_name": "python3119",
   "language": "python",
   "name": "python3"
  },
  "language_info": {
   "codemirror_mode": {
    "name": "ipython",
    "version": 3
   },
   "file_extension": ".py",
   "mimetype": "text/x-python",
   "name": "python",
   "nbconvert_exporter": "python",
   "pygments_lexer": "ipython3",
   "version": "3.11.9"
  }
 },
 "nbformat": 4,
 "nbformat_minor": 2
}
