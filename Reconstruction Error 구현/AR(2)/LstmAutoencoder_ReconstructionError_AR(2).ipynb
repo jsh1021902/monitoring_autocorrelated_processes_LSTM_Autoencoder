{
 "cells": [
  {
   "cell_type": "code",
   "execution_count": 1,
   "metadata": {},
   "outputs": [],
   "source": [
    "import numpy as np\n",
    "import torch\n",
    "from torch import nn\n",
    "import torch.optim as optim\n",
    "from torch.utils.data import TensorDataset\n",
    "from torch.utils.data import DataLoader\n",
    "import matplotlib.pyplot as plt\n",
    "from sklearn.metrics import mean_squared_error\n",
    "from pytorchtools import EarlyStopping\n",
    "import math\n",
    "from tqdm import tqdm"
   ]
  },
  {
   "cell_type": "markdown",
   "metadata": {},
   "source": [
    "#### Numpy & Python Version 확인"
   ]
  },
  {
   "cell_type": "code",
   "execution_count": 2,
   "metadata": {},
   "outputs": [
    {
     "name": "stdout",
     "output_type": "stream",
     "text": [
      "NumPy 버전: 1.24.3\n",
      "Python 버전: 3.11.9\n"
     ]
    }
   ],
   "source": [
    "import numpy as np\n",
    "import platform\n",
    "\n",
    "# NumPy 버전 확인\n",
    "numpy_version = np.__version__\n",
    "\n",
    "# Python 버전 확인\n",
    "python_version = platform.python_version()\n",
    "\n",
    "print(f\"NumPy 버전: {numpy_version}\")\n",
    "print(f\"Python 버전: {python_version}\")"
   ]
  },
  {
   "cell_type": "markdown",
   "metadata": {},
   "source": [
    "#### CUDA 사용 및 EarlyStopping 설정"
   ]
  },
  {
   "cell_type": "code",
   "execution_count": 3,
   "metadata": {},
   "outputs": [
    {
     "data": {
      "text/plain": [
       "True"
      ]
     },
     "execution_count": 3,
     "metadata": {},
     "output_type": "execute_result"
    }
   ],
   "source": [
    "torch.cuda.is_available()"
   ]
  },
  {
   "cell_type": "code",
   "execution_count": 4,
   "metadata": {},
   "outputs": [
    {
     "name": "stdout",
     "output_type": "stream",
     "text": [
      "cuda:0\n"
     ]
    }
   ],
   "source": [
    "device = torch.device('cuda:0') if torch.cuda.is_available() else torch.device('cpu')\n",
    "print(device)\n",
    "early_stopping = EarlyStopping(patience = 5, verbose = True)"
   ]
  },
  {
   "cell_type": "markdown",
   "metadata": {},
   "source": [
    "#### 모델 저장"
   ]
  },
  {
   "cell_type": "code",
   "execution_count": 5,
   "metadata": {},
   "outputs": [],
   "source": [
    "def saveModel():\n",
    "    torch.save(model.state_dict(), 'model_lstm_autoencoder_AR(2).pt') # 모델의 학습된 매개변수 파일에 저장"
   ]
  },
  {
   "cell_type": "markdown",
   "metadata": {},
   "source": [
    "#### 하이퍼 파라미터 설정"
   ]
  },
  {
   "cell_type": "code",
   "execution_count": 6,
   "metadata": {},
   "outputs": [],
   "source": [
    "# 하이퍼파라미터 설정\n",
    "length = 12            # 윈도우 사이즈 (생성할 시계열 데이터의 길이)\n",
    "trainrun = 200       # 생성할 학습 데이터 시퀀스의 수 \n",
    "validrun = 100         # 생성할 검증 데이터 시퀀스의 수 \n",
    "\n",
    "# 시계열 데이터 생성을 위한 매개변수\n",
    "# 자기상관계수 (phi1, phi2별로 생성)\n",
    "phi1 = np.array([0, 0.25, 0.4, 0.6, 0.8])\n",
    "phi2 = np.array([0.1, 0.2, 0.3, 0.2, 0.1])\n",
    "\n",
    "# 변화율 크기\n",
    "psi1 = 0\n",
    "\n",
    "# 공정의 수준 변화율 (delta)\n",
    "de1 = 0\n",
    "\n",
    "# 공정의 분산 변화율 (gamma)\n",
    "ga = 1"
   ]
  },
  {
   "cell_type": "markdown",
   "metadata": {},
   "source": [
    "#### 시계열 데이터 생성"
   ]
  },
  {
   "cell_type": "code",
   "execution_count": 7,
   "metadata": {},
   "outputs": [],
   "source": [
    "np.random.seed(1)\n",
    "\n",
    "# AR(2) 시계열 데이터 생성 함수\n",
    "def ar2(phi1, phi2, delta, gamma, psi, length, run):\n",
    "    # 초기 설정\n",
    "    y = np.zeros(shape=(run, length))                                                         # 생성될 시계열 데이터를 저장할 빈 배열을 초기화. 배열의 크기는 (생성할 데이터 시퀀스의 수, 각 시퀀스의 길이) \n",
    "    sigma = math.sqrt((1 - phi2) / ((1 + phi2) * (1 - phi2 - phi1) * (1 - phi2 + phi1)))     # AR(2)모델의 표준 편차\n",
    "    \n",
    "    # 데이터 시퀀스 생성\n",
    "    for j in range(0, run):                                     # 각 run 마다 랜덤 노이즈(e)를 정규분포에서 추출하여 시계열의 기본 노이즈 생성 (과적합 방지 차원)\n",
    "        e = np.random.normal(loc=0, scale=1, size=length)       \n",
    "        x = np.zeros(length)\n",
    "        \n",
    "        x[0] = e[0]                                             # x 배열 초기화하고, 첫 번째 시점의 값은 첫 번째 노이즈 값으로 설정 (시계열의 시작점에서 발생할 수 있는 임의성 반영 및 자기상관 구조 구현)\n",
    "\n",
    "        # psi 시점 이전의 데이터 생성\n",
    "        for i in range(2, psi):                                 # psi 시점 이전까지는 관리상태 데이터\n",
    "            x[i] = phi1 * x[i - 1] + phi2 * x[i - 2] + e[i]     # AR(2)모델의 관리상태\n",
    "            \n",
    "        # psi 시점 이후의 데이터 생성 및 변동성 적용\n",
    "        for i in range(psi,len(x)):                             # AR(2)모델의 이상상태\n",
    "            e[i] = gamma * e[i]\n",
    "            x[i] = phi1 * x[i - 1] + phi2 * x[i - 2] + e[i] \n",
    "        for i in range(psi,len(x)):                             # delta(변동성 크기 조절하는 매개변수)를 통한 추가 변동성 적용\n",
    "            x[i] = x[i] + delta*sigma\n",
    "        \n",
    "        # 최종 데이터 반환 (각 run에 대해 생성된 시계열 데이터를 저장)  \n",
    "        y[j] = x\n",
    "\n",
    "    return y\n",
    "\n",
    "\n",
    "\n",
    "# 다양한 매개변수 조합에 대한 시계열 데이터 세트 생성\n",
    "def totaldat(run,length):\n",
    "    # 빈 데이터 배열 초기화\n",
    "    y = np.zeros(shape=(len(phi1), run, length))\n",
    "    # 매개변수 조합별 데이터 생성\n",
    "    for i, (phi_1, phi_2) in enumerate(zip(phi1, phi2)):\n",
    "        y[i]= ar2(phi_1, phi_2, de1, ga, psi1, length, run)\n",
    "\n",
    "    return y.reshape(run * len(phi1), length)                 # 생성된 데이터를 적절한 형태로 재배열\n"
   ]
  },
  {
   "cell_type": "code",
   "execution_count": 8,
   "metadata": {},
   "outputs": [],
   "source": [
    "# 훈련용 시계열 데이터\n",
    "# 데이터 생성 및 변형\n",
    "train_x = totaldat(trainrun,length)                             # 훈련용 시계열 데이터 생성\n",
    "train_x = train_x.reshape(trainrun*len(phi1),length)            \n",
    "\n",
    "# 검증용 시계열 데이터\n",
    "# 데이터 생성 및 변형\n",
    "valid_x = totaldat(run = validrun, length = length)\n",
    "valid_x = valid_x.reshape(validrun*len(phi1),length)\n",
    "\n",
    "# PyTorch 텐서로 변환 및 장치 할당\n",
    "device = torch.device(\"cuda\" if torch.cuda.is_available() else \"cpu\")\n",
    "train_x = torch.FloatTensor(train_x).to(device)\n",
    "valid_x = torch.FloatTensor(valid_x).to(device)\n",
    "\n",
    "# DataLoader 설정\n",
    "trainloader = DataLoader(train_x, shuffle=True)                  # 데이터셋에서 미니배치 자동으로 생성 후 모델 학습 및 평가 시 배치 처리를 용이하게 함 (훈련에서는 데이터를 섞어 학습 과정에서의 일반화 능력 향상)\n",
    "validloader = DataLoader(valid_x, shuffle=False)                # 학습 및 검증에서는 데이터 순서 유지"
   ]
  },
  {
   "cell_type": "code",
   "execution_count": 9,
   "metadata": {},
   "outputs": [
    {
     "name": "stdout",
     "output_type": "stream",
     "text": [
      "torch.Size([1, 12])\n"
     ]
    }
   ],
   "source": [
    "for data in trainloader:\n",
    "    print(data.shape)\n",
    "    break"
   ]
  },
  {
   "cell_type": "code",
   "execution_count": 10,
   "metadata": {},
   "outputs": [
    {
     "data": {
      "text/plain": [
       "1000"
      ]
     },
     "execution_count": 10,
     "metadata": {},
     "output_type": "execute_result"
    }
   ],
   "source": [
    "len(trainloader)"
   ]
  },
  {
   "cell_type": "code",
   "execution_count": 11,
   "metadata": {},
   "outputs": [
    {
     "data": {
      "text/plain": [
       "500"
      ]
     },
     "execution_count": 11,
     "metadata": {},
     "output_type": "execute_result"
    }
   ],
   "source": [
    "len(validloader)"
   ]
  },
  {
   "cell_type": "code",
   "execution_count": 12,
   "metadata": {},
   "outputs": [
    {
     "data": {
      "text/plain": [
       "12"
      ]
     },
     "execution_count": 12,
     "metadata": {},
     "output_type": "execute_result"
    }
   ],
   "source": [
    "train_x.shape[1]"
   ]
  },
  {
   "cell_type": "markdown",
   "metadata": {},
   "source": [
    "#### LSTM Autoencoder 구조"
   ]
  },
  {
   "cell_type": "code",
   "execution_count": 13,
   "metadata": {},
   "outputs": [],
   "source": [
    "import torch\n",
    "import torch.nn as nn\n",
    "from torch.utils.data import DataLoader, TensorDataset\n",
    "\n",
    "# LSTM Encoder 클래스 정의\n",
    "class LSTMEncoder(nn.Module):\n",
    "    def __init__(self, input_dim, hidden_dim, latent_dim):\n",
    "        super(LSTMEncoder, self).__init__()\n",
    "        self.hidden_dim = hidden_dim\n",
    "        self.latent_dim = latent_dim\n",
    "        self.lstm = nn.LSTM(input_dim, hidden_dim, num_layers=2, batch_first=True)\n",
    "        self.hidden_to_latent = nn.Linear(hidden_dim, latent_dim)\n",
    "\n",
    "    def forward(self, x):\n",
    "        _, (hidden, _) = self.lstm(x)\n",
    "        return self.hidden_to_latent(hidden[-1])\n",
    "\n",
    "# LSTM Decoder 클래스 정의\n",
    "class LSTMDecoder(nn.Module):\n",
    "    def __init__(self, latent_dim, hidden_dim, output_dim, seq_length):\n",
    "        super(LSTMDecoder, self).__init__()\n",
    "        self.hidden_dim = hidden_dim\n",
    "        self.seq_length = seq_length\n",
    "        self.latent_to_hidden = nn.Linear(latent_dim, hidden_dim)\n",
    "        self.lstm = nn.LSTM(hidden_dim, hidden_dim, num_layers=2, batch_first=True)\n",
    "        self.outputs_to_data = nn.Linear(hidden_dim, output_dim)\n",
    "\n",
    "    def forward(self, z):\n",
    "        z = self.latent_to_hidden(z).unsqueeze(0)\n",
    "        repeated_z = z.repeat(self.seq_length, 1, 1).transpose(0, 1)\n",
    "        lstm_out, _ = self.lstm(repeated_z)\n",
    "        return self.outputs_to_data(lstm_out)\n",
    "\n",
    "# 전체 LSTM 오토인코더 모델\n",
    "class LSTMAutoencoder(nn.Module):\n",
    "    def __init__(self, input_dim, seq_length, hidden_dim=128, latent_dim=1):\n",
    "        super(LSTMAutoencoder, self).__init__()\n",
    "        self.encoder = LSTMEncoder(input_dim, hidden_dim, latent_dim)\n",
    "        self.decoder = LSTMDecoder(latent_dim, hidden_dim, input_dim, seq_length)\n",
    "\n",
    "    def forward(self, x):\n",
    "        z = self.encoder(x)\n",
    "        return self.decoder(z)\n",
    "\n",
    "# 모델 인스턴스 생성 및 설정\n",
    "model = LSTMAutoencoder(input_dim=length, seq_length=length, hidden_dim=128, latent_dim=1)\n",
    "model = model.to(device)"
   ]
  },
  {
   "cell_type": "code",
   "execution_count": 14,
   "metadata": {},
   "outputs": [],
   "source": [
    "import torch.optim as optim\n",
    "\n",
    "criterion = nn.MSELoss()\n",
    "optimizer = optim.Adam(model.parameters(), lr=1e-6)  # You can adjust the initial lr based on your model and training needs\n",
    "# scheduler = optim.lr_scheduler.ReduceLROnPlateau(optimizer, mode='min', factor=0.1, patience=10, verbose=True)"
   ]
  },
  {
   "cell_type": "code",
   "execution_count": 16,
   "metadata": {},
   "outputs": [
    {
     "name": "stdout",
     "output_type": "stream",
     "text": [
      "Epoch 1, Train Loss: 1.0194, Validation Loss: 1.0538\n",
      "Validation loss decreased (1.055042 --> 1.053813).  Saving model ...\n",
      "Epoch 2, Train Loss: 1.0183, Validation Loss: 1.0527\n",
      "Validation loss decreased (1.053813 --> 1.052656).  Saving model ...\n",
      "Epoch 3, Train Loss: 1.0171, Validation Loss: 1.0515\n",
      "Validation loss decreased (1.052656 --> 1.051549).  Saving model ...\n",
      "Epoch 4, Train Loss: 1.0160, Validation Loss: 1.0504\n",
      "Validation loss decreased (1.051549 --> 1.050397).  Saving model ...\n",
      "Epoch 5, Train Loss: 1.0150, Validation Loss: 1.0493\n",
      "Validation loss decreased (1.050397 --> 1.049318).  Saving model ...\n",
      "Epoch 6, Train Loss: 1.0140, Validation Loss: 1.0483\n",
      "Validation loss decreased (1.049318 --> 1.048257).  Saving model ...\n",
      "Epoch 7, Train Loss: 1.0129, Validation Loss: 1.0473\n",
      "Validation loss decreased (1.048257 --> 1.047256).  Saving model ...\n",
      "Epoch 8, Train Loss: 1.0119, Validation Loss: 1.0463\n",
      "Validation loss decreased (1.047256 --> 1.046262).  Saving model ...\n",
      "Epoch 9, Train Loss: 1.0110, Validation Loss: 1.0453\n",
      "Validation loss decreased (1.046262 --> 1.045294).  Saving model ...\n",
      "Epoch 10, Train Loss: 1.0100, Validation Loss: 1.0443\n",
      "Validation loss decreased (1.045294 --> 1.044305).  Saving model ...\n",
      "Epoch 11, Train Loss: 1.0091, Validation Loss: 1.0434\n",
      "Validation loss decreased (1.044305 --> 1.043353).  Saving model ...\n",
      "Epoch 12, Train Loss: 1.0083, Validation Loss: 1.0424\n",
      "Validation loss decreased (1.043353 --> 1.042399).  Saving model ...\n",
      "Epoch 13, Train Loss: 1.0074, Validation Loss: 1.0415\n",
      "Validation loss decreased (1.042399 --> 1.041546).  Saving model ...\n",
      "Epoch 14, Train Loss: 1.0065, Validation Loss: 1.0407\n",
      "Validation loss decreased (1.041546 --> 1.040671).  Saving model ...\n",
      "Epoch 15, Train Loss: 1.0057, Validation Loss: 1.0398\n",
      "Validation loss decreased (1.040671 --> 1.039777).  Saving model ...\n",
      "Epoch 16, Train Loss: 1.0049, Validation Loss: 1.0390\n",
      "Validation loss decreased (1.039777 --> 1.038952).  Saving model ...\n",
      "Epoch 17, Train Loss: 1.0041, Validation Loss: 1.0382\n",
      "Validation loss decreased (1.038952 --> 1.038240).  Saving model ...\n",
      "Epoch 18, Train Loss: 1.0033, Validation Loss: 1.0374\n",
      "Validation loss decreased (1.038240 --> 1.037365).  Saving model ...\n",
      "Epoch 19, Train Loss: 1.0025, Validation Loss: 1.0366\n",
      "Validation loss decreased (1.037365 --> 1.036558).  Saving model ...\n",
      "Epoch 20, Train Loss: 1.0018, Validation Loss: 1.0359\n",
      "Validation loss decreased (1.036558 --> 1.035869).  Saving model ...\n",
      "Epoch 21, Train Loss: 1.0010, Validation Loss: 1.0351\n",
      "Validation loss decreased (1.035869 --> 1.035128).  Saving model ...\n",
      "Epoch 22, Train Loss: 1.0003, Validation Loss: 1.0344\n",
      "Validation loss decreased (1.035128 --> 1.034358).  Saving model ...\n",
      "Epoch 23, Train Loss: 0.9996, Validation Loss: 1.0336\n",
      "Validation loss decreased (1.034358 --> 1.033583).  Saving model ...\n",
      "Epoch 24, Train Loss: 0.9989, Validation Loss: 1.0329\n",
      "Validation loss decreased (1.033583 --> 1.032928).  Saving model ...\n",
      "Epoch 25, Train Loss: 0.9982, Validation Loss: 1.0323\n",
      "Validation loss decreased (1.032928 --> 1.032270).  Saving model ...\n",
      "Epoch 26, Train Loss: 0.9975, Validation Loss: 1.0316\n",
      "Validation loss decreased (1.032270 --> 1.031565).  Saving model ...\n",
      "Epoch 27, Train Loss: 0.9969, Validation Loss: 1.0309\n",
      "Validation loss decreased (1.031565 --> 1.030932).  Saving model ...\n",
      "Epoch 28, Train Loss: 0.9962, Validation Loss: 1.0303\n",
      "Validation loss decreased (1.030932 --> 1.030329).  Saving model ...\n",
      "Epoch 29, Train Loss: 0.9956, Validation Loss: 1.0297\n",
      "Validation loss decreased (1.030329 --> 1.029689).  Saving model ...\n",
      "Epoch 30, Train Loss: 0.9950, Validation Loss: 1.0291\n",
      "Validation loss decreased (1.029689 --> 1.029075).  Saving model ...\n",
      "Epoch 31, Train Loss: 0.9943, Validation Loss: 1.0284\n",
      "Validation loss decreased (1.029075 --> 1.028439).  Saving model ...\n",
      "Epoch 32, Train Loss: 0.9937, Validation Loss: 1.0278\n",
      "Validation loss decreased (1.028439 --> 1.027842).  Saving model ...\n",
      "Epoch 33, Train Loss: 0.9931, Validation Loss: 1.0273\n",
      "Validation loss decreased (1.027842 --> 1.027277).  Saving model ...\n",
      "Epoch 34, Train Loss: 0.9926, Validation Loss: 1.0267\n",
      "Validation loss decreased (1.027277 --> 1.026687).  Saving model ...\n",
      "Epoch 35, Train Loss: 0.9920, Validation Loss: 1.0261\n",
      "Validation loss decreased (1.026687 --> 1.026092).  Saving model ...\n",
      "Epoch 36, Train Loss: 0.9914, Validation Loss: 1.0256\n",
      "Validation loss decreased (1.026092 --> 1.025594).  Saving model ...\n",
      "Epoch 37, Train Loss: 0.9908, Validation Loss: 1.0250\n",
      "Validation loss decreased (1.025594 --> 1.025037).  Saving model ...\n",
      "Epoch 38, Train Loss: 0.9903, Validation Loss: 1.0245\n",
      "Validation loss decreased (1.025037 --> 1.024519).  Saving model ...\n",
      "Epoch 39, Train Loss: 0.9898, Validation Loss: 1.0240\n",
      "Validation loss decreased (1.024519 --> 1.023968).  Saving model ...\n",
      "Epoch 40, Train Loss: 0.9892, Validation Loss: 1.0234\n",
      "Validation loss decreased (1.023968 --> 1.023406).  Saving model ...\n",
      "Epoch 41, Train Loss: 0.9887, Validation Loss: 1.0230\n",
      "Validation loss decreased (1.023406 --> 1.022958).  Saving model ...\n",
      "Epoch 42, Train Loss: 0.9882, Validation Loss: 1.0224\n",
      "Validation loss decreased (1.022958 --> 1.022417).  Saving model ...\n",
      "Epoch 43, Train Loss: 0.9877, Validation Loss: 1.0219\n",
      "Validation loss decreased (1.022417 --> 1.021870).  Saving model ...\n",
      "Epoch 44, Train Loss: 0.9872, Validation Loss: 1.0214\n",
      "Validation loss decreased (1.021870 --> 1.021441).  Saving model ...\n",
      "Epoch 45, Train Loss: 0.9867, Validation Loss: 1.0210\n",
      "Validation loss decreased (1.021441 --> 1.021020).  Saving model ...\n",
      "Epoch 46, Train Loss: 0.9862, Validation Loss: 1.0206\n",
      "Validation loss decreased (1.021020 --> 1.020563).  Saving model ...\n",
      "Epoch 47, Train Loss: 0.9858, Validation Loss: 1.0201\n",
      "Validation loss decreased (1.020563 --> 1.020075).  Saving model ...\n",
      "Epoch 48, Train Loss: 0.9853, Validation Loss: 1.0197\n",
      "Validation loss decreased (1.020075 --> 1.019687).  Saving model ...\n",
      "Epoch 49, Train Loss: 0.9849, Validation Loss: 1.0192\n",
      "Validation loss decreased (1.019687 --> 1.019174).  Saving model ...\n",
      "Epoch 50, Train Loss: 0.9844, Validation Loss: 1.0188\n",
      "Validation loss decreased (1.019174 --> 1.018750).  Saving model ...\n",
      "Epoch 51, Train Loss: 0.9840, Validation Loss: 1.0183\n",
      "Validation loss decreased (1.018750 --> 1.018345).  Saving model ...\n",
      "Epoch 52, Train Loss: 0.9835, Validation Loss: 1.0179\n",
      "Validation loss decreased (1.018345 --> 1.017934).  Saving model ...\n",
      "Epoch 53, Train Loss: 0.9831, Validation Loss: 1.0175\n",
      "Validation loss decreased (1.017934 --> 1.017462).  Saving model ...\n",
      "Epoch 54, Train Loss: 0.9827, Validation Loss: 1.0171\n",
      "Validation loss decreased (1.017462 --> 1.017076).  Saving model ...\n",
      "Epoch 55, Train Loss: 0.9823, Validation Loss: 1.0167\n",
      "Validation loss decreased (1.017076 --> 1.016731).  Saving model ...\n",
      "Epoch 56, Train Loss: 0.9819, Validation Loss: 1.0163\n",
      "Validation loss decreased (1.016731 --> 1.016347).  Saving model ...\n",
      "Epoch 57, Train Loss: 0.9815, Validation Loss: 1.0160\n",
      "Validation loss decreased (1.016347 --> 1.016028).  Saving model ...\n",
      "Epoch 58, Train Loss: 0.9811, Validation Loss: 1.0156\n",
      "Validation loss decreased (1.016028 --> 1.015558).  Saving model ...\n",
      "Epoch 59, Train Loss: 0.9807, Validation Loss: 1.0152\n",
      "Validation loss decreased (1.015558 --> 1.015205).  Saving model ...\n",
      "Epoch 60, Train Loss: 0.9803, Validation Loss: 1.0148\n",
      "Validation loss decreased (1.015205 --> 1.014818).  Saving model ...\n",
      "Epoch 61, Train Loss: 0.9799, Validation Loss: 1.0144\n",
      "Validation loss decreased (1.014818 --> 1.014450).  Saving model ...\n",
      "Epoch 62, Train Loss: 0.9796, Validation Loss: 1.0141\n",
      "Validation loss decreased (1.014450 --> 1.014100).  Saving model ...\n",
      "Epoch 63, Train Loss: 0.9792, Validation Loss: 1.0137\n",
      "Validation loss decreased (1.014100 --> 1.013738).  Saving model ...\n",
      "Epoch 64, Train Loss: 0.9788, Validation Loss: 1.0134\n",
      "Validation loss decreased (1.013738 --> 1.013411).  Saving model ...\n",
      "Epoch 65, Train Loss: 0.9785, Validation Loss: 1.0131\n",
      "Validation loss decreased (1.013411 --> 1.013104).  Saving model ...\n",
      "Epoch 66, Train Loss: 0.9781, Validation Loss: 1.0128\n",
      "Validation loss decreased (1.013104 --> 1.012782).  Saving model ...\n",
      "Epoch 67, Train Loss: 0.9778, Validation Loss: 1.0123\n",
      "Validation loss decreased (1.012782 --> 1.012335).  Saving model ...\n",
      "Epoch 68, Train Loss: 0.9775, Validation Loss: 1.0121\n",
      "Validation loss decreased (1.012335 --> 1.012066).  Saving model ...\n",
      "Epoch 69, Train Loss: 0.9771, Validation Loss: 1.0117\n",
      "Validation loss decreased (1.012066 --> 1.011737).  Saving model ...\n",
      "Epoch 70, Train Loss: 0.9768, Validation Loss: 1.0114\n",
      "Validation loss decreased (1.011737 --> 1.011411).  Saving model ...\n",
      "Epoch 71, Train Loss: 0.9765, Validation Loss: 1.0112\n",
      "Validation loss decreased (1.011411 --> 1.011168).  Saving model ...\n",
      "Epoch 72, Train Loss: 0.9761, Validation Loss: 1.0108\n",
      "Validation loss decreased (1.011168 --> 1.010834).  Saving model ...\n",
      "Epoch 73, Train Loss: 0.9758, Validation Loss: 1.0105\n",
      "Validation loss decreased (1.010834 --> 1.010508).  Saving model ...\n",
      "Epoch 74, Train Loss: 0.9755, Validation Loss: 1.0102\n",
      "Validation loss decreased (1.010508 --> 1.010232).  Saving model ...\n",
      "Epoch 75, Train Loss: 0.9752, Validation Loss: 1.0099\n",
      "Validation loss decreased (1.010232 --> 1.009884).  Saving model ...\n",
      "Epoch 76, Train Loss: 0.9749, Validation Loss: 1.0097\n",
      "Validation loss decreased (1.009884 --> 1.009677).  Saving model ...\n",
      "Epoch 77, Train Loss: 0.9746, Validation Loss: 1.0093\n",
      "Validation loss decreased (1.009677 --> 1.009321).  Saving model ...\n",
      "Epoch 78, Train Loss: 0.9743, Validation Loss: 1.0090\n",
      "Validation loss decreased (1.009321 --> 1.009018).  Saving model ...\n",
      "Epoch 79, Train Loss: 0.9740, Validation Loss: 1.0088\n",
      "Validation loss decreased (1.009018 --> 1.008793).  Saving model ...\n",
      "Epoch 80, Train Loss: 0.9738, Validation Loss: 1.0085\n",
      "Validation loss decreased (1.008793 --> 1.008534).  Saving model ...\n",
      "Epoch 81, Train Loss: 0.9735, Validation Loss: 1.0082\n",
      "Validation loss decreased (1.008534 --> 1.008240).  Saving model ...\n",
      "Epoch 82, Train Loss: 0.9732, Validation Loss: 1.0080\n",
      "Validation loss decreased (1.008240 --> 1.007987).  Saving model ...\n",
      "Epoch 83, Train Loss: 0.9729, Validation Loss: 1.0077\n",
      "Validation loss decreased (1.007987 --> 1.007712).  Saving model ...\n",
      "Epoch 84, Train Loss: 0.9726, Validation Loss: 1.0074\n",
      "Validation loss decreased (1.007712 --> 1.007393).  Saving model ...\n",
      "Epoch 85, Train Loss: 0.9724, Validation Loss: 1.0072\n",
      "Validation loss decreased (1.007393 --> 1.007152).  Saving model ...\n",
      "Epoch 86, Train Loss: 0.9721, Validation Loss: 1.0069\n",
      "Validation loss decreased (1.007152 --> 1.006862).  Saving model ...\n",
      "Epoch 87, Train Loss: 0.9719, Validation Loss: 1.0066\n",
      "Validation loss decreased (1.006862 --> 1.006597).  Saving model ...\n",
      "Epoch 88, Train Loss: 0.9716, Validation Loss: 1.0064\n",
      "Validation loss decreased (1.006597 --> 1.006393).  Saving model ...\n",
      "Epoch 89, Train Loss: 0.9714, Validation Loss: 1.0061\n",
      "Validation loss decreased (1.006393 --> 1.006139).  Saving model ...\n",
      "Epoch 90, Train Loss: 0.9711, Validation Loss: 1.0059\n",
      "Validation loss decreased (1.006139 --> 1.005903).  Saving model ...\n",
      "Epoch 91, Train Loss: 0.9708, Validation Loss: 1.0056\n",
      "Validation loss decreased (1.005903 --> 1.005624).  Saving model ...\n",
      "Epoch 92, Train Loss: 0.9706, Validation Loss: 1.0054\n",
      "Validation loss decreased (1.005624 --> 1.005414).  Saving model ...\n",
      "Epoch 93, Train Loss: 0.9704, Validation Loss: 1.0051\n",
      "Validation loss decreased (1.005414 --> 1.005139).  Saving model ...\n",
      "Epoch 94, Train Loss: 0.9701, Validation Loss: 1.0050\n",
      "Validation loss decreased (1.005139 --> 1.004962).  Saving model ...\n",
      "Epoch 95, Train Loss: 0.9699, Validation Loss: 1.0047\n",
      "Validation loss decreased (1.004962 --> 1.004731).  Saving model ...\n",
      "Epoch 96, Train Loss: 0.9697, Validation Loss: 1.0046\n",
      "Validation loss decreased (1.004731 --> 1.004603).  Saving model ...\n",
      "Epoch 97, Train Loss: 0.9694, Validation Loss: 1.0042\n",
      "Validation loss decreased (1.004603 --> 1.004235).  Saving model ...\n",
      "Epoch 98, Train Loss: 0.9692, Validation Loss: 1.0041\n",
      "Validation loss decreased (1.004235 --> 1.004052).  Saving model ...\n",
      "Epoch 99, Train Loss: 0.9690, Validation Loss: 1.0039\n",
      "Validation loss decreased (1.004052 --> 1.003891).  Saving model ...\n",
      "Epoch 100, Train Loss: 0.9688, Validation Loss: 1.0037\n",
      "Validation loss decreased (1.003891 --> 1.003668).  Saving model ...\n",
      "Epoch 101, Train Loss: 0.9685, Validation Loss: 1.0034\n",
      "Validation loss decreased (1.003668 --> 1.003411).  Saving model ...\n",
      "Epoch 102, Train Loss: 0.9683, Validation Loss: 1.0032\n",
      "Validation loss decreased (1.003411 --> 1.003185).  Saving model ...\n",
      "Epoch 103, Train Loss: 0.9681, Validation Loss: 1.0030\n",
      "Validation loss decreased (1.003185 --> 1.003040).  Saving model ...\n",
      "Epoch 104, Train Loss: 0.9679, Validation Loss: 1.0028\n",
      "Validation loss decreased (1.003040 --> 1.002782).  Saving model ...\n",
      "Epoch 105, Train Loss: 0.9677, Validation Loss: 1.0027\n",
      "Validation loss decreased (1.002782 --> 1.002708).  Saving model ...\n",
      "Epoch 106, Train Loss: 0.9675, Validation Loss: 1.0024\n",
      "Validation loss decreased (1.002708 --> 1.002397).  Saving model ...\n",
      "Epoch 107, Train Loss: 0.9673, Validation Loss: 1.0022\n",
      "Validation loss decreased (1.002397 --> 1.002165).  Saving model ...\n",
      "Epoch 108, Train Loss: 0.9671, Validation Loss: 1.0020\n",
      "Validation loss decreased (1.002165 --> 1.001992).  Saving model ...\n",
      "Epoch 109, Train Loss: 0.9669, Validation Loss: 1.0018\n",
      "Validation loss decreased (1.001992 --> 1.001823).  Saving model ...\n",
      "Epoch 110, Train Loss: 0.9667, Validation Loss: 1.0016\n",
      "Validation loss decreased (1.001823 --> 1.001650).  Saving model ...\n",
      "Epoch 111, Train Loss: 0.9665, Validation Loss: 1.0015\n",
      "Validation loss decreased (1.001650 --> 1.001517).  Saving model ...\n",
      "Epoch 112, Train Loss: 0.9663, Validation Loss: 1.0012\n",
      "Validation loss decreased (1.001517 --> 1.001235).  Saving model ...\n",
      "Epoch 113, Train Loss: 0.9661, Validation Loss: 1.0010\n",
      "Validation loss decreased (1.001235 --> 1.001040).  Saving model ...\n",
      "Epoch 114, Train Loss: 0.9659, Validation Loss: 1.0009\n",
      "Validation loss decreased (1.001040 --> 1.000923).  Saving model ...\n",
      "Epoch 115, Train Loss: 0.9657, Validation Loss: 1.0007\n",
      "Validation loss decreased (1.000923 --> 1.000684).  Saving model ...\n",
      "Epoch 116, Train Loss: 0.9655, Validation Loss: 1.0005\n",
      "Validation loss decreased (1.000684 --> 1.000479).  Saving model ...\n",
      "Epoch 117, Train Loss: 0.9654, Validation Loss: 1.0003\n",
      "Validation loss decreased (1.000479 --> 1.000290).  Saving model ...\n",
      "Epoch 118, Train Loss: 0.9652, Validation Loss: 1.0001\n",
      "Validation loss decreased (1.000290 --> 1.000106).  Saving model ...\n",
      "Epoch 119, Train Loss: 0.9650, Validation Loss: 1.0000\n",
      "Validation loss decreased (1.000106 --> 0.999986).  Saving model ...\n",
      "Epoch 120, Train Loss: 0.9648, Validation Loss: 0.9998\n",
      "Validation loss decreased (0.999986 --> 0.999804).  Saving model ...\n",
      "Epoch 121, Train Loss: 0.9647, Validation Loss: 0.9996\n",
      "Validation loss decreased (0.999804 --> 0.999617).  Saving model ...\n",
      "Epoch 122, Train Loss: 0.9645, Validation Loss: 0.9995\n",
      "Validation loss decreased (0.999617 --> 0.999481).  Saving model ...\n",
      "Epoch 123, Train Loss: 0.9643, Validation Loss: 0.9994\n",
      "Validation loss decreased (0.999481 --> 0.999383).  Saving model ...\n",
      "Epoch 124, Train Loss: 0.9642, Validation Loss: 0.9992\n",
      "Validation loss decreased (0.999383 --> 0.999215).  Saving model ...\n",
      "Epoch 125, Train Loss: 0.9640, Validation Loss: 0.9990\n",
      "Validation loss decreased (0.999215 --> 0.998984).  Saving model ...\n",
      "Epoch 126, Train Loss: 0.9638, Validation Loss: 0.9988\n",
      "Validation loss decreased (0.998984 --> 0.998783).  Saving model ...\n",
      "Epoch 127, Train Loss: 0.9637, Validation Loss: 0.9987\n",
      "Validation loss decreased (0.998783 --> 0.998674).  Saving model ...\n",
      "Epoch 128, Train Loss: 0.9635, Validation Loss: 0.9985\n",
      "Validation loss decreased (0.998674 --> 0.998454).  Saving model ...\n",
      "Epoch 129, Train Loss: 0.9633, Validation Loss: 0.9984\n",
      "Validation loss decreased (0.998454 --> 0.998404).  Saving model ...\n",
      "Epoch 130, Train Loss: 0.9632, Validation Loss: 0.9982\n",
      "Validation loss decreased (0.998404 --> 0.998152).  Saving model ...\n",
      "Epoch 131, Train Loss: 0.9630, Validation Loss: 0.9981\n",
      "Validation loss decreased (0.998152 --> 0.998075).  Saving model ...\n",
      "Epoch 132, Train Loss: 0.9629, Validation Loss: 0.9979\n",
      "Validation loss decreased (0.998075 --> 0.997895).  Saving model ...\n",
      "Epoch 133, Train Loss: 0.9627, Validation Loss: 0.9978\n",
      "Validation loss decreased (0.997895 --> 0.997765).  Saving model ...\n",
      "Epoch 134, Train Loss: 0.9626, Validation Loss: 0.9976\n",
      "Validation loss decreased (0.997765 --> 0.997616).  Saving model ...\n",
      "Epoch 135, Train Loss: 0.9624, Validation Loss: 0.9974\n",
      "Validation loss decreased (0.997616 --> 0.997449).  Saving model ...\n",
      "Epoch 136, Train Loss: 0.9622, Validation Loss: 0.9973\n",
      "Validation loss decreased (0.997449 --> 0.997288).  Saving model ...\n",
      "Epoch 137, Train Loss: 0.9621, Validation Loss: 0.9971\n",
      "Validation loss decreased (0.997288 --> 0.997127).  Saving model ...\n",
      "Epoch 138, Train Loss: 0.9620, Validation Loss: 0.9970\n",
      "Validation loss decreased (0.997127 --> 0.996980).  Saving model ...\n",
      "Epoch 139, Train Loss: 0.9618, Validation Loss: 0.9968\n",
      "Validation loss decreased (0.996980 --> 0.996821).  Saving model ...\n",
      "Epoch 140, Train Loss: 0.9617, Validation Loss: 0.9968\n",
      "Validation loss decreased (0.996821 --> 0.996775).  Saving model ...\n",
      "Epoch 141, Train Loss: 0.9615, Validation Loss: 0.9966\n",
      "Validation loss decreased (0.996775 --> 0.996590).  Saving model ...\n",
      "Epoch 142, Train Loss: 0.9614, Validation Loss: 0.9965\n",
      "Validation loss decreased (0.996590 --> 0.996474).  Saving model ...\n",
      "Epoch 143, Train Loss: 0.9613, Validation Loss: 0.9963\n",
      "Validation loss decreased (0.996474 --> 0.996307).  Saving model ...\n",
      "Epoch 144, Train Loss: 0.9611, Validation Loss: 0.9962\n",
      "Validation loss decreased (0.996307 --> 0.996179).  Saving model ...\n",
      "Epoch 145, Train Loss: 0.9610, Validation Loss: 0.9961\n",
      "Validation loss decreased (0.996179 --> 0.996054).  Saving model ...\n",
      "Epoch 146, Train Loss: 0.9608, Validation Loss: 0.9960\n",
      "Validation loss decreased (0.996054 --> 0.995953).  Saving model ...\n",
      "Epoch 147, Train Loss: 0.9607, Validation Loss: 0.9958\n",
      "Validation loss decreased (0.995953 --> 0.995779).  Saving model ...\n",
      "Epoch 148, Train Loss: 0.9605, Validation Loss: 0.9957\n",
      "Validation loss decreased (0.995779 --> 0.995658).  Saving model ...\n",
      "Epoch 149, Train Loss: 0.9604, Validation Loss: 0.9956\n",
      "Validation loss decreased (0.995658 --> 0.995588).  Saving model ...\n",
      "Epoch 150, Train Loss: 0.9603, Validation Loss: 0.9954\n",
      "Validation loss decreased (0.995588 --> 0.995431).  Saving model ...\n",
      "Epoch 151, Train Loss: 0.9602, Validation Loss: 0.9953\n",
      "Validation loss decreased (0.995431 --> 0.995322).  Saving model ...\n",
      "Epoch 152, Train Loss: 0.9600, Validation Loss: 0.9952\n",
      "Validation loss decreased (0.995322 --> 0.995202).  Saving model ...\n",
      "Epoch 153, Train Loss: 0.9599, Validation Loss: 0.9951\n",
      "Validation loss decreased (0.995202 --> 0.995108).  Saving model ...\n",
      "Epoch 154, Train Loss: 0.9598, Validation Loss: 0.9950\n",
      "Validation loss decreased (0.995108 --> 0.995015).  Saving model ...\n",
      "Epoch 155, Train Loss: 0.9596, Validation Loss: 0.9948\n",
      "Validation loss decreased (0.995015 --> 0.994848).  Saving model ...\n",
      "Epoch 156, Train Loss: 0.9595, Validation Loss: 0.9947\n",
      "Validation loss decreased (0.994848 --> 0.994714).  Saving model ...\n",
      "Epoch 157, Train Loss: 0.9594, Validation Loss: 0.9946\n",
      "Validation loss decreased (0.994714 --> 0.994647).  Saving model ...\n",
      "Epoch 158, Train Loss: 0.9593, Validation Loss: 0.9945\n",
      "Validation loss decreased (0.994647 --> 0.994452).  Saving model ...\n",
      "Epoch 159, Train Loss: 0.9592, Validation Loss: 0.9943\n",
      "Validation loss decreased (0.994452 --> 0.994327).  Saving model ...\n",
      "Epoch 160, Train Loss: 0.9590, Validation Loss: 0.9942\n",
      "Validation loss decreased (0.994327 --> 0.994233).  Saving model ...\n",
      "Epoch 161, Train Loss: 0.9589, Validation Loss: 0.9940\n",
      "Validation loss decreased (0.994233 --> 0.994017).  Saving model ...\n",
      "Epoch 162, Train Loss: 0.9588, Validation Loss: 0.9940\n",
      "EarlyStopping counter: 1 out of 5\n",
      "Epoch 163, Train Loss: 0.9587, Validation Loss: 0.9940\n",
      "Validation loss decreased (0.994017 --> 0.993983).  Saving model ...\n",
      "Epoch 164, Train Loss: 0.9586, Validation Loss: 0.9939\n",
      "Validation loss decreased (0.993983 --> 0.993888).  Saving model ...\n",
      "Epoch 165, Train Loss: 0.9585, Validation Loss: 0.9938\n",
      "Validation loss decreased (0.993888 --> 0.993775).  Saving model ...\n",
      "Epoch 166, Train Loss: 0.9583, Validation Loss: 0.9937\n",
      "Validation loss decreased (0.993775 --> 0.993676).  Saving model ...\n",
      "Epoch 167, Train Loss: 0.9582, Validation Loss: 0.9935\n",
      "Validation loss decreased (0.993676 --> 0.993503).  Saving model ...\n",
      "Epoch 168, Train Loss: 0.9581, Validation Loss: 0.9934\n",
      "Validation loss decreased (0.993503 --> 0.993407).  Saving model ...\n",
      "Epoch 169, Train Loss: 0.9580, Validation Loss: 0.9933\n",
      "Validation loss decreased (0.993407 --> 0.993337).  Saving model ...\n",
      "Epoch 170, Train Loss: 0.9579, Validation Loss: 0.9933\n",
      "Validation loss decreased (0.993337 --> 0.993263).  Saving model ...\n",
      "Epoch 171, Train Loss: 0.9578, Validation Loss: 0.9931\n",
      "Validation loss decreased (0.993263 --> 0.993092).  Saving model ...\n",
      "Epoch 172, Train Loss: 0.9577, Validation Loss: 0.9930\n",
      "Validation loss decreased (0.993092 --> 0.993007).  Saving model ...\n",
      "Epoch 173, Train Loss: 0.9576, Validation Loss: 0.9929\n",
      "Validation loss decreased (0.993007 --> 0.992894).  Saving model ...\n",
      "Epoch 174, Train Loss: 0.9575, Validation Loss: 0.9928\n",
      "Validation loss decreased (0.992894 --> 0.992769).  Saving model ...\n",
      "Epoch 175, Train Loss: 0.9573, Validation Loss: 0.9927\n",
      "Validation loss decreased (0.992769 --> 0.992677).  Saving model ...\n",
      "Epoch 176, Train Loss: 0.9572, Validation Loss: 0.9926\n",
      "Validation loss decreased (0.992677 --> 0.992552).  Saving model ...\n",
      "Epoch 177, Train Loss: 0.9571, Validation Loss: 0.9925\n",
      "Validation loss decreased (0.992552 --> 0.992486).  Saving model ...\n",
      "Epoch 178, Train Loss: 0.9570, Validation Loss: 0.9924\n",
      "Validation loss decreased (0.992486 --> 0.992394).  Saving model ...\n",
      "Epoch 179, Train Loss: 0.9569, Validation Loss: 0.9923\n",
      "Validation loss decreased (0.992394 --> 0.992292).  Saving model ...\n",
      "Epoch 180, Train Loss: 0.9568, Validation Loss: 0.9921\n",
      "Validation loss decreased (0.992292 --> 0.992130).  Saving model ...\n",
      "Epoch 181, Train Loss: 0.9567, Validation Loss: 0.9921\n",
      "Validation loss decreased (0.992130 --> 0.992126).  Saving model ...\n",
      "Epoch 182, Train Loss: 0.9566, Validation Loss: 0.9920\n",
      "Validation loss decreased (0.992126 --> 0.992047).  Saving model ...\n",
      "Epoch 183, Train Loss: 0.9565, Validation Loss: 0.9920\n",
      "Validation loss decreased (0.992047 --> 0.991972).  Saving model ...\n",
      "Epoch 184, Train Loss: 0.9564, Validation Loss: 0.9918\n",
      "Validation loss decreased (0.991972 --> 0.991796).  Saving model ...\n",
      "Epoch 185, Train Loss: 0.9563, Validation Loss: 0.9917\n",
      "Validation loss decreased (0.991796 --> 0.991654).  Saving model ...\n",
      "Epoch 186, Train Loss: 0.9562, Validation Loss: 0.9916\n",
      "Validation loss decreased (0.991654 --> 0.991571).  Saving model ...\n",
      "Epoch 187, Train Loss: 0.9561, Validation Loss: 0.9915\n",
      "Validation loss decreased (0.991571 --> 0.991462).  Saving model ...\n",
      "Epoch 188, Train Loss: 0.9560, Validation Loss: 0.9914\n",
      "Validation loss decreased (0.991462 --> 0.991394).  Saving model ...\n",
      "Epoch 189, Train Loss: 0.9559, Validation Loss: 0.9913\n",
      "Validation loss decreased (0.991394 --> 0.991327).  Saving model ...\n",
      "Epoch 190, Train Loss: 0.9558, Validation Loss: 0.9913\n",
      "EarlyStopping counter: 1 out of 5\n",
      "Epoch 191, Train Loss: 0.9557, Validation Loss: 0.9912\n",
      "Validation loss decreased (0.991327 --> 0.991215).  Saving model ...\n",
      "Epoch 192, Train Loss: 0.9556, Validation Loss: 0.9912\n",
      "Validation loss decreased (0.991215 --> 0.991165).  Saving model ...\n",
      "Epoch 193, Train Loss: 0.9555, Validation Loss: 0.9911\n",
      "Validation loss decreased (0.991165 --> 0.991068).  Saving model ...\n",
      "Epoch 194, Train Loss: 0.9554, Validation Loss: 0.9910\n",
      "Validation loss decreased (0.991068 --> 0.990967).  Saving model ...\n",
      "Epoch 195, Train Loss: 0.9553, Validation Loss: 0.9909\n",
      "Validation loss decreased (0.990967 --> 0.990869).  Saving model ...\n",
      "Epoch 196, Train Loss: 0.9553, Validation Loss: 0.9908\n",
      "Validation loss decreased (0.990869 --> 0.990774).  Saving model ...\n",
      "Epoch 197, Train Loss: 0.9552, Validation Loss: 0.9907\n",
      "Validation loss decreased (0.990774 --> 0.990652).  Saving model ...\n",
      "Epoch 198, Train Loss: 0.9551, Validation Loss: 0.9906\n",
      "Validation loss decreased (0.990652 --> 0.990565).  Saving model ...\n",
      "Epoch 199, Train Loss: 0.9550, Validation Loss: 0.9905\n",
      "Validation loss decreased (0.990565 --> 0.990522).  Saving model ...\n",
      "Epoch 200, Train Loss: 0.9549, Validation Loss: 0.9905\n",
      "Validation loss decreased (0.990522 --> 0.990477).  Saving model ...\n",
      "Epoch 201, Train Loss: 0.9548, Validation Loss: 0.9903\n",
      "Validation loss decreased (0.990477 --> 0.990341).  Saving model ...\n",
      "Epoch 202, Train Loss: 0.9547, Validation Loss: 0.9903\n",
      "Validation loss decreased (0.990341 --> 0.990311).  Saving model ...\n",
      "Epoch 203, Train Loss: 0.9546, Validation Loss: 0.9902\n",
      "Validation loss decreased (0.990311 --> 0.990222).  Saving model ...\n",
      "Epoch 204, Train Loss: 0.9545, Validation Loss: 0.9901\n",
      "Validation loss decreased (0.990222 --> 0.990141).  Saving model ...\n",
      "Epoch 205, Train Loss: 0.9545, Validation Loss: 0.9900\n",
      "Validation loss decreased (0.990141 --> 0.990041).  Saving model ...\n",
      "Epoch 206, Train Loss: 0.9544, Validation Loss: 0.9899\n",
      "Validation loss decreased (0.990041 --> 0.989887).  Saving model ...\n",
      "Epoch 207, Train Loss: 0.9543, Validation Loss: 0.9899\n",
      "Validation loss decreased (0.989887 --> 0.989876).  Saving model ...\n",
      "Epoch 208, Train Loss: 0.9542, Validation Loss: 0.9898\n",
      "Validation loss decreased (0.989876 --> 0.989810).  Saving model ...\n",
      "Epoch 209, Train Loss: 0.9541, Validation Loss: 0.9897\n",
      "Validation loss decreased (0.989810 --> 0.989707).  Saving model ...\n",
      "Epoch 210, Train Loss: 0.9540, Validation Loss: 0.9896\n",
      "Validation loss decreased (0.989707 --> 0.989573).  Saving model ...\n",
      "Epoch 211, Train Loss: 0.9539, Validation Loss: 0.9895\n",
      "Validation loss decreased (0.989573 --> 0.989485).  Saving model ...\n",
      "Epoch 212, Train Loss: 0.9539, Validation Loss: 0.9895\n",
      "Validation loss decreased (0.989485 --> 0.989456).  Saving model ...\n",
      "Epoch 213, Train Loss: 0.9538, Validation Loss: 0.9894\n",
      "Validation loss decreased (0.989456 --> 0.989433).  Saving model ...\n",
      "Epoch 214, Train Loss: 0.9537, Validation Loss: 0.9893\n",
      "Validation loss decreased (0.989433 --> 0.989316).  Saving model ...\n",
      "Epoch 215, Train Loss: 0.9536, Validation Loss: 0.9892\n",
      "Validation loss decreased (0.989316 --> 0.989213).  Saving model ...\n",
      "Epoch 216, Train Loss: 0.9535, Validation Loss: 0.9891\n",
      "Validation loss decreased (0.989213 --> 0.989125).  Saving model ...\n",
      "Epoch 217, Train Loss: 0.9534, Validation Loss: 0.9891\n",
      "Validation loss decreased (0.989125 --> 0.989084).  Saving model ...\n",
      "Epoch 218, Train Loss: 0.9534, Validation Loss: 0.9890\n",
      "Validation loss decreased (0.989084 --> 0.989021).  Saving model ...\n",
      "Epoch 219, Train Loss: 0.9533, Validation Loss: 0.9890\n",
      "EarlyStopping counter: 1 out of 5\n",
      "Epoch 220, Train Loss: 0.9532, Validation Loss: 0.9889\n",
      "Validation loss decreased (0.989021 --> 0.988918).  Saving model ...\n",
      "Epoch 221, Train Loss: 0.9531, Validation Loss: 0.9889\n",
      "Validation loss decreased (0.988918 --> 0.988853).  Saving model ...\n",
      "Epoch 222, Train Loss: 0.9531, Validation Loss: 0.9887\n",
      "Validation loss decreased (0.988853 --> 0.988739).  Saving model ...\n",
      "Epoch 223, Train Loss: 0.9530, Validation Loss: 0.9886\n",
      "Validation loss decreased (0.988739 --> 0.988647).  Saving model ...\n",
      "Epoch 224, Train Loss: 0.9529, Validation Loss: 0.9886\n",
      "Validation loss decreased (0.988647 --> 0.988624).  Saving model ...\n",
      "Epoch 225, Train Loss: 0.9528, Validation Loss: 0.9886\n",
      "Validation loss decreased (0.988624 --> 0.988607).  Saving model ...\n",
      "Epoch 226, Train Loss: 0.9528, Validation Loss: 0.9886\n",
      "Validation loss decreased (0.988607 --> 0.988592).  Saving model ...\n",
      "Epoch 227, Train Loss: 0.9527, Validation Loss: 0.9885\n",
      "Validation loss decreased (0.988592 --> 0.988458).  Saving model ...\n",
      "Epoch 228, Train Loss: 0.9526, Validation Loss: 0.9885\n",
      "Validation loss decreased (0.988458 --> 0.988453).  Saving model ...\n",
      "Epoch 229, Train Loss: 0.9525, Validation Loss: 0.9883\n",
      "Validation loss decreased (0.988453 --> 0.988309).  Saving model ...\n",
      "Epoch 230, Train Loss: 0.9525, Validation Loss: 0.9883\n",
      "Validation loss decreased (0.988309 --> 0.988282).  Saving model ...\n",
      "Epoch 231, Train Loss: 0.9524, Validation Loss: 0.9881\n",
      "Validation loss decreased (0.988282 --> 0.988145).  Saving model ...\n",
      "Epoch 232, Train Loss: 0.9523, Validation Loss: 0.9880\n",
      "Validation loss decreased (0.988145 --> 0.988037).  Saving model ...\n",
      "Epoch 233, Train Loss: 0.9522, Validation Loss: 0.9880\n",
      "Validation loss decreased (0.988037 --> 0.988005).  Saving model ...\n",
      "Epoch 234, Train Loss: 0.9522, Validation Loss: 0.9879\n",
      "Validation loss decreased (0.988005 --> 0.987874).  Saving model ...\n",
      "Epoch 235, Train Loss: 0.9521, Validation Loss: 0.9878\n",
      "Validation loss decreased (0.987874 --> 0.987843).  Saving model ...\n",
      "Epoch 236, Train Loss: 0.9520, Validation Loss: 0.9879\n",
      "EarlyStopping counter: 1 out of 5\n",
      "Epoch 237, Train Loss: 0.9519, Validation Loss: 0.9877\n",
      "Validation loss decreased (0.987843 --> 0.987676).  Saving model ...\n",
      "Epoch 238, Train Loss: 0.9519, Validation Loss: 0.9877\n",
      "Validation loss decreased (0.987676 --> 0.987665).  Saving model ...\n",
      "Epoch 239, Train Loss: 0.9518, Validation Loss: 0.9876\n",
      "Validation loss decreased (0.987665 --> 0.987620).  Saving model ...\n",
      "Epoch 240, Train Loss: 0.9517, Validation Loss: 0.9875\n",
      "Validation loss decreased (0.987620 --> 0.987542).  Saving model ...\n",
      "Epoch 241, Train Loss: 0.9517, Validation Loss: 0.9874\n",
      "Validation loss decreased (0.987542 --> 0.987390).  Saving model ...\n",
      "Epoch 242, Train Loss: 0.9516, Validation Loss: 0.9874\n",
      "EarlyStopping counter: 1 out of 5\n",
      "Epoch 243, Train Loss: 0.9515, Validation Loss: 0.9874\n",
      "EarlyStopping counter: 2 out of 5\n",
      "Epoch 244, Train Loss: 0.9515, Validation Loss: 0.9874\n",
      "Validation loss decreased (0.987390 --> 0.987369).  Saving model ...\n",
      "Epoch 245, Train Loss: 0.9514, Validation Loss: 0.9873\n",
      "Validation loss decreased (0.987369 --> 0.987253).  Saving model ...\n",
      "Epoch 246, Train Loss: 0.9513, Validation Loss: 0.9872\n",
      "Validation loss decreased (0.987253 --> 0.987239).  Saving model ...\n",
      "Epoch 247, Train Loss: 0.9513, Validation Loss: 0.9872\n",
      "Validation loss decreased (0.987239 --> 0.987208).  Saving model ...\n",
      "Epoch 248, Train Loss: 0.9512, Validation Loss: 0.9872\n",
      "EarlyStopping counter: 1 out of 5\n",
      "Epoch 249, Train Loss: 0.9511, Validation Loss: 0.9870\n",
      "Validation loss decreased (0.987208 --> 0.987018).  Saving model ...\n",
      "Epoch 250, Train Loss: 0.9511, Validation Loss: 0.9870\n",
      "Validation loss decreased (0.987018 --> 0.986990).  Saving model ...\n",
      "Epoch 251, Train Loss: 0.9510, Validation Loss: 0.9869\n",
      "Validation loss decreased (0.986990 --> 0.986914).  Saving model ...\n",
      "Epoch 252, Train Loss: 0.9509, Validation Loss: 0.9869\n",
      "Validation loss decreased (0.986914 --> 0.986906).  Saving model ...\n",
      "Epoch 253, Train Loss: 0.9508, Validation Loss: 0.9869\n",
      "Validation loss decreased (0.986906 --> 0.986885).  Saving model ...\n",
      "Epoch 254, Train Loss: 0.9508, Validation Loss: 0.9868\n",
      "Validation loss decreased (0.986885 --> 0.986803).  Saving model ...\n",
      "Epoch 255, Train Loss: 0.9507, Validation Loss: 0.9867\n",
      "Validation loss decreased (0.986803 --> 0.986704).  Saving model ...\n",
      "Epoch 256, Train Loss: 0.9507, Validation Loss: 0.9866\n",
      "Validation loss decreased (0.986704 --> 0.986582).  Saving model ...\n",
      "Epoch 257, Train Loss: 0.9506, Validation Loss: 0.9866\n",
      "Validation loss decreased (0.986582 --> 0.986580).  Saving model ...\n",
      "Epoch 258, Train Loss: 0.9505, Validation Loss: 0.9866\n",
      "EarlyStopping counter: 1 out of 5\n",
      "Epoch 259, Train Loss: 0.9505, Validation Loss: 0.9865\n",
      "Validation loss decreased (0.986580 --> 0.986524).  Saving model ...\n",
      "Epoch 260, Train Loss: 0.9504, Validation Loss: 0.9864\n",
      "Validation loss decreased (0.986524 --> 0.986422).  Saving model ...\n",
      "Epoch 261, Train Loss: 0.9503, Validation Loss: 0.9864\n",
      "Validation loss decreased (0.986422 --> 0.986360).  Saving model ...\n",
      "Epoch 262, Train Loss: 0.9503, Validation Loss: 0.9863\n",
      "Validation loss decreased (0.986360 --> 0.986334).  Saving model ...\n",
      "Epoch 263, Train Loss: 0.9502, Validation Loss: 0.9862\n",
      "Validation loss decreased (0.986334 --> 0.986227).  Saving model ...\n",
      "Epoch 264, Train Loss: 0.9502, Validation Loss: 0.9862\n",
      "Validation loss decreased (0.986227 --> 0.986207).  Saving model ...\n",
      "Epoch 265, Train Loss: 0.9501, Validation Loss: 0.9861\n",
      "Validation loss decreased (0.986207 --> 0.986126).  Saving model ...\n",
      "Epoch 266, Train Loss: 0.9500, Validation Loss: 0.9861\n",
      "Validation loss decreased (0.986126 --> 0.986119).  Saving model ...\n",
      "Epoch 267, Train Loss: 0.9500, Validation Loss: 0.9862\n",
      "EarlyStopping counter: 1 out of 5\n",
      "Epoch 268, Train Loss: 0.9499, Validation Loss: 0.9860\n",
      "Validation loss decreased (0.986119 --> 0.986003).  Saving model ...\n",
      "Epoch 269, Train Loss: 0.9498, Validation Loss: 0.9860\n",
      "Validation loss decreased (0.986003 --> 0.985999).  Saving model ...\n",
      "Epoch 270, Train Loss: 0.9498, Validation Loss: 0.9859\n",
      "Validation loss decreased (0.985999 --> 0.985904).  Saving model ...\n",
      "Epoch 271, Train Loss: 0.9497, Validation Loss: 0.9859\n",
      "Validation loss decreased (0.985904 --> 0.985862).  Saving model ...\n",
      "Epoch 272, Train Loss: 0.9497, Validation Loss: 0.9858\n",
      "Validation loss decreased (0.985862 --> 0.985819).  Saving model ...\n",
      "Epoch 273, Train Loss: 0.9496, Validation Loss: 0.9858\n",
      "EarlyStopping counter: 1 out of 5\n",
      "Epoch 274, Train Loss: 0.9496, Validation Loss: 0.9858\n",
      "EarlyStopping counter: 2 out of 5\n",
      "Epoch 275, Train Loss: 0.9495, Validation Loss: 0.9858\n",
      "Validation loss decreased (0.985819 --> 0.985756).  Saving model ...\n",
      "Epoch 276, Train Loss: 0.9494, Validation Loss: 0.9857\n",
      "Validation loss decreased (0.985756 --> 0.985655).  Saving model ...\n",
      "Epoch 277, Train Loss: 0.9494, Validation Loss: 0.9856\n",
      "Validation loss decreased (0.985655 --> 0.985609).  Saving model ...\n",
      "Epoch 278, Train Loss: 0.9493, Validation Loss: 0.9855\n",
      "Validation loss decreased (0.985609 --> 0.985527).  Saving model ...\n",
      "Epoch 279, Train Loss: 0.9493, Validation Loss: 0.9854\n",
      "Validation loss decreased (0.985527 --> 0.985441).  Saving model ...\n",
      "Epoch 280, Train Loss: 0.9492, Validation Loss: 0.9854\n",
      "Validation loss decreased (0.985441 --> 0.985404).  Saving model ...\n",
      "Epoch 281, Train Loss: 0.9492, Validation Loss: 0.9855\n",
      "EarlyStopping counter: 1 out of 5\n",
      "Epoch 282, Train Loss: 0.9491, Validation Loss: 0.9854\n",
      "EarlyStopping counter: 2 out of 5\n",
      "Epoch 283, Train Loss: 0.9490, Validation Loss: 0.9853\n",
      "Validation loss decreased (0.985404 --> 0.985344).  Saving model ...\n",
      "Epoch 284, Train Loss: 0.9490, Validation Loss: 0.9853\n",
      "Validation loss decreased (0.985344 --> 0.985308).  Saving model ...\n",
      "Epoch 285, Train Loss: 0.9489, Validation Loss: 0.9852\n",
      "Validation loss decreased (0.985308 --> 0.985179).  Saving model ...\n",
      "Epoch 286, Train Loss: 0.9489, Validation Loss: 0.9852\n",
      "Validation loss decreased (0.985179 --> 0.985172).  Saving model ...\n",
      "Epoch 287, Train Loss: 0.9488, Validation Loss: 0.9850\n",
      "Validation loss decreased (0.985172 --> 0.985044).  Saving model ...\n",
      "Epoch 288, Train Loss: 0.9488, Validation Loss: 0.9850\n",
      "Validation loss decreased (0.985044 --> 0.985032).  Saving model ...\n",
      "Epoch 289, Train Loss: 0.9487, Validation Loss: 0.9850\n",
      "Validation loss decreased (0.985032 --> 0.984995).  Saving model ...\n",
      "Epoch 290, Train Loss: 0.9486, Validation Loss: 0.9851\n",
      "EarlyStopping counter: 1 out of 5\n",
      "Epoch 291, Train Loss: 0.9486, Validation Loss: 0.9850\n",
      "EarlyStopping counter: 2 out of 5\n",
      "Epoch 292, Train Loss: 0.9485, Validation Loss: 0.9850\n",
      "Validation loss decreased (0.984995 --> 0.984988).  Saving model ...\n",
      "Epoch 293, Train Loss: 0.9485, Validation Loss: 0.9850\n",
      "EarlyStopping counter: 1 out of 5\n",
      "Epoch 294, Train Loss: 0.9484, Validation Loss: 0.9849\n",
      "Validation loss decreased (0.984988 --> 0.984944).  Saving model ...\n",
      "Epoch 295, Train Loss: 0.9484, Validation Loss: 0.9849\n",
      "Validation loss decreased (0.984944 --> 0.984894).  Saving model ...\n",
      "Epoch 296, Train Loss: 0.9483, Validation Loss: 0.9848\n",
      "Validation loss decreased (0.984894 --> 0.984799).  Saving model ...\n",
      "Epoch 297, Train Loss: 0.9483, Validation Loss: 0.9847\n",
      "Validation loss decreased (0.984799 --> 0.984701).  Saving model ...\n",
      "Epoch 298, Train Loss: 0.9482, Validation Loss: 0.9847\n",
      "Validation loss decreased (0.984701 --> 0.984693).  Saving model ...\n",
      "Epoch 299, Train Loss: 0.9482, Validation Loss: 0.9846\n",
      "Validation loss decreased (0.984693 --> 0.984587).  Saving model ...\n",
      "Epoch 300, Train Loss: 0.9481, Validation Loss: 0.9845\n",
      "Validation loss decreased (0.984587 --> 0.984524).  Saving model ...\n",
      "Epoch 301, Train Loss: 0.9480, Validation Loss: 0.9845\n",
      "EarlyStopping counter: 1 out of 5\n",
      "Epoch 302, Train Loss: 0.9480, Validation Loss: 0.9845\n",
      "Validation loss decreased (0.984524 --> 0.984507).  Saving model ...\n",
      "Epoch 303, Train Loss: 0.9479, Validation Loss: 0.9844\n",
      "Validation loss decreased (0.984507 --> 0.984392).  Saving model ...\n",
      "Epoch 304, Train Loss: 0.9479, Validation Loss: 0.9844\n",
      "Validation loss decreased (0.984392 --> 0.984386).  Saving model ...\n",
      "Epoch 305, Train Loss: 0.9478, Validation Loss: 0.9843\n",
      "Validation loss decreased (0.984386 --> 0.984336).  Saving model ...\n",
      "Epoch 306, Train Loss: 0.9478, Validation Loss: 0.9843\n",
      "Validation loss decreased (0.984336 --> 0.984304).  Saving model ...\n",
      "Epoch 307, Train Loss: 0.9477, Validation Loss: 0.9843\n",
      "EarlyStopping counter: 1 out of 5\n",
      "Epoch 308, Train Loss: 0.9477, Validation Loss: 0.9842\n",
      "Validation loss decreased (0.984304 --> 0.984224).  Saving model ...\n",
      "Epoch 309, Train Loss: 0.9477, Validation Loss: 0.9842\n",
      "Validation loss decreased (0.984224 --> 0.984194).  Saving model ...\n",
      "Epoch 310, Train Loss: 0.9476, Validation Loss: 0.9841\n",
      "Validation loss decreased (0.984194 --> 0.984081).  Saving model ...\n",
      "Epoch 311, Train Loss: 0.9475, Validation Loss: 0.9841\n",
      "EarlyStopping counter: 1 out of 5\n",
      "Epoch 312, Train Loss: 0.9475, Validation Loss: 0.9840\n",
      "Validation loss decreased (0.984081 --> 0.984048).  Saving model ...\n",
      "Epoch 313, Train Loss: 0.9474, Validation Loss: 0.9841\n",
      "EarlyStopping counter: 1 out of 5\n",
      "Epoch 314, Train Loss: 0.9474, Validation Loss: 0.9840\n",
      "Validation loss decreased (0.984048 --> 0.984041).  Saving model ...\n",
      "Epoch 315, Train Loss: 0.9473, Validation Loss: 0.9840\n",
      "Validation loss decreased (0.984041 --> 0.983952).  Saving model ...\n",
      "Epoch 316, Train Loss: 0.9473, Validation Loss: 0.9839\n",
      "Validation loss decreased (0.983952 --> 0.983924).  Saving model ...\n",
      "Epoch 317, Train Loss: 0.9472, Validation Loss: 0.9838\n",
      "Validation loss decreased (0.983924 --> 0.983811).  Saving model ...\n",
      "Epoch 318, Train Loss: 0.9472, Validation Loss: 0.9838\n",
      "Validation loss decreased (0.983811 --> 0.983807).  Saving model ...\n",
      "Epoch 319, Train Loss: 0.9472, Validation Loss: 0.9838\n",
      "EarlyStopping counter: 1 out of 5\n",
      "Epoch 320, Train Loss: 0.9471, Validation Loss: 0.9838\n",
      "Validation loss decreased (0.983807 --> 0.983795).  Saving model ...\n",
      "Epoch 321, Train Loss: 0.9471, Validation Loss: 0.9838\n",
      "EarlyStopping counter: 1 out of 5\n",
      "Epoch 322, Train Loss: 0.9470, Validation Loss: 0.9838\n",
      "Validation loss decreased (0.983795 --> 0.983775).  Saving model ...\n",
      "Epoch 323, Train Loss: 0.9470, Validation Loss: 0.9837\n",
      "Validation loss decreased (0.983775 --> 0.983742).  Saving model ...\n",
      "Epoch 324, Train Loss: 0.9469, Validation Loss: 0.9837\n",
      "Validation loss decreased (0.983742 --> 0.983657).  Saving model ...\n",
      "Epoch 325, Train Loss: 0.9469, Validation Loss: 0.9836\n",
      "Validation loss decreased (0.983657 --> 0.983604).  Saving model ...\n",
      "Epoch 326, Train Loss: 0.9468, Validation Loss: 0.9835\n",
      "Validation loss decreased (0.983604 --> 0.983529).  Saving model ...\n",
      "Epoch 327, Train Loss: 0.9468, Validation Loss: 0.9836\n",
      "EarlyStopping counter: 1 out of 5\n",
      "Epoch 328, Train Loss: 0.9467, Validation Loss: 0.9835\n",
      "Validation loss decreased (0.983529 --> 0.983487).  Saving model ...\n",
      "Epoch 329, Train Loss: 0.9467, Validation Loss: 0.9835\n",
      "Validation loss decreased (0.983487 --> 0.983470).  Saving model ...\n",
      "Epoch 330, Train Loss: 0.9466, Validation Loss: 0.9835\n",
      "EarlyStopping counter: 1 out of 5\n",
      "Epoch 331, Train Loss: 0.9466, Validation Loss: 0.9834\n",
      "Validation loss decreased (0.983470 --> 0.983375).  Saving model ...\n",
      "Epoch 332, Train Loss: 0.9465, Validation Loss: 0.9834\n",
      "Validation loss decreased (0.983375 --> 0.983355).  Saving model ...\n",
      "Epoch 333, Train Loss: 0.9465, Validation Loss: 0.9834\n",
      "EarlyStopping counter: 1 out of 5\n",
      "Epoch 334, Train Loss: 0.9464, Validation Loss: 0.9833\n",
      "Validation loss decreased (0.983355 --> 0.983302).  Saving model ...\n",
      "Epoch 335, Train Loss: 0.9464, Validation Loss: 0.9832\n",
      "Validation loss decreased (0.983302 --> 0.983245).  Saving model ...\n",
      "Epoch 336, Train Loss: 0.9464, Validation Loss: 0.9832\n",
      "Validation loss decreased (0.983245 --> 0.983222).  Saving model ...\n",
      "Epoch 337, Train Loss: 0.9463, Validation Loss: 0.9832\n",
      "Validation loss decreased (0.983222 --> 0.983210).  Saving model ...\n",
      "Epoch 338, Train Loss: 0.9463, Validation Loss: 0.9832\n",
      "Validation loss decreased (0.983210 --> 0.983208).  Saving model ...\n",
      "Epoch 339, Train Loss: 0.9462, Validation Loss: 0.9831\n",
      "Validation loss decreased (0.983208 --> 0.983124).  Saving model ...\n",
      "Epoch 340, Train Loss: 0.9462, Validation Loss: 0.9831\n",
      "Validation loss decreased (0.983124 --> 0.983070).  Saving model ...\n",
      "Epoch 341, Train Loss: 0.9461, Validation Loss: 0.9830\n",
      "Validation loss decreased (0.983070 --> 0.982992).  Saving model ...\n",
      "Epoch 342, Train Loss: 0.9461, Validation Loss: 0.9829\n",
      "Validation loss decreased (0.982992 --> 0.982918).  Saving model ...\n",
      "Epoch 343, Train Loss: 0.9461, Validation Loss: 0.9829\n",
      "EarlyStopping counter: 1 out of 5\n",
      "Epoch 344, Train Loss: 0.9460, Validation Loss: 0.9829\n",
      "EarlyStopping counter: 2 out of 5\n",
      "Epoch 345, Train Loss: 0.9460, Validation Loss: 0.9830\n",
      "EarlyStopping counter: 3 out of 5\n",
      "Epoch 346, Train Loss: 0.9459, Validation Loss: 0.9829\n",
      "EarlyStopping counter: 4 out of 5\n",
      "Epoch 347, Train Loss: 0.9459, Validation Loss: 0.9828\n",
      "Validation loss decreased (0.982918 --> 0.982832).  Saving model ...\n",
      "Epoch 348, Train Loss: 0.9458, Validation Loss: 0.9829\n",
      "EarlyStopping counter: 1 out of 5\n",
      "Epoch 349, Train Loss: 0.9458, Validation Loss: 0.9829\n",
      "EarlyStopping counter: 2 out of 5\n",
      "Epoch 350, Train Loss: 0.9457, Validation Loss: 0.9828\n",
      "Validation loss decreased (0.982832 --> 0.982819).  Saving model ...\n",
      "Epoch 351, Train Loss: 0.9457, Validation Loss: 0.9828\n",
      "EarlyStopping counter: 1 out of 5\n",
      "Epoch 352, Train Loss: 0.9456, Validation Loss: 0.9828\n",
      "Validation loss decreased (0.982819 --> 0.982797).  Saving model ...\n",
      "Epoch 353, Train Loss: 0.9456, Validation Loss: 0.9827\n",
      "Validation loss decreased (0.982797 --> 0.982694).  Saving model ...\n",
      "Epoch 354, Train Loss: 0.9456, Validation Loss: 0.9827\n",
      "Validation loss decreased (0.982694 --> 0.982674).  Saving model ...\n",
      "Epoch 355, Train Loss: 0.9455, Validation Loss: 0.9827\n",
      "EarlyStopping counter: 1 out of 5\n",
      "Epoch 356, Train Loss: 0.9455, Validation Loss: 0.9826\n",
      "Validation loss decreased (0.982674 --> 0.982619).  Saving model ...\n",
      "Epoch 357, Train Loss: 0.9454, Validation Loss: 0.9825\n",
      "Validation loss decreased (0.982619 --> 0.982523).  Saving model ...\n",
      "Epoch 358, Train Loss: 0.9454, Validation Loss: 0.9825\n",
      "Validation loss decreased (0.982523 --> 0.982515).  Saving model ...\n",
      "Epoch 359, Train Loss: 0.9454, Validation Loss: 0.9825\n",
      "Validation loss decreased (0.982515 --> 0.982486).  Saving model ...\n",
      "Epoch 360, Train Loss: 0.9453, Validation Loss: 0.9825\n",
      "Validation loss decreased (0.982486 --> 0.982483).  Saving model ...\n",
      "Epoch 361, Train Loss: 0.9453, Validation Loss: 0.9824\n",
      "Validation loss decreased (0.982483 --> 0.982404).  Saving model ...\n",
      "Epoch 362, Train Loss: 0.9452, Validation Loss: 0.9824\n",
      "Validation loss decreased (0.982404 --> 0.982355).  Saving model ...\n",
      "Epoch 363, Train Loss: 0.9452, Validation Loss: 0.9824\n",
      "Validation loss decreased (0.982355 --> 0.982353).  Saving model ...\n",
      "Epoch 364, Train Loss: 0.9451, Validation Loss: 0.9823\n",
      "Validation loss decreased (0.982353 --> 0.982314).  Saving model ...\n",
      "Epoch 365, Train Loss: 0.9451, Validation Loss: 0.9824\n",
      "EarlyStopping counter: 1 out of 5\n",
      "Epoch 366, Train Loss: 0.9451, Validation Loss: 0.9823\n",
      "EarlyStopping counter: 2 out of 5\n",
      "Epoch 367, Train Loss: 0.9450, Validation Loss: 0.9823\n",
      "Validation loss decreased (0.982314 --> 0.982304).  Saving model ...\n",
      "Epoch 368, Train Loss: 0.9450, Validation Loss: 0.9822\n",
      "Validation loss decreased (0.982304 --> 0.982244).  Saving model ...\n",
      "Epoch 369, Train Loss: 0.9449, Validation Loss: 0.9822\n",
      "Validation loss decreased (0.982244 --> 0.982227).  Saving model ...\n",
      "Epoch 370, Train Loss: 0.9449, Validation Loss: 0.9822\n",
      "Validation loss decreased (0.982227 --> 0.982168).  Saving model ...\n",
      "Epoch 371, Train Loss: 0.9449, Validation Loss: 0.9821\n",
      "Validation loss decreased (0.982168 --> 0.982092).  Saving model ...\n",
      "Epoch 372, Train Loss: 0.9448, Validation Loss: 0.9822\n",
      "EarlyStopping counter: 1 out of 5\n",
      "Epoch 373, Train Loss: 0.9448, Validation Loss: 0.9821\n",
      "Validation loss decreased (0.982092 --> 0.982072).  Saving model ...\n",
      "Epoch 374, Train Loss: 0.9447, Validation Loss: 0.9821\n",
      "EarlyStopping counter: 1 out of 5\n",
      "Epoch 375, Train Loss: 0.9447, Validation Loss: 0.9821\n",
      "EarlyStopping counter: 2 out of 5\n",
      "Epoch 376, Train Loss: 0.9447, Validation Loss: 0.9820\n",
      "Validation loss decreased (0.982072 --> 0.981964).  Saving model ...\n",
      "Epoch 377, Train Loss: 0.9446, Validation Loss: 0.9819\n",
      "Validation loss decreased (0.981964 --> 0.981936).  Saving model ...\n",
      "Epoch 378, Train Loss: 0.9446, Validation Loss: 0.9820\n",
      "EarlyStopping counter: 1 out of 5\n",
      "Epoch 379, Train Loss: 0.9446, Validation Loss: 0.9820\n",
      "EarlyStopping counter: 2 out of 5\n",
      "Epoch 380, Train Loss: 0.9445, Validation Loss: 0.9819\n",
      "Validation loss decreased (0.981936 --> 0.981927).  Saving model ...\n",
      "Epoch 381, Train Loss: 0.9445, Validation Loss: 0.9819\n",
      "Validation loss decreased (0.981927 --> 0.981892).  Saving model ...\n",
      "Epoch 382, Train Loss: 0.9445, Validation Loss: 0.9817\n",
      "Validation loss decreased (0.981892 --> 0.981737).  Saving model ...\n",
      "Epoch 383, Train Loss: 0.9444, Validation Loss: 0.9817\n",
      "EarlyStopping counter: 1 out of 5\n",
      "Epoch 384, Train Loss: 0.9444, Validation Loss: 0.9817\n",
      "Validation loss decreased (0.981737 --> 0.981682).  Saving model ...\n",
      "Epoch 385, Train Loss: 0.9443, Validation Loss: 0.9817\n",
      "Validation loss decreased (0.981682 --> 0.981650).  Saving model ...\n",
      "Epoch 386, Train Loss: 0.9443, Validation Loss: 0.9817\n",
      "EarlyStopping counter: 1 out of 5\n",
      "Epoch 387, Train Loss: 0.9443, Validation Loss: 0.9817\n",
      "EarlyStopping counter: 2 out of 5\n",
      "Epoch 388, Train Loss: 0.9442, Validation Loss: 0.9817\n",
      "EarlyStopping counter: 3 out of 5\n",
      "Epoch 389, Train Loss: 0.9442, Validation Loss: 0.9816\n",
      "Validation loss decreased (0.981650 --> 0.981605).  Saving model ...\n",
      "Epoch 390, Train Loss: 0.9441, Validation Loss: 0.9815\n",
      "Validation loss decreased (0.981605 --> 0.981524).  Saving model ...\n",
      "Epoch 391, Train Loss: 0.9441, Validation Loss: 0.9815\n",
      "Validation loss decreased (0.981524 --> 0.981473).  Saving model ...\n",
      "Epoch 392, Train Loss: 0.9441, Validation Loss: 0.9815\n",
      "EarlyStopping counter: 1 out of 5\n",
      "Epoch 393, Train Loss: 0.9440, Validation Loss: 0.9815\n",
      "EarlyStopping counter: 2 out of 5\n",
      "Epoch 394, Train Loss: 0.9440, Validation Loss: 0.9815\n",
      "EarlyStopping counter: 3 out of 5\n",
      "Epoch 395, Train Loss: 0.9440, Validation Loss: 0.9815\n",
      "EarlyStopping counter: 4 out of 5\n",
      "Epoch 396, Train Loss: 0.9439, Validation Loss: 0.9815\n",
      "EarlyStopping counter: 5 out of 5\n",
      "Early stopping\n"
     ]
    },
    {
     "data": {
      "image/png": "[encoded data removed]",
      "text/plain": [
       "<Figure size 1000x500 with 1 Axes>"
      ]
     },
     "metadata": {},
     "output_type": "display_data"
    }
   ],
   "source": [
    "def training(epochs):\n",
    "    loss_ = []\n",
    "    valoss_ = []\n",
    "\n",
    "    for epoch in range(epochs):\n",
    "        running_train_loss = 0.0\n",
    "        running_vall_loss = 0.0\n",
    "\n",
    "        # Training process\n",
    "        for data in trainloader:\n",
    "            model.train()\n",
    "            inputs = data                                                           # Assuming data is the input tensor\n",
    "            inputs = inputs.to(device)\n",
    "            optimizer.zero_grad()\n",
    "            predicted_outputs = model(inputs)\n",
    "            train_loss = criterion(predicted_outputs, inputs)\n",
    "            train_loss.backward()\n",
    "            optimizer.step()\n",
    "            running_train_loss += train_loss.item()\n",
    "\n",
    "        # Calculate average training loss for the epoch\n",
    "        avg_train_loss = running_train_loss / len(trainloader)\n",
    "        loss_.append(avg_train_loss)\n",
    "        \n",
    "        # Validation process\n",
    "        with torch.no_grad():\n",
    "            model.eval()\n",
    "            for data in validloader:\n",
    "                inputs = data\n",
    "                inputs = inputs.to(device)\n",
    "                predicted_outputs = model(inputs)\n",
    "                val_loss = criterion(predicted_outputs, inputs)\n",
    "                running_vall_loss += val_loss.item()\n",
    "\n",
    "            avg_val_loss = running_vall_loss / len(validloader)\n",
    "            valoss_.append(avg_val_loss)\n",
    "\n",
    "        print(f'Epoch {epoch + 1}, Train Loss: {avg_train_loss:.4f}, Validation Loss: {avg_val_loss:.4f}')\n",
    "        \n",
    "        # Early Stopping\n",
    "        early_stopping(avg_val_loss, model)\n",
    "        if early_stopping.early_stop:\n",
    "            print(\"Early stopping\")\n",
    "            break\n",
    " \n",
    "    # Save model\n",
    "    saveModel()\n",
    "    return loss_, valoss_  # Return the collected loss values for training and validation\n",
    "\n",
    "# Now when you call training, it will return the lists to be unpacked.\n",
    "loss_, valoss_ = training(epochs=400)  # Set the appropriate number of epochs\n",
    "\n",
    "# Loss visualization\n",
    "plt.figure(figsize=(10, 5))\n",
    "plt.plot(loss_, label='Train Loss')\n",
    "plt.plot(valoss_, label='Validation Loss')\n",
    "plt.xlabel('Epochs')\n",
    "plt.ylabel('Loss')\n",
    "plt.legend()\n",
    "plt.show()"
   ]
  },
  {
   "cell_type": "markdown",
   "metadata": {},
   "source": [
    "#### 모델 불러오기"
   ]
  },
  {
   "cell_type": "code",
   "execution_count": 26,
   "metadata": {},
   "outputs": [],
   "source": [
    "# model.load_state_dict(torch.load('model_lstm_autoencoder_AR(2).pt', map_location=torch.device('cpu')))"
   ]
  },
  {
   "cell_type": "markdown",
   "metadata": {},
   "source": [
    "#### ARL0 함수"
   ]
  },
  {
   "cell_type": "code",
   "execution_count": 35,
   "metadata": {},
   "outputs": [],
   "source": [
    "np.random.seed(1)\n",
    "\n",
    "l = 12 # 윈도우 사이즈\n",
    "\n",
    "def ar2gen(phi1, phi2, psi, delta,gamma, length) :\n",
    "\n",
    "    e = np.random.normal(loc=0, scale = 1,size = length)\n",
    "    sigma = math.sqrt((1 - phi2) / ((1 + phi2) * (1 - phi2 - phi1) * (1 - phi2 + phi1)))\n",
    "    x = np.array(np.repeat(0, length), dtype= np.float64)\n",
    "    x[0] = e[0]\n",
    "    z = np.array(np.repeat(0, length), dtype=np.float64)\n",
    "\n",
    "    for i in range(2, psi):\n",
    "        x[i] = phi1 * x[i - 1] + phi2 * x[i - 2] + e[i]\n",
    "        z[i] = x[i]\n",
    "    for i in range(psi,len(x)):\n",
    "        x[i] = phi1 * x[i - 1] + phi2 * x[i - 2] + gamma*e[i]\n",
    "        z[i] = x[i]\n",
    "    for i in range(psi,len(z)):\n",
    "        z[i] = z[i] + delta * sigma\n",
    "\n",
    "    return z"
   ]
  },
  {
   "cell_type": "code",
   "execution_count": 36,
   "metadata": {},
   "outputs": [],
   "source": [
    "def arl(phi1, phi2, delta, gamma, run, length, cl) :\n",
    "    rl = np.array([], dtype=np.float64)\n",
    "    \n",
    "    for i in tqdm(range(run)) :\n",
    "        y = ar2gen(phi1, phi2, psi=l-1, delta=delta, gamma = gamma,length=length)\n",
    "        a = np.array([length-l])\n",
    "        x = np.zeros(shape=(length-l, l))\n",
    "        for j in range(length-l):\n",
    "            x[j] = y[j: j + l]\n",
    "        x = torch.FloatTensor(x).to(device)\n",
    "\n",
    "        model.eval()\n",
    "        with torch.no_grad():\n",
    "            for j in range(0,len(x)):\n",
    "                input = x[[j]]\n",
    "\n",
    "                output = model(input)\n",
    "                \n",
    "                mse_loss = nn.MSELoss()\n",
    "                loss = mse_loss(output[0], input[0])\n",
    "\n",
    "                if loss > cl :\n",
    "\n",
    "                    a = np.array([j + 1])\n",
    "                    break\n",
    "                elif j == len(x):\n",
    "                    a = len(x)\n",
    "\n",
    "            rl = np.append(rl,a)\n",
    "\n",
    "    arl = np.mean(rl)\n",
    "    return arl\n"
   ]
  },
  {
   "cell_type": "markdown",
   "metadata": {},
   "source": [
    "#### ARL1 함수"
   ]
  },
  {
   "cell_type": "code",
   "execution_count": 37,
   "metadata": {},
   "outputs": [],
   "source": [
    "def arl1(phi1, phi2, run, length, cl):\n",
    "    a5 = arl(phi1, phi2, 0.5, 1, run, length, cl)\n",
    "    a1 = arl(phi1, phi2, 1, 1, run, length, cl)\n",
    "    a2 = arl(phi1, phi2, 2, 1, run, length, cl)\n",
    "    a3 = arl(phi1, phi2, 3, 1, run, length, cl)\n",
    "    b5 = arl(phi1, phi2, 0.5, 1.5,run, length, cl)\n",
    "    b1 = arl(phi1, phi2, 1, 1.5, run, length, cl)\n",
    "    b2 = arl(phi1, phi2, 2, 1.5, run, length, cl)\n",
    "    b3 = arl(phi1, phi2, 3, 1, run, length, cl)\n",
    "    c1 = arl(phi1, phi2, 0, 1.5, run, length, cl)\n",
    "    c2 = arl(phi1, phi2, 0, 2, run, length, cl)\n",
    "    c3 = arl(phi1, phi2, 0, 3, run, length, cl)\n",
    "    print(f'0.5: {a5}, 1:{a1},2:{a2},3:{a3}')\n",
    "    print(f'0.5:{b5},1:{b1},2:{b2},3:{b3}')\n",
    "    print(f'1.5:{c1},2:{c2},3:{c3}')"
   ]
  },
  {
   "cell_type": "markdown",
   "metadata": {},
   "source": [
    "#### Case 1) phi1 = 0, phi2 = 0.1 일 때"
   ]
  },
  {
   "cell_type": "markdown",
   "metadata": {},
   "source": [
    "##### ARL0 (threshold 임의추정)"
   ]
  },
  {
   "cell_type": "code",
   "execution_count": 38,
   "metadata": {},
   "outputs": [
    {
     "name": "stderr",
     "output_type": "stream",
     "text": [
      "  0%|          | 0/1000 [00:00<?, ?it/s]/opt/homebrew/Caskroom/miniforge/base/envs/python3119/lib/python3.11/site-packages/torch/nn/modules/loss.py:535: UserWarning: Using a target size (torch.Size([12])) that is different to the input size (torch.Size([12, 12])). This will likely lead to incorrect results due to broadcasting. Please ensure they have the same size.\n",
      "  return F.mse_loss(input, target, reduction=self.reduction)\n",
      "100%|██████████| 1000/1000 [03:38<00:00,  4.58it/s]\n"
     ]
    },
    {
     "data": {
      "text/plain": [
       "423.582"
      ]
     },
     "execution_count": 38,
     "metadata": {},
     "output_type": "execute_result"
    }
   ],
   "source": [
    "# threshold 2.13\n",
    "arl(phi1=0, phi2=0.1, delta = 0, gamma = 1, run = 1000, length = 1000, cl = 2.13)"
   ]
  },
  {
   "cell_type": "markdown",
   "metadata": {},
   "source": [
    "##### ARL1"
   ]
  },
  {
   "cell_type": "code",
   "execution_count": 39,
   "metadata": {},
   "outputs": [
    {
     "name": "stderr",
     "output_type": "stream",
     "text": [
      "100%|██████████| 1000/1000 [03:02<00:00,  5.48it/s]\n",
      "100%|██████████| 1000/1000 [01:44<00:00,  9.53it/s]\n",
      "100%|██████████| 1000/1000 [00:14<00:00, 68.26it/s]\n",
      "100%|██████████| 1000/1000 [00:03<00:00, 310.08it/s]\n",
      "100%|██████████| 1000/1000 [00:09<00:00, 104.21it/s]\n",
      "100%|██████████| 1000/1000 [00:08<00:00, 119.81it/s]\n",
      "100%|██████████| 1000/1000 [00:05<00:00, 197.40it/s]\n",
      "100%|██████████| 1000/1000 [00:03<00:00, 318.66it/s]\n",
      "100%|██████████| 1000/1000 [00:10<00:00, 93.06it/s]\n",
      "100%|██████████| 1000/1000 [00:04<00:00, 205.83it/s]\n",
      "100%|██████████| 1000/1000 [00:03<00:00, 328.34it/s]"
     ]
    },
    {
     "name": "stdout",
     "output_type": "stream",
     "text": [
      "0.5: 349.642, 1:188.634,2:24.714,3:3.936\n",
      "0.5:15.39,1:13.097,2:7.255,3:3.783\n",
      "1.5:17.593,2:7.128,3:3.844\n"
     ]
    },
    {
     "name": "stderr",
     "output_type": "stream",
     "text": [
      "\n"
     ]
    }
   ],
   "source": [
    "arl1(phi1=0, phi2=0.1, run=1000, length=1000, cl= 2.13)"
   ]
  },
  {
   "cell_type": "markdown",
   "metadata": {},
   "source": [
    "#### Case 2) phi1 = 0.25, phi2 = 0.2 일 때"
   ]
  },
  {
   "cell_type": "markdown",
   "metadata": {},
   "source": [
    "##### ARL0 (threshold 임의추정)"
   ]
  },
  {
   "cell_type": "code",
   "execution_count": null,
   "metadata": {},
   "outputs": [
    {
     "name": "stderr",
     "output_type": "stream",
     "text": [
      "  0%|          | 0/1000 [00:00<?, ?it/s]/opt/homebrew/Caskroom/miniforge/base/envs/python3119/lib/python3.11/site-packages/torch/nn/modules/loss.py:535: UserWarning: Using a target size (torch.Size([12])) that is different to the input size (torch.Size([12, 12])). This will likely lead to incorrect results due to broadcasting. Please ensure they have the same size.\n",
      "  return F.mse_loss(input, target, reduction=self.reduction)\n",
      "100%|██████████| 1000/1000 [03:38<00:00,  4.58it/s]\n"
     ]
    },
    {
     "data": {
      "text/plain": [
       "423.582"
      ]
     },
     "metadata": {},
     "output_type": "display_data"
    }
   ],
   "source": [
    "# threshold 2.277\n",
    "arl(phi1=0.25, phi2=0.2, delta = 0, gamma = 1, run = 1000, length = 1000, cl = 2.277)"
   ]
  },
  {
   "cell_type": "markdown",
   "metadata": {},
   "source": [
    "##### ARL1"
   ]
  },
  {
   "cell_type": "code",
   "execution_count": null,
   "metadata": {},
   "outputs": [],
   "source": [
    "arl1(phi1=0.25, phi2=0.2, run=1000, length=1000, cl= 2.277)"
   ]
  },
  {
   "cell_type": "markdown",
   "metadata": {},
   "source": [
    "#### Case 3) phi1 = 0.4, phi2 = 0.3 일 때"
   ]
  },
  {
   "cell_type": "markdown",
   "metadata": {},
   "source": [
    "##### ARL0 (threshold 임의추정)"
   ]
  },
  {
   "cell_type": "code",
   "execution_count": null,
   "metadata": {},
   "outputs": [
    {
     "name": "stderr",
     "output_type": "stream",
     "text": [
      "  0%|          | 0/1000 [00:00<?, ?it/s]/opt/homebrew/Caskroom/miniforge/base/envs/python3119/lib/python3.11/site-packages/torch/nn/modules/loss.py:535: UserWarning: Using a target size (torch.Size([12])) that is different to the input size (torch.Size([12, 12])). This will likely lead to incorrect results due to broadcasting. Please ensure they have the same size.\n",
      "  return F.mse_loss(input, target, reduction=self.reduction)\n",
      "100%|██████████| 1000/1000 [03:38<00:00,  4.58it/s]\n"
     ]
    },
    {
     "data": {
      "text/plain": [
       "423.582"
      ]
     },
     "metadata": {},
     "output_type": "display_data"
    }
   ],
   "source": [
    "# threshold 2.94\n",
    "arl(phi1=0.4, phi2=0.3, delta = 0, gamma = 1, run = 1000, length = 1000, cl = 2.94)"
   ]
  },
  {
   "cell_type": "markdown",
   "metadata": {},
   "source": [
    "##### ARL1"
   ]
  },
  {
   "cell_type": "code",
   "execution_count": null,
   "metadata": {},
   "outputs": [],
   "source": [
    "arl1(phi1=0.4, phi2=0.3, run=1000, length=1000, cl= 2.94)"
   ]
  },
  {
   "cell_type": "markdown",
   "metadata": {},
   "source": [
    "#### Case 4) phi1 = 0.6, phi2 = 0.2 일 때"
   ]
  },
  {
   "cell_type": "markdown",
   "metadata": {},
   "source": [
    "##### ARL0 (threshold 임의추정)"
   ]
  },
  {
   "cell_type": "code",
   "execution_count": null,
   "metadata": {},
   "outputs": [
    {
     "name": "stderr",
     "output_type": "stream",
     "text": [
      "  0%|          | 0/1000 [00:00<?, ?it/s]/opt/homebrew/Caskroom/miniforge/base/envs/python3119/lib/python3.11/site-packages/torch/nn/modules/loss.py:535: UserWarning: Using a target size (torch.Size([12])) that is different to the input size (torch.Size([12, 12])). This will likely lead to incorrect results due to broadcasting. Please ensure they have the same size.\n",
      "  return F.mse_loss(input, target, reduction=self.reduction)\n",
      "100%|██████████| 1000/1000 [03:38<00:00,  4.58it/s]\n"
     ]
    },
    {
     "data": {
      "text/plain": [
       "423.582"
      ]
     },
     "metadata": {},
     "output_type": "display_data"
    }
   ],
   "source": [
    "# threshold 3.98\n",
    "arl(phi1=0.6, phi2=0.2, delta = 0, gamma = 1, run = 1000, length = 1000, cl = 3.98)"
   ]
  },
  {
   "cell_type": "markdown",
   "metadata": {},
   "source": [
    "##### ARL1"
   ]
  },
  {
   "cell_type": "code",
   "execution_count": null,
   "metadata": {},
   "outputs": [],
   "source": [
    "arl1(phi1=0.6, phi2=0.2, run=1000, length=1000, cl= 3.98)"
   ]
  },
  {
   "cell_type": "markdown",
   "metadata": {},
   "source": [
    "#### Case 5) phi1 = 0.8, phi2 = 0.1 일 때"
   ]
  },
  {
   "cell_type": "markdown",
   "metadata": {},
   "source": [
    "##### ARL0 (threshold 임의추정)"
   ]
  },
  {
   "cell_type": "code",
   "execution_count": null,
   "metadata": {},
   "outputs": [
    {
     "name": "stderr",
     "output_type": "stream",
     "text": [
      "  0%|          | 0/1000 [00:00<?, ?it/s]/opt/homebrew/Caskroom/miniforge/base/envs/python3119/lib/python3.11/site-packages/torch/nn/modules/loss.py:535: UserWarning: Using a target size (torch.Size([12])) that is different to the input size (torch.Size([12, 12])). This will likely lead to incorrect results due to broadcasting. Please ensure they have the same size.\n",
      "  return F.mse_loss(input, target, reduction=self.reduction)\n",
      "100%|██████████| 1000/1000 [03:38<00:00,  4.58it/s]\n"
     ]
    },
    {
     "data": {
      "text/plain": [
       "423.582"
      ]
     },
     "metadata": {},
     "output_type": "display_data"
    }
   ],
   "source": [
    "# threshold 5.9\n",
    "arl(phi1=0.8, phi2=0.1, delta = 0, gamma = 1, run = 1000, length = 1000, cl = 5.9)"
   ]
  },
  {
   "cell_type": "markdown",
   "metadata": {},
   "source": [
    "##### ARL1"
   ]
  },
  {
   "cell_type": "code",
   "execution_count": null,
   "metadata": {},
   "outputs": [],
   "source": [
    "arl1(phi1=0.8, phi2=0.1, run=1000, length=1000, cl= 5.9)"
   ]
  }
 ],
 "metadata": {
  "kernelspec": {
   "display_name": "python3119",
   "language": "python",
   "name": "python3"
  },
  "language_info": {
   "codemirror_mode": {
    "name": "ipython",
    "version": 3
   },
   "file_extension": ".py",
   "mimetype": "text/x-python",
   "name": "python",
   "nbconvert_exporter": "python",
   "pygments_lexer": "ipython3",
   "version": "3.11.9"
  }
 },
 "nbformat": 4,
 "nbformat_minor": 2
}
